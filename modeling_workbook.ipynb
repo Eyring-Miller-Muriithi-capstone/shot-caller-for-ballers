{
 "cells": [
  {
   "cell_type": "markdown",
   "id": "40999848",
   "metadata": {},
   "source": [
    "# Modeling Workbook\n",
    "\n",
    "### General League-wide Model & Individual Player Model\n",
    "### Note: Due to time required for modeling much of this is markdowned out."
   ]
  },
  {
   "cell_type": "code",
   "execution_count": 1,
   "id": "0089402a",
   "metadata": {},
   "outputs": [
    {
     "name": "stderr",
     "output_type": "stream",
     "text": [
      "/opt/homebrew/anaconda3/lib/python3.9/site-packages/scipy/__init__.py:146: UserWarning: A NumPy version >=1.16.5 and <1.23.0 is required for this version of SciPy (detected version 1.23.0\n",
      "  warnings.warn(f\"A NumPy version >={np_minversion} and <{np_maxversion}\"\n"
     ]
    }
   ],
   "source": [
    "import pandas as pd\n",
    "import json\n",
    "import sklearn.metrics as metrics\n",
    "from itertools import product\n",
    "\n",
    "from sklearn.model_selection import train_test_split #from splitter import splitter\n",
    "\n",
    "from sklearn.linear_model import LogisticRegression\n",
    "from sklearn.neighbors import KNeighborsClassifier\n",
    "from sklearn.tree import DecisionTreeClassifier\n",
    "from sklearn.ensemble import RandomForestClassifier, ExtraTreesClassifier\n",
    "from sklearn.ensemble import BaggingClassifier\n",
    "\n",
    "from wrangle import wrangle_prep\n",
    "from wrangle import wrangle_prep_player\n",
    "from modeling import baseline_model_maker\n",
    "from modeling import model_maker\n",
    "from modeling import test_model\n",
    "\n",
    "import warnings\n",
    "warnings.filterwarnings('ignore')\n",
    "pd.set_option('display.max_columns', None)\n",
    "%load_ext autoreload\n",
    "%autoreload"
   ]
  },
  {
   "cell_type": "markdown",
   "id": "60de7db5",
   "metadata": {},
   "source": [
    "# I. General Player Model"
   ]
  },
  {
   "cell_type": "markdown",
   "id": "2b595cf1",
   "metadata": {},
   "source": [
    "### 1. Acquire wrangled (split, encoded and scaled) dataframe"
   ]
  },
  {
   "cell_type": "code",
   "execution_count": 2,
   "id": "029f94b7",
   "metadata": {},
   "outputs": [
    {
     "name": "stdout",
     "output_type": "stream",
     "text": [
      "Train = 47167 rows (56.0%) | Validate = 20215 rows (24.0%) | Test = 16846 rows (20.0%)\n"
     ]
    }
   ],
   "source": [
    "df, df_outlier_3pt, X_train_exp, X_train, y_train, X_validate, y_validate, X_test, y_test = wrangle_prep()"
   ]
  },
  {
   "cell_type": "code",
   "execution_count": 3,
   "id": "b5275aa4",
   "metadata": {},
   "outputs": [
    {
     "data": {
      "text/html": [
       "<div>\n",
       "<style scoped>\n",
       "    .dataframe tbody tr th:only-of-type {\n",
       "        vertical-align: middle;\n",
       "    }\n",
       "\n",
       "    .dataframe tbody tr th {\n",
       "        vertical-align: top;\n",
       "    }\n",
       "\n",
       "    .dataframe thead th {\n",
       "        text-align: right;\n",
       "    }\n",
       "</style>\n",
       "<table border=\"1\" class=\"dataframe\">\n",
       "  <thead>\n",
       "    <tr style=\"text-align: right;\">\n",
       "      <th></th>\n",
       "      <th>abs_time</th>\n",
       "      <th>play_time</th>\n",
       "      <th>since_rest</th>\n",
       "      <th>score_margin</th>\n",
       "      <th>points</th>\n",
       "      <th>games_played</th>\n",
       "      <th>tm_v2</th>\n",
       "      <th>distance</th>\n",
       "      <th>zone_Center</th>\n",
       "      <th>zone_L Above Break</th>\n",
       "      <th>zone_L Below Break/Corner</th>\n",
       "      <th>zone_L Center</th>\n",
       "      <th>zone_R Above Break</th>\n",
       "      <th>zone_R Below Break/Corner</th>\n",
       "      <th>zone_R Center</th>\n",
       "      <th>period_4</th>\n",
       "    </tr>\n",
       "  </thead>\n",
       "  <tbody>\n",
       "    <tr>\n",
       "      <th>77133</th>\n",
       "      <td>0.639743</td>\n",
       "      <td>0.733971</td>\n",
       "      <td>0.086698</td>\n",
       "      <td>0.470588</td>\n",
       "      <td>0.000000</td>\n",
       "      <td>0.0375</td>\n",
       "      <td>0.350000</td>\n",
       "      <td>0.499298</td>\n",
       "      <td>0</td>\n",
       "      <td>0</td>\n",
       "      <td>1</td>\n",
       "      <td>0</td>\n",
       "      <td>0</td>\n",
       "      <td>0</td>\n",
       "      <td>0</td>\n",
       "      <td>1</td>\n",
       "    </tr>\n",
       "    <tr>\n",
       "      <th>10088</th>\n",
       "      <td>0.099224</td>\n",
       "      <td>0.114471</td>\n",
       "      <td>0.137397</td>\n",
       "      <td>0.522876</td>\n",
       "      <td>0.000000</td>\n",
       "      <td>0.2750</td>\n",
       "      <td>1.733049</td>\n",
       "      <td>0.732245</td>\n",
       "      <td>0</td>\n",
       "      <td>0</td>\n",
       "      <td>0</td>\n",
       "      <td>0</td>\n",
       "      <td>1</td>\n",
       "      <td>0</td>\n",
       "      <td>0</td>\n",
       "      <td>0</td>\n",
       "    </tr>\n",
       "    <tr>\n",
       "      <th>64509</th>\n",
       "      <td>0.204065</td>\n",
       "      <td>0.235421</td>\n",
       "      <td>0.182259</td>\n",
       "      <td>0.431373</td>\n",
       "      <td>0.078947</td>\n",
       "      <td>0.3875</td>\n",
       "      <td>0.430970</td>\n",
       "      <td>0.542206</td>\n",
       "      <td>0</td>\n",
       "      <td>0</td>\n",
       "      <td>0</td>\n",
       "      <td>0</td>\n",
       "      <td>1</td>\n",
       "      <td>0</td>\n",
       "      <td>0</td>\n",
       "      <td>0</td>\n",
       "    </tr>\n",
       "    <tr>\n",
       "      <th>28690</th>\n",
       "      <td>0.531426</td>\n",
       "      <td>0.531317</td>\n",
       "      <td>0.420068</td>\n",
       "      <td>0.431373</td>\n",
       "      <td>0.184211</td>\n",
       "      <td>0.2125</td>\n",
       "      <td>1.330409</td>\n",
       "      <td>0.556523</td>\n",
       "      <td>1</td>\n",
       "      <td>0</td>\n",
       "      <td>0</td>\n",
       "      <td>0</td>\n",
       "      <td>0</td>\n",
       "      <td>0</td>\n",
       "      <td>0</td>\n",
       "      <td>0</td>\n",
       "    </tr>\n",
       "    <tr>\n",
       "      <th>39117</th>\n",
       "      <td>0.017384</td>\n",
       "      <td>0.020056</td>\n",
       "      <td>0.025787</td>\n",
       "      <td>0.483660</td>\n",
       "      <td>0.000000</td>\n",
       "      <td>0.0500</td>\n",
       "      <td>1.565385</td>\n",
       "      <td>0.124159</td>\n",
       "      <td>0</td>\n",
       "      <td>0</td>\n",
       "      <td>0</td>\n",
       "      <td>0</td>\n",
       "      <td>0</td>\n",
       "      <td>1</td>\n",
       "      <td>0</td>\n",
       "      <td>0</td>\n",
       "    </tr>\n",
       "    <tr>\n",
       "      <th>...</th>\n",
       "      <td>...</td>\n",
       "      <td>...</td>\n",
       "      <td>...</td>\n",
       "      <td>...</td>\n",
       "      <td>...</td>\n",
       "      <td>...</td>\n",
       "      <td>...</td>\n",
       "      <td>...</td>\n",
       "      <td>...</td>\n",
       "      <td>...</td>\n",
       "      <td>...</td>\n",
       "      <td>...</td>\n",
       "      <td>...</td>\n",
       "      <td>...</td>\n",
       "      <td>...</td>\n",
       "      <td>...</td>\n",
       "    </tr>\n",
       "    <tr>\n",
       "      <th>459</th>\n",
       "      <td>0.581706</td>\n",
       "      <td>0.509719</td>\n",
       "      <td>0.065543</td>\n",
       "      <td>0.437908</td>\n",
       "      <td>0.118421</td>\n",
       "      <td>0.0125</td>\n",
       "      <td>2.031250</td>\n",
       "      <td>0.283530</td>\n",
       "      <td>0</td>\n",
       "      <td>0</td>\n",
       "      <td>0</td>\n",
       "      <td>0</td>\n",
       "      <td>0</td>\n",
       "      <td>1</td>\n",
       "      <td>0</td>\n",
       "      <td>1</td>\n",
       "    </tr>\n",
       "    <tr>\n",
       "      <th>75741</th>\n",
       "      <td>0.684675</td>\n",
       "      <td>0.527306</td>\n",
       "      <td>0.147974</td>\n",
       "      <td>0.503268</td>\n",
       "      <td>0.131579</td>\n",
       "      <td>0.3750</td>\n",
       "      <td>1.313630</td>\n",
       "      <td>0.521001</td>\n",
       "      <td>0</td>\n",
       "      <td>0</td>\n",
       "      <td>0</td>\n",
       "      <td>0</td>\n",
       "      <td>1</td>\n",
       "      <td>0</td>\n",
       "      <td>0</td>\n",
       "      <td>1</td>\n",
       "    </tr>\n",
       "    <tr>\n",
       "      <th>38630</th>\n",
       "      <td>0.364269</td>\n",
       "      <td>0.281086</td>\n",
       "      <td>0.076850</td>\n",
       "      <td>0.320261</td>\n",
       "      <td>0.026316</td>\n",
       "      <td>0.0125</td>\n",
       "      <td>0.600000</td>\n",
       "      <td>0.607010</td>\n",
       "      <td>1</td>\n",
       "      <td>0</td>\n",
       "      <td>0</td>\n",
       "      <td>0</td>\n",
       "      <td>0</td>\n",
       "      <td>0</td>\n",
       "      <td>0</td>\n",
       "      <td>0</td>\n",
       "    </tr>\n",
       "    <tr>\n",
       "      <th>22961</th>\n",
       "      <td>0.730142</td>\n",
       "      <td>0.489972</td>\n",
       "      <td>0.040376</td>\n",
       "      <td>0.542484</td>\n",
       "      <td>0.118421</td>\n",
       "      <td>0.1375</td>\n",
       "      <td>1.890625</td>\n",
       "      <td>0.631258</td>\n",
       "      <td>0</td>\n",
       "      <td>0</td>\n",
       "      <td>0</td>\n",
       "      <td>1</td>\n",
       "      <td>0</td>\n",
       "      <td>0</td>\n",
       "      <td>0</td>\n",
       "      <td>1</td>\n",
       "    </tr>\n",
       "    <tr>\n",
       "      <th>16251</th>\n",
       "      <td>0.068200</td>\n",
       "      <td>0.078679</td>\n",
       "      <td>0.095087</td>\n",
       "      <td>0.490196</td>\n",
       "      <td>0.052632</td>\n",
       "      <td>0.1625</td>\n",
       "      <td>1.294737</td>\n",
       "      <td>0.437952</td>\n",
       "      <td>0</td>\n",
       "      <td>0</td>\n",
       "      <td>0</td>\n",
       "      <td>0</td>\n",
       "      <td>1</td>\n",
       "      <td>0</td>\n",
       "      <td>0</td>\n",
       "      <td>0</td>\n",
       "    </tr>\n",
       "  </tbody>\n",
       "</table>\n",
       "<p>47167 rows × 16 columns</p>\n",
       "</div>"
      ],
      "text/plain": [
       "       abs_time  play_time  since_rest  score_margin    points  games_played  \\\n",
       "77133  0.639743   0.733971    0.086698      0.470588  0.000000        0.0375   \n",
       "10088  0.099224   0.114471    0.137397      0.522876  0.000000        0.2750   \n",
       "64509  0.204065   0.235421    0.182259      0.431373  0.078947        0.3875   \n",
       "28690  0.531426   0.531317    0.420068      0.431373  0.184211        0.2125   \n",
       "39117  0.017384   0.020056    0.025787      0.483660  0.000000        0.0500   \n",
       "...         ...        ...         ...           ...       ...           ...   \n",
       "459    0.581706   0.509719    0.065543      0.437908  0.118421        0.0125   \n",
       "75741  0.684675   0.527306    0.147974      0.503268  0.131579        0.3750   \n",
       "38630  0.364269   0.281086    0.076850      0.320261  0.026316        0.0125   \n",
       "22961  0.730142   0.489972    0.040376      0.542484  0.118421        0.1375   \n",
       "16251  0.068200   0.078679    0.095087      0.490196  0.052632        0.1625   \n",
       "\n",
       "          tm_v2  distance  zone_Center  zone_L Above Break  \\\n",
       "77133  0.350000  0.499298            0                   0   \n",
       "10088  1.733049  0.732245            0                   0   \n",
       "64509  0.430970  0.542206            0                   0   \n",
       "28690  1.330409  0.556523            1                   0   \n",
       "39117  1.565385  0.124159            0                   0   \n",
       "...         ...       ...          ...                 ...   \n",
       "459    2.031250  0.283530            0                   0   \n",
       "75741  1.313630  0.521001            0                   0   \n",
       "38630  0.600000  0.607010            1                   0   \n",
       "22961  1.890625  0.631258            0                   0   \n",
       "16251  1.294737  0.437952            0                   0   \n",
       "\n",
       "       zone_L Below Break/Corner  zone_L Center  zone_R Above Break  \\\n",
       "77133                          1              0                   0   \n",
       "10088                          0              0                   1   \n",
       "64509                          0              0                   1   \n",
       "28690                          0              0                   0   \n",
       "39117                          0              0                   0   \n",
       "...                          ...            ...                 ...   \n",
       "459                            0              0                   0   \n",
       "75741                          0              0                   1   \n",
       "38630                          0              0                   0   \n",
       "22961                          0              1                   0   \n",
       "16251                          0              0                   1   \n",
       "\n",
       "       zone_R Below Break/Corner  zone_R Center  period_4  \n",
       "77133                          0              0         1  \n",
       "10088                          0              0         0  \n",
       "64509                          0              0         0  \n",
       "28690                          0              0         0  \n",
       "39117                          1              0         0  \n",
       "...                          ...            ...       ...  \n",
       "459                            1              0         1  \n",
       "75741                          0              0         1  \n",
       "38630                          0              0         0  \n",
       "22961                          0              0         1  \n",
       "16251                          0              0         0  \n",
       "\n",
       "[47167 rows x 16 columns]"
      ]
     },
     "execution_count": 3,
     "metadata": {},
     "output_type": "execute_result"
    }
   ],
   "source": [
    "X_train"
   ]
  },
  {
   "cell_type": "markdown",
   "id": "41955c24",
   "metadata": {},
   "source": [
    "### 2. Establish leaguewide model baseline"
   ]
  },
  {
   "cell_type": "code",
   "execution_count": 4,
   "id": "8fcab056",
   "metadata": {},
   "outputs": [
    {
     "data": {
      "text/html": [
       "<div>\n",
       "<style scoped>\n",
       "    .dataframe tbody tr th:only-of-type {\n",
       "        vertical-align: middle;\n",
       "    }\n",
       "\n",
       "    .dataframe tbody tr th {\n",
       "        vertical-align: top;\n",
       "    }\n",
       "\n",
       "    .dataframe thead th {\n",
       "        text-align: right;\n",
       "    }\n",
       "</style>\n",
       "<table border=\"1\" class=\"dataframe\">\n",
       "  <thead>\n",
       "    <tr style=\"text-align: right;\">\n",
       "      <th></th>\n",
       "      <th>model</th>\n",
       "      <th>train_accuracy</th>\n",
       "      <th>validate_accuracy</th>\n",
       "    </tr>\n",
       "  </thead>\n",
       "  <tbody>\n",
       "    <tr>\n",
       "      <th>0</th>\n",
       "      <td>Baseline Model</td>\n",
       "      <td>0.642907</td>\n",
       "      <td>0.642938</td>\n",
       "    </tr>\n",
       "  </tbody>\n",
       "</table>\n",
       "</div>"
      ],
      "text/plain": [
       "            model  train_accuracy  validate_accuracy\n",
       "0  Baseline Model        0.642907           0.642938"
      ]
     },
     "execution_count": 4,
     "metadata": {},
     "output_type": "execute_result"
    }
   ],
   "source": [
    "baseline_model_maker(y_train, y_validate)[0]"
   ]
  },
  {
   "cell_type": "code",
   "execution_count": 5,
   "id": "31e1e8a4",
   "metadata": {},
   "outputs": [],
   "source": [
    "BASELINE_ACCURACY = baseline_model_maker(y_train, y_validate)[1]"
   ]
  },
  {
   "cell_type": "markdown",
   "id": "342b142d",
   "metadata": {},
   "source": [
    "### 3. Run model program on the dataset using 7 models types (including ensemble models) - 125 models total with hyperparameters."
   ]
  },
  {
   "cell_type": "code",
   "execution_count": 15,
   "id": "cdae3edb",
   "metadata": {},
   "outputs": [],
   "source": [
    "drop_list = ['abs_time','since_rest']"
   ]
  },
  {
   "cell_type": "markdown",
   "id": "6ee55d3e",
   "metadata": {},
   "source": [
    "models = model_maker(X_train, y_train, X_validate, y_validate, drop_list, baseline_acc = BASELINE_ACCURACY)"
   ]
  },
  {
   "cell_type": "markdown",
   "id": "743f847d",
   "metadata": {},
   "source": [
    "models[models.better_than_baseline == True].sort_values('validate_accuracy', ascending = False)"
   ]
  },
  {
   "cell_type": "markdown",
   "id": "8048d5f3",
   "metadata": {},
   "source": [
    "### 4. Use best model to test (note, must be manually entered)"
   ]
  },
  {
   "cell_type": "markdown",
   "id": "8ebb4475",
   "metadata": {},
   "source": [
    "output = test_model(X_train, y_train, X_validate, y_validate, X_test, y_test, drop_list, baseline_acc = BASELINE_ACCURACY)\n"
   ]
  },
  {
   "cell_type": "markdown",
   "id": "8cf158be",
   "metadata": {},
   "source": [
    "output"
   ]
  },
  {
   "cell_type": "markdown",
   "id": "fb558dd8",
   "metadata": {},
   "source": [
    "### 5. Create predictions csv [turn to function for final in modeling.py]"
   ]
  },
  {
   "cell_type": "markdown",
   "id": "55fdf65b",
   "metadata": {},
   "source": [
    "tree = DecisionTreeClassifier(max_depth=6, random_state=123)"
   ]
  },
  {
   "cell_type": "markdown",
   "id": "e47865cf",
   "metadata": {},
   "source": [
    "tree = tree.fit(X_train, y_train)"
   ]
  },
  {
   "cell_type": "markdown",
   "id": "ca7017db",
   "metadata": {},
   "source": [
    "y_tree_predict = tree.predict(X_test)"
   ]
  },
  {
   "cell_type": "markdown",
   "id": "67ae5172",
   "metadata": {},
   "source": [
    "y_tree_proba = tree.predict_proba(X_test)"
   ]
  },
  {
   "cell_type": "markdown",
   "id": "fb81ffc1",
   "metadata": {},
   "source": [
    "proba_df = pd.DataFrame(y_tree_proba, columns=tree.classes_.tolist()).round(4)"
   ]
  },
  {
   "cell_type": "markdown",
   "id": "9fc00cb9",
   "metadata": {},
   "source": [
    "reset_test = (pd.concat([X_test, y_test], axis = 1).reset_index())"
   ]
  },
  {
   "cell_type": "markdown",
   "id": "440de44f",
   "metadata": {},
   "source": [
    "test_proba_df = pd.concat([reset_test, proba_df], axis=1)"
   ]
  },
  {
   "cell_type": "markdown",
   "id": "74f6c5ea",
   "metadata": {},
   "source": [
    "test_proba_df = test_proba_df.merge(df, how = 'inner', left_on = 'index', right_index = True)"
   ]
  },
  {
   "cell_type": "markdown",
   "id": "47e332b0",
   "metadata": {},
   "source": [
    "test_proba_df['predicted'] = y_tree_predict"
   ]
  },
  {
   "cell_type": "markdown",
   "id": "b4ca4fd4",
   "metadata": {},
   "source": [
    "csv_df = test_proba_df[['player','index','Made Shot', 'Missed Shot', 'predicted','shot_result_x']]\n",
    "csv_df = csv_df.rename(columns = {'shot_result_x':'actual'})"
   ]
  },
  {
   "cell_type": "markdown",
   "id": "90d7b5be",
   "metadata": {},
   "source": [
    "csv_df.predicted.value_counts()"
   ]
  },
  {
   "cell_type": "markdown",
   "id": "279fb2fb",
   "metadata": {},
   "source": [
    "csv_df.info()\n",
    "csv_df.head()"
   ]
  },
  {
   "cell_type": "markdown",
   "id": "cc19606f",
   "metadata": {},
   "source": [
    "csv_df.to_csv('predictions.csv')"
   ]
  },
  {
   "cell_type": "markdown",
   "id": "4d6d1472",
   "metadata": {},
   "source": [
    "#### Altogether:"
   ]
  },
  {
   "cell_type": "markdown",
   "id": "6dbd0317",
   "metadata": {},
   "source": [
    "from modeling import predictions_generator"
   ]
  },
  {
   "cell_type": "markdown",
   "id": "436a751b",
   "metadata": {},
   "source": [
    "predictions_generator(df, X_train, y_train, X_test, y_test)"
   ]
  },
  {
   "cell_type": "markdown",
   "id": "f1bce72a",
   "metadata": {},
   "source": [
    "# II. By-player model exploration"
   ]
  },
  {
   "cell_type": "markdown",
   "id": "4bfd9926",
   "metadata": {},
   "source": [
    "### 6. Single player test"
   ]
  },
  {
   "cell_type": "markdown",
   "id": "5b4a7ee3",
   "metadata": {},
   "source": [
    "#For Trae Young\n",
    "player_id = 1629027"
   ]
  },
  {
   "cell_type": "markdown",
   "id": "c71704df",
   "metadata": {},
   "source": [
    "df, df_outlier_3pt, X_train_exp, X_train, y_train, X_validate, y_validate, X_test, y_test = wrangle_prep_player(player_id)"
   ]
  },
  {
   "cell_type": "markdown",
   "id": "8f9ae57d",
   "metadata": {},
   "source": [
    "baseline_model_maker(y_train, y_validate)[0]"
   ]
  },
  {
   "cell_type": "markdown",
   "id": "1c317115",
   "metadata": {},
   "source": [
    "BASELINE_ACCURACY = baseline_model_maker(y_train, y_validate)[1]"
   ]
  },
  {
   "cell_type": "markdown",
   "id": "2237a5f8",
   "metadata": {},
   "source": [
    "models = model_maker(X_train, y_train, X_validate, y_validate, ['abs_time','play_time','since_rest'], baseline_acc = BASELINE_ACCURACY)"
   ]
  },
  {
   "cell_type": "markdown",
   "id": "af48ece6",
   "metadata": {},
   "source": [
    "models[models.better_than_baseline == True].sort_values('validate_accuracy', ascending = False).head(1)"
   ]
  },
  {
   "cell_type": "markdown",
   "id": "e3d31d2e",
   "metadata": {},
   "source": [
    "### 7. Analyzing all elite players for modeling"
   ]
  },
  {
   "cell_type": "markdown",
   "id": "83a36094",
   "metadata": {},
   "source": [
    "#Reset dataframes\n",
    "df, df_outlier_3pt, X_train_exp, X_train, y_train, X_validate, y_validate, X_test, y_test = wrangle_prep()"
   ]
  },
  {
   "cell_type": "markdown",
   "id": "159a0535",
   "metadata": {},
   "source": [
    "#Create a Series of v2 scores, binned by player\n",
    "tm_v2_scores = df.groupby('player').tm_v2.mean()\n",
    "#Calculate the std and mean\n",
    "stddev = tm_v2_scores.std()\n",
    "meanscore = tm_v2_scores.mean()\n",
    "#Create an elite cutoff score at two standard deviations above the mean\n",
    "elites = meanscore + 2 * stddev\n",
    "#Print the list of 'elite' players\n",
    "elites_list = tm_v2_scores[tm_v2_scores > elites].index"
   ]
  },
  {
   "cell_type": "markdown",
   "id": "e16ff76f",
   "metadata": {},
   "source": [
    "elites_list = df[df.player.isin(elites_list)]"
   ]
  },
  {
   "cell_type": "markdown",
   "id": "3b0dc959",
   "metadata": {},
   "source": [
    "player_id_list = elites_list.player_id.unique()\n",
    "player_name_list = elites_list.player.unique()\n",
    "elites_tuple = list(zip(player_id_list, player_name_list))"
   ]
  },
  {
   "cell_type": "markdown",
   "id": "4317763f",
   "metadata": {},
   "source": [
    "best_models = pd.DataFrame()\n",
    "for player in elites_tuple:\n",
    "    print(player[1])\n",
    "    df, df_outlier_3pt, X_train_exp, X_train, y_train, X_validate, y_validate, X_test, y_test = wrangle_prep_player(player[0])\n",
    "    baseline_model_maker(y_train, y_validate)[0]\n",
    "    BASELINE_ACCURACY = baseline_model_maker(y_train, y_validate)[1]\n",
    "    models = model_maker(X_train, y_train, X_validate, y_validate, ['abs_time','play_time','since_rest'], baseline_acc = BASELINE_ACCURACY)\n",
    "    best_model = models[models.better_than_baseline == True].sort_values('validate_accuracy', ascending = False).head(1)\n",
    "    best_model['baseline'] = BASELINE_ACCURACY\n",
    "    best_model['player'] = player[1]\n",
    "    best_models = pd.concat([best_models, best_model])\n",
    "best_models"
   ]
  },
  {
   "cell_type": "markdown",
   "id": "ff76d9e7",
   "metadata": {},
   "source": [
    "best_models = best_models.set_index('player')"
   ]
  },
  {
   "cell_type": "markdown",
   "id": "ebea00bb",
   "metadata": {},
   "source": [
    "best_models = best_models[['model','attributes','baseline','train_accuracy','validate_accuracy']]\n",
    "best_models"
   ]
  },
  {
   "cell_type": "markdown",
   "id": "8f240cf2",
   "metadata": {},
   "source": [
    "Note: Lebron James had no models that performed better than baseline."
   ]
  },
  {
   "cell_type": "markdown",
   "id": "9ef0db0e",
   "metadata": {},
   "source": [
    "#### Altogether - Elites (Not Used on Test)"
   ]
  },
  {
   "cell_type": "code",
   "execution_count": 6,
   "id": "43e1ff2b",
   "metadata": {},
   "outputs": [
    {
     "name": "stdout",
     "output_type": "stream",
     "text": [
      "Train = 47167 rows (56.0%) | Validate = 20215 rows (24.0%) | Test = 16846 rows (20.0%)\n"
     ]
    }
   ],
   "source": [
    "# Reset \n",
    "df, df_outlier_3pt, X_train_exp, X_train, y_train, X_validate, y_validate, X_test, y_test = wrangle_prep()"
   ]
  },
  {
   "cell_type": "code",
   "execution_count": 7,
   "id": "243e22ec",
   "metadata": {},
   "outputs": [],
   "source": [
    "from modeling import best_model_elites"
   ]
  },
  {
   "cell_type": "code",
   "execution_count": 8,
   "id": "2548dcc9",
   "metadata": {},
   "outputs": [
    {
     "name": "stdout",
     "output_type": "stream",
     "text": [
      "> Jaylen Brown\n",
      "Train = 251 rows (56.0%) | Validate = 109 rows (24.0%) | Test = 91 rows (20.0%)\n",
      "> CJ McCollum\n",
      "Train = 259 rows (56.0%) | Validate = 112 rows (24.0%) | Test = 93 rows (20.0%)\n",
      "> Devonte' Graham\n",
      "Train = 308 rows (56.0%) | Validate = 132 rows (24.0%) | Test = 111 rows (20.0%)\n",
      "> Lonzo Ball\n",
      "Train = 143 rows (56.0%) | Validate = 62 rows (24.0%) | Test = 52 rows (20.0%)\n",
      "> Zach LaVine\n",
      "Train = 259 rows (56.0%) | Validate = 111 rows (24.0%) | Test = 93 rows (20.0%)\n",
      "> Klay Thompson\n",
      "Train = 162 rows (56.0%) | Validate = 70 rows (24.0%) | Test = 58 rows (20.0%)\n",
      "> Stephen Curry\n",
      "Train = 369 rows (56.0%) | Validate = 159 rows (24.0%) | Test = 133 rows (20.0%)\n",
      "> Luke Kennard\n",
      "Train = 232 rows (56.0%) | Validate = 100 rows (24.0%) | Test = 83 rows (20.0%)\n",
      "> Paul George\n",
      "Train = 142 rows (56.0%) | Validate = 62 rows (24.0%) | Test = 52 rows (20.0%)\n",
      "> Carmelo Anthony\n",
      "Train = 219 rows (56.0%) | Validate = 94 rows (24.0%) | Test = 79 rows (20.0%)\n",
      "> LeBron James\n",
      "Train = 235 rows (56.0%) | Validate = 102 rows (24.0%) | Test = 85 rows (20.0%)\n",
      "> Duncan Robinson\n",
      "Train = 345 rows (56.0%) | Validate = 148 rows (24.0%) | Test = 124 rows (20.0%)\n",
      "> Grayson Allen\n",
      "Train = 215 rows (56.0%) | Validate = 93 rows (24.0%) | Test = 78 rows (20.0%)\n",
      "> Anthony Edwards\n",
      "Train = 333 rows (56.0%) | Validate = 143 rows (24.0%) | Test = 119 rows (20.0%)\n",
      "> D'Angelo Russell\n",
      "Train = 284 rows (56.0%) | Validate = 123 rows (24.0%) | Test = 102 rows (20.0%)\n",
      "> Malik Beasley\n",
      "Train = 352 rows (56.0%) | Validate = 152 rows (24.0%) | Test = 127 rows (20.0%)\n",
      "> Patty Mills\n",
      "Train = 315 rows (56.0%) | Validate = 136 rows (24.0%) | Test = 113 rows (20.0%)\n",
      "> Seth Curry\n",
      "Train = 205 rows (56.0%) | Validate = 89 rows (24.0%) | Test = 74 rows (20.0%)\n",
      "> Evan Fournier\n",
      "Train = 343 rows (56.0%) | Validate = 148 rows (24.0%) | Test = 123 rows (20.0%)\n",
      "> Buddy Hield\n",
      "Train = 384 rows (56.0%) | Validate = 165 rows (24.0%) | Test = 138 rows (20.0%)\n",
      "> Fred VanVleet\n",
      "Train = 336 rows (56.0%) | Validate = 144 rows (24.0%) | Test = 121 rows (20.0%)\n",
      "> Gary Trent Jr.\n",
      "Train = 300 rows (56.0%) | Validate = 129 rows (24.0%) | Test = 108 rows (20.0%)\n",
      "> Donovan Mitchell\n",
      "Train = 341 rows (56.0%) | Validate = 147 rows (24.0%) | Test = 122 rows (20.0%)\n",
      "> Desmond Bane\n",
      "Train = 288 rows (56.0%) | Validate = 124 rows (24.0%) | Test = 104 rows (20.0%)\n",
      "> LaMelo Ball\n",
      "Train = 284 rows (56.0%) | Validate = 122 rows (24.0%) | Test = 102 rows (20.0%)\n",
      "> Terry Rozier\n",
      "Train = 327 rows (56.0%) | Validate = 141 rows (24.0%) | Test = 117 rows (20.0%)\n"
     ]
    },
    {
     "data": {
      "text/html": [
       "<div>\n",
       "<style scoped>\n",
       "    .dataframe tbody tr th:only-of-type {\n",
       "        vertical-align: middle;\n",
       "    }\n",
       "\n",
       "    .dataframe tbody tr th {\n",
       "        vertical-align: top;\n",
       "    }\n",
       "\n",
       "    .dataframe thead th {\n",
       "        text-align: right;\n",
       "    }\n",
       "</style>\n",
       "<table border=\"1\" class=\"dataframe\">\n",
       "  <thead>\n",
       "    <tr style=\"text-align: right;\">\n",
       "      <th></th>\n",
       "      <th>model</th>\n",
       "      <th>attributes</th>\n",
       "      <th>baseline</th>\n",
       "      <th>train_accuracy</th>\n",
       "      <th>validate_accuracy</th>\n",
       "      <th>validate_improvement_over_baseline</th>\n",
       "    </tr>\n",
       "    <tr>\n",
       "      <th>player</th>\n",
       "      <th></th>\n",
       "      <th></th>\n",
       "      <th></th>\n",
       "      <th></th>\n",
       "      <th></th>\n",
       "      <th></th>\n",
       "    </tr>\n",
       "  </thead>\n",
       "  <tbody>\n",
       "    <tr>\n",
       "      <th>Jaylen Brown</th>\n",
       "      <td>KNNeighbors</td>\n",
       "      <td>n_neighbors = 12</td>\n",
       "      <td>0.637450</td>\n",
       "      <td>0.649402</td>\n",
       "      <td>0.706422</td>\n",
       "      <td>0.068972</td>\n",
       "    </tr>\n",
       "    <tr>\n",
       "      <th>CJ McCollum</th>\n",
       "      <td>Random Forest Classifier</td>\n",
       "      <td>leafs = 2 : depth = 3 : trees = 250</td>\n",
       "      <td>0.610039</td>\n",
       "      <td>0.660232</td>\n",
       "      <td>0.633929</td>\n",
       "      <td>0.023890</td>\n",
       "    </tr>\n",
       "    <tr>\n",
       "      <th>Devonte' Graham</th>\n",
       "      <td>Random Forest Classifier</td>\n",
       "      <td>leafs = 2 : depth = 4 : trees = 250</td>\n",
       "      <td>0.655844</td>\n",
       "      <td>0.704545</td>\n",
       "      <td>0.689394</td>\n",
       "      <td>0.033550</td>\n",
       "    </tr>\n",
       "    <tr>\n",
       "      <th>Lonzo Ball</th>\n",
       "      <td>Decision Tree Classifier</td>\n",
       "      <td>max_depth = 2</td>\n",
       "      <td>0.573427</td>\n",
       "      <td>0.671329</td>\n",
       "      <td>0.661290</td>\n",
       "      <td>0.087864</td>\n",
       "    </tr>\n",
       "    <tr>\n",
       "      <th>Zach LaVine</th>\n",
       "      <td>Decision Tree Classifier</td>\n",
       "      <td>max_depth = 3</td>\n",
       "      <td>0.610039</td>\n",
       "      <td>0.656371</td>\n",
       "      <td>0.639640</td>\n",
       "      <td>0.029601</td>\n",
       "    </tr>\n",
       "    <tr>\n",
       "      <th>Klay Thompson</th>\n",
       "      <td>KNNeighbors</td>\n",
       "      <td>n_neighbors = 13</td>\n",
       "      <td>0.604938</td>\n",
       "      <td>0.648148</td>\n",
       "      <td>0.628571</td>\n",
       "      <td>0.023633</td>\n",
       "    </tr>\n",
       "    <tr>\n",
       "      <th>Stephen Curry</th>\n",
       "      <td>Random Forest Classifier</td>\n",
       "      <td>leafs = 1 : depth = 3 : trees = 150</td>\n",
       "      <td>0.601626</td>\n",
       "      <td>0.626016</td>\n",
       "      <td>0.616352</td>\n",
       "      <td>0.014726</td>\n",
       "    </tr>\n",
       "    <tr>\n",
       "      <th>Luke Kennard</th>\n",
       "      <td>BaggingClassifier</td>\n",
       "      <td>estimator = KNeighborsClassifier</td>\n",
       "      <td>0.547414</td>\n",
       "      <td>0.706897</td>\n",
       "      <td>0.600000</td>\n",
       "      <td>0.052586</td>\n",
       "    </tr>\n",
       "    <tr>\n",
       "      <th>Paul George</th>\n",
       "      <td>LogisticRegression</td>\n",
       "      <td>None</td>\n",
       "      <td>0.647887</td>\n",
       "      <td>0.676056</td>\n",
       "      <td>0.709677</td>\n",
       "      <td>0.061790</td>\n",
       "    </tr>\n",
       "    <tr>\n",
       "      <th>Carmelo Anthony</th>\n",
       "      <td>Random Forest Classifier</td>\n",
       "      <td>leafs = 1 : depth = 4 : trees = 150</td>\n",
       "      <td>0.621005</td>\n",
       "      <td>0.744292</td>\n",
       "      <td>0.680851</td>\n",
       "      <td>0.059846</td>\n",
       "    </tr>\n",
       "    <tr>\n",
       "      <th>Duncan Robinson</th>\n",
       "      <td>Decision Tree Classifier</td>\n",
       "      <td>max_depth = 6</td>\n",
       "      <td>0.626087</td>\n",
       "      <td>0.797101</td>\n",
       "      <td>0.648649</td>\n",
       "      <td>0.022562</td>\n",
       "    </tr>\n",
       "    <tr>\n",
       "      <th>Grayson Allen</th>\n",
       "      <td>Decision Tree Classifier</td>\n",
       "      <td>max_depth = 3</td>\n",
       "      <td>0.595349</td>\n",
       "      <td>0.679070</td>\n",
       "      <td>0.602151</td>\n",
       "      <td>0.006802</td>\n",
       "    </tr>\n",
       "    <tr>\n",
       "      <th>Anthony Edwards</th>\n",
       "      <td>KNNeighbors</td>\n",
       "      <td>n_neighbors = 21</td>\n",
       "      <td>0.642643</td>\n",
       "      <td>0.645646</td>\n",
       "      <td>0.643357</td>\n",
       "      <td>0.000714</td>\n",
       "    </tr>\n",
       "    <tr>\n",
       "      <th>D'Angelo Russell</th>\n",
       "      <td>BaggingClassifier</td>\n",
       "      <td>estimator = ExtraTreesClassifier</td>\n",
       "      <td>0.654930</td>\n",
       "      <td>0.978873</td>\n",
       "      <td>0.682927</td>\n",
       "      <td>0.027997</td>\n",
       "    </tr>\n",
       "    <tr>\n",
       "      <th>Malik Beasley</th>\n",
       "      <td>Random Forest Classifier</td>\n",
       "      <td>leafs = 1 : depth = 2 : trees = 200</td>\n",
       "      <td>0.619318</td>\n",
       "      <td>0.639205</td>\n",
       "      <td>0.638158</td>\n",
       "      <td>0.018840</td>\n",
       "    </tr>\n",
       "    <tr>\n",
       "      <th>Patty Mills</th>\n",
       "      <td>BaggingClassifier</td>\n",
       "      <td>estimator = LogisticRegression</td>\n",
       "      <td>0.596825</td>\n",
       "      <td>0.638095</td>\n",
       "      <td>0.632353</td>\n",
       "      <td>0.035528</td>\n",
       "    </tr>\n",
       "    <tr>\n",
       "      <th>Seth Curry</th>\n",
       "      <td>Decision Tree Classifier</td>\n",
       "      <td>max_depth = 8</td>\n",
       "      <td>0.575610</td>\n",
       "      <td>0.897561</td>\n",
       "      <td>0.640449</td>\n",
       "      <td>0.064840</td>\n",
       "    </tr>\n",
       "    <tr>\n",
       "      <th>Evan Fournier</th>\n",
       "      <td>Decision Tree Classifier</td>\n",
       "      <td>max_depth = 3</td>\n",
       "      <td>0.606414</td>\n",
       "      <td>0.641399</td>\n",
       "      <td>0.621622</td>\n",
       "      <td>0.015208</td>\n",
       "    </tr>\n",
       "    <tr>\n",
       "      <th>Buddy Hield</th>\n",
       "      <td>Decision Tree Classifier</td>\n",
       "      <td>max_depth = 4</td>\n",
       "      <td>0.632812</td>\n",
       "      <td>0.677083</td>\n",
       "      <td>0.648485</td>\n",
       "      <td>0.015672</td>\n",
       "    </tr>\n",
       "    <tr>\n",
       "      <th>Fred VanVleet</th>\n",
       "      <td>Random Forest Classifier</td>\n",
       "      <td>leafs = 1 : depth = 4 : trees = 100</td>\n",
       "      <td>0.613095</td>\n",
       "      <td>0.696429</td>\n",
       "      <td>0.631944</td>\n",
       "      <td>0.018849</td>\n",
       "    </tr>\n",
       "    <tr>\n",
       "      <th>Gary Trent Jr.</th>\n",
       "      <td>KNNeighbors</td>\n",
       "      <td>n_neighbors = 23</td>\n",
       "      <td>0.616667</td>\n",
       "      <td>0.623333</td>\n",
       "      <td>0.643411</td>\n",
       "      <td>0.026744</td>\n",
       "    </tr>\n",
       "    <tr>\n",
       "      <th>Donovan Mitchell</th>\n",
       "      <td>Decision Tree Classifier</td>\n",
       "      <td>max_depth = 2</td>\n",
       "      <td>0.636364</td>\n",
       "      <td>0.689150</td>\n",
       "      <td>0.653061</td>\n",
       "      <td>0.016698</td>\n",
       "    </tr>\n",
       "    <tr>\n",
       "      <th>Desmond Bane</th>\n",
       "      <td>Decision Tree Classifier</td>\n",
       "      <td>max_depth = 23</td>\n",
       "      <td>0.562500</td>\n",
       "      <td>1.000000</td>\n",
       "      <td>0.629032</td>\n",
       "      <td>0.066532</td>\n",
       "    </tr>\n",
       "    <tr>\n",
       "      <th>LaMelo Ball</th>\n",
       "      <td>BaggingClassifier</td>\n",
       "      <td>estimator = DecisionTreeClassifier</td>\n",
       "      <td>0.602113</td>\n",
       "      <td>0.982394</td>\n",
       "      <td>0.647541</td>\n",
       "      <td>0.045428</td>\n",
       "    </tr>\n",
       "    <tr>\n",
       "      <th>Terry Rozier</th>\n",
       "      <td>KNNeighbors</td>\n",
       "      <td>n_neighbors = 7</td>\n",
       "      <td>0.626911</td>\n",
       "      <td>0.706422</td>\n",
       "      <td>0.645390</td>\n",
       "      <td>0.018479</td>\n",
       "    </tr>\n",
       "  </tbody>\n",
       "</table>\n",
       "</div>"
      ],
      "text/plain": [
       "                                     model  \\\n",
       "player                                       \n",
       "Jaylen Brown                   KNNeighbors   \n",
       "CJ McCollum       Random Forest Classifier   \n",
       "Devonte' Graham   Random Forest Classifier   \n",
       "Lonzo Ball        Decision Tree Classifier   \n",
       "Zach LaVine       Decision Tree Classifier   \n",
       "Klay Thompson                  KNNeighbors   \n",
       "Stephen Curry     Random Forest Classifier   \n",
       "Luke Kennard             BaggingClassifier   \n",
       "Paul George             LogisticRegression   \n",
       "Carmelo Anthony   Random Forest Classifier   \n",
       "Duncan Robinson   Decision Tree Classifier   \n",
       "Grayson Allen     Decision Tree Classifier   \n",
       "Anthony Edwards                KNNeighbors   \n",
       "D'Angelo Russell         BaggingClassifier   \n",
       "Malik Beasley     Random Forest Classifier   \n",
       "Patty Mills              BaggingClassifier   \n",
       "Seth Curry        Decision Tree Classifier   \n",
       "Evan Fournier     Decision Tree Classifier   \n",
       "Buddy Hield       Decision Tree Classifier   \n",
       "Fred VanVleet     Random Forest Classifier   \n",
       "Gary Trent Jr.                 KNNeighbors   \n",
       "Donovan Mitchell  Decision Tree Classifier   \n",
       "Desmond Bane      Decision Tree Classifier   \n",
       "LaMelo Ball              BaggingClassifier   \n",
       "Terry Rozier                   KNNeighbors   \n",
       "\n",
       "                                           attributes  baseline  \\\n",
       "player                                                            \n",
       "Jaylen Brown                         n_neighbors = 12  0.637450   \n",
       "CJ McCollum       leafs = 2 : depth = 3 : trees = 250  0.610039   \n",
       "Devonte' Graham   leafs = 2 : depth = 4 : trees = 250  0.655844   \n",
       "Lonzo Ball                              max_depth = 2  0.573427   \n",
       "Zach LaVine                             max_depth = 3  0.610039   \n",
       "Klay Thompson                        n_neighbors = 13  0.604938   \n",
       "Stephen Curry     leafs = 1 : depth = 3 : trees = 150  0.601626   \n",
       "Luke Kennard         estimator = KNeighborsClassifier  0.547414   \n",
       "Paul George                                      None  0.647887   \n",
       "Carmelo Anthony   leafs = 1 : depth = 4 : trees = 150  0.621005   \n",
       "Duncan Robinson                         max_depth = 6  0.626087   \n",
       "Grayson Allen                           max_depth = 3  0.595349   \n",
       "Anthony Edwards                      n_neighbors = 21  0.642643   \n",
       "D'Angelo Russell     estimator = ExtraTreesClassifier  0.654930   \n",
       "Malik Beasley     leafs = 1 : depth = 2 : trees = 200  0.619318   \n",
       "Patty Mills            estimator = LogisticRegression  0.596825   \n",
       "Seth Curry                              max_depth = 8  0.575610   \n",
       "Evan Fournier                           max_depth = 3  0.606414   \n",
       "Buddy Hield                             max_depth = 4  0.632812   \n",
       "Fred VanVleet     leafs = 1 : depth = 4 : trees = 100  0.613095   \n",
       "Gary Trent Jr.                       n_neighbors = 23  0.616667   \n",
       "Donovan Mitchell                        max_depth = 2  0.636364   \n",
       "Desmond Bane                           max_depth = 23  0.562500   \n",
       "LaMelo Ball        estimator = DecisionTreeClassifier  0.602113   \n",
       "Terry Rozier                          n_neighbors = 7  0.626911   \n",
       "\n",
       "                  train_accuracy  validate_accuracy  \\\n",
       "player                                                \n",
       "Jaylen Brown            0.649402           0.706422   \n",
       "CJ McCollum             0.660232           0.633929   \n",
       "Devonte' Graham         0.704545           0.689394   \n",
       "Lonzo Ball              0.671329           0.661290   \n",
       "Zach LaVine             0.656371           0.639640   \n",
       "Klay Thompson           0.648148           0.628571   \n",
       "Stephen Curry           0.626016           0.616352   \n",
       "Luke Kennard            0.706897           0.600000   \n",
       "Paul George             0.676056           0.709677   \n",
       "Carmelo Anthony         0.744292           0.680851   \n",
       "Duncan Robinson         0.797101           0.648649   \n",
       "Grayson Allen           0.679070           0.602151   \n",
       "Anthony Edwards         0.645646           0.643357   \n",
       "D'Angelo Russell        0.978873           0.682927   \n",
       "Malik Beasley           0.639205           0.638158   \n",
       "Patty Mills             0.638095           0.632353   \n",
       "Seth Curry              0.897561           0.640449   \n",
       "Evan Fournier           0.641399           0.621622   \n",
       "Buddy Hield             0.677083           0.648485   \n",
       "Fred VanVleet           0.696429           0.631944   \n",
       "Gary Trent Jr.          0.623333           0.643411   \n",
       "Donovan Mitchell        0.689150           0.653061   \n",
       "Desmond Bane            1.000000           0.629032   \n",
       "LaMelo Ball             0.982394           0.647541   \n",
       "Terry Rozier            0.706422           0.645390   \n",
       "\n",
       "                  validate_improvement_over_baseline  \n",
       "player                                                \n",
       "Jaylen Brown                                0.068972  \n",
       "CJ McCollum                                 0.023890  \n",
       "Devonte' Graham                             0.033550  \n",
       "Lonzo Ball                                  0.087864  \n",
       "Zach LaVine                                 0.029601  \n",
       "Klay Thompson                               0.023633  \n",
       "Stephen Curry                               0.014726  \n",
       "Luke Kennard                                0.052586  \n",
       "Paul George                                 0.061790  \n",
       "Carmelo Anthony                             0.059846  \n",
       "Duncan Robinson                             0.022562  \n",
       "Grayson Allen                               0.006802  \n",
       "Anthony Edwards                             0.000714  \n",
       "D'Angelo Russell                            0.027997  \n",
       "Malik Beasley                               0.018840  \n",
       "Patty Mills                                 0.035528  \n",
       "Seth Curry                                  0.064840  \n",
       "Evan Fournier                               0.015208  \n",
       "Buddy Hield                                 0.015672  \n",
       "Fred VanVleet                               0.018849  \n",
       "Gary Trent Jr.                              0.026744  \n",
       "Donovan Mitchell                            0.016698  \n",
       "Desmond Bane                                0.066532  \n",
       "LaMelo Ball                                 0.045428  \n",
       "Terry Rozier                                0.018479  "
      ]
     },
     "execution_count": 8,
     "metadata": {},
     "output_type": "execute_result"
    }
   ],
   "source": [
    "best_model_elites(df, X_train, y_train, X_validate, y_validate)"
   ]
  },
  {
   "cell_type": "markdown",
   "id": "177dc6bc",
   "metadata": {},
   "source": [
    "#### Altogether - Keldon Johnson"
   ]
  },
  {
   "cell_type": "code",
   "execution_count": 17,
   "id": "05f75115",
   "metadata": {},
   "outputs": [],
   "source": [
    "from modeling import player_model"
   ]
  },
  {
   "cell_type": "code",
   "execution_count": 18,
   "id": "62f078f1",
   "metadata": {},
   "outputs": [
    {
     "name": "stdout",
     "output_type": "stream",
     "text": [
      "> Keldon Johnson\n",
      "Train = 221 rows (56.0%) | Validate = 95 rows (24.0%) | Test = 80 rows (20.0%)\n"
     ]
    },
    {
     "data": {
      "text/html": [
       "<div>\n",
       "<style scoped>\n",
       "    .dataframe tbody tr th:only-of-type {\n",
       "        vertical-align: middle;\n",
       "    }\n",
       "\n",
       "    .dataframe tbody tr th {\n",
       "        vertical-align: top;\n",
       "    }\n",
       "\n",
       "    .dataframe thead th {\n",
       "        text-align: right;\n",
       "    }\n",
       "</style>\n",
       "<table border=\"1\" class=\"dataframe\">\n",
       "  <thead>\n",
       "    <tr style=\"text-align: right;\">\n",
       "      <th></th>\n",
       "      <th>model</th>\n",
       "      <th>attributes</th>\n",
       "      <th>baseline</th>\n",
       "      <th>train_accuracy</th>\n",
       "      <th>validate_accuracy</th>\n",
       "      <th>validate_improvement_over_baseline</th>\n",
       "    </tr>\n",
       "    <tr>\n",
       "      <th>player</th>\n",
       "      <th></th>\n",
       "      <th></th>\n",
       "      <th></th>\n",
       "      <th></th>\n",
       "      <th></th>\n",
       "      <th></th>\n",
       "    </tr>\n",
       "  </thead>\n",
       "  <tbody>\n",
       "    <tr>\n",
       "      <th>Keldon Johnson</th>\n",
       "      <td>Random Forest Classifier</td>\n",
       "      <td>leafs = 2 : depth = 2 : trees = 300</td>\n",
       "      <td>0.597285</td>\n",
       "      <td>0.692308</td>\n",
       "      <td>0.663158</td>\n",
       "      <td>0.065873</td>\n",
       "    </tr>\n",
       "  </tbody>\n",
       "</table>\n",
       "</div>"
      ],
      "text/plain": [
       "                                   model                           attributes  \\\n",
       "player                                                                          \n",
       "Keldon Johnson  Random Forest Classifier  leafs = 2 : depth = 2 : trees = 300   \n",
       "\n",
       "                baseline  train_accuracy  validate_accuracy  \\\n",
       "player                                                        \n",
       "Keldon Johnson  0.597285        0.692308           0.663158   \n",
       "\n",
       "                validate_improvement_over_baseline  \n",
       "player                                              \n",
       "Keldon Johnson                            0.065873  "
      ]
     },
     "execution_count": 18,
     "metadata": {},
     "output_type": "execute_result"
    }
   ],
   "source": [
    "player_model(df, X_train, y_train, X_validate, y_validate, 'Keldon Johnson')"
   ]
  },
  {
   "cell_type": "markdown",
   "id": "295f8458",
   "metadata": {},
   "source": [
    "holder = []\n",
    "for f in [X_train, pd.DataFrame(y_train), X_validate, pd.DataFrame(y_validate), X_test, pd.DataFrame(y_test)]:\n",
    "    f = f.merge(df, how = 'inner', left_index = True, right_index = True)\n",
    "    holder.append(f)"
   ]
  },
  {
   "cell_type": "markdown",
   "id": "c4a31ac1",
   "metadata": {},
   "source": [
    "counter = 1\n",
    "holder2 = []\n",
    "for x in holder:\n",
    "    x = x[x.player == 'Keldon Johnson']\n",
    "    if counter%2 == 1:\n",
    "        x = x.iloc[:,:16]\n",
    "        x.columns = x.columns.str.strip('_x')\n",
    "    else:\n",
    "        x = x.iloc[:,:1]\n",
    "        x.columns = x.columns.str.strip('_x')\n",
    "        x = x.squeeze()\n",
    "    counter += 1\n",
    "    holder2.append(x)"
   ]
  },
  {
   "cell_type": "code",
   "execution_count": 13,
   "id": "184de423",
   "metadata": {},
   "outputs": [],
   "source": [
    "from modeling import test_player"
   ]
  },
  {
   "cell_type": "code",
   "execution_count": 16,
   "id": "cc6504e3",
   "metadata": {},
   "outputs": [
    {
     "data": {
      "text/html": [
       "<div>\n",
       "<style scoped>\n",
       "    .dataframe tbody tr th:only-of-type {\n",
       "        vertical-align: middle;\n",
       "    }\n",
       "\n",
       "    .dataframe tbody tr th {\n",
       "        vertical-align: top;\n",
       "    }\n",
       "\n",
       "    .dataframe thead th {\n",
       "        text-align: right;\n",
       "    }\n",
       "</style>\n",
       "<table border=\"1\" class=\"dataframe\">\n",
       "  <thead>\n",
       "    <tr style=\"text-align: right;\">\n",
       "      <th></th>\n",
       "      <th>model</th>\n",
       "      <th>attributes</th>\n",
       "      <th>train_accuracy</th>\n",
       "      <th>validate_accuracy</th>\n",
       "      <th>test_accuracy</th>\n",
       "      <th>better_than_baseline</th>\n",
       "      <th>beats_baseline_by</th>\n",
       "    </tr>\n",
       "  </thead>\n",
       "  <tbody>\n",
       "    <tr>\n",
       "      <th>0</th>\n",
       "      <td>Random Forest</td>\n",
       "      <td>leafs = 1 ; depth = 3 ; trees = 150</td>\n",
       "      <td>0.773333</td>\n",
       "      <td>0.6</td>\n",
       "      <td>0.625</td>\n",
       "      <td>False</td>\n",
       "      <td>-0.017907</td>\n",
       "    </tr>\n",
       "  </tbody>\n",
       "</table>\n",
       "</div>"
      ],
      "text/plain": [
       "           model                           attributes  train_accuracy  \\\n",
       "0  Random Forest  leafs = 1 ; depth = 3 ; trees = 150        0.773333   \n",
       "\n",
       "   validate_accuracy  test_accuracy  better_than_baseline  beats_baseline_by  \n",
       "0                0.6          0.625                 False          -0.017907  "
      ]
     },
     "execution_count": 16,
     "metadata": {},
     "output_type": "execute_result"
    }
   ],
   "source": [
    "test_player('Keldon Johnson',df, X_train, y_train, X_validate, y_validate, X_test, y_test, drop_list, baseline_acc = BASELINE_ACCURACY)"
   ]
  }
 ],
 "metadata": {
  "kernelspec": {
   "display_name": "Python 3 (ipykernel)",
   "language": "python",
   "name": "python3"
  },
  "language_info": {
   "codemirror_mode": {
    "name": "ipython",
    "version": 3
   },
   "file_extension": ".py",
   "mimetype": "text/x-python",
   "name": "python",
   "nbconvert_exporter": "python",
   "pygments_lexer": "ipython3",
   "version": "3.9.7"
  }
 },
 "nbformat": 4,
 "nbformat_minor": 5
}
