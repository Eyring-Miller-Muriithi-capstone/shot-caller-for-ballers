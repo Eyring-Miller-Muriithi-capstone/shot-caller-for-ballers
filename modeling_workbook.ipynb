{
 "cells": [
  {
   "cell_type": "code",
   "execution_count": 12,
   "id": "0089402a",
   "metadata": {},
   "outputs": [
    {
     "name": "stdout",
     "output_type": "stream",
     "text": [
      "The autoreload extension is already loaded. To reload it, use:\n",
      "  %reload_ext autoreload\n"
     ]
    }
   ],
   "source": [
    "import pandas as pd\n",
    "import json\n",
    "import sklearn.metrics as metrics\n",
    "from itertools import product\n",
    "\n",
    "from sklearn.model_selection import train_test_split #from splitter import splitter\n",
    "\n",
    "from sklearn.linear_model import LogisticRegression\n",
    "from sklearn.neighbors import KNeighborsClassifier\n",
    "from sklearn.tree import DecisionTreeClassifier\n",
    "from sklearn.ensemble import RandomForestClassifier, ExtraTreesClassifier\n",
    "from sklearn.ensemble import BaggingClassifier\n",
    "\n",
    "from wrangle import wrangle_prep\n",
    "from wrangle import wrangle_prep_player\n",
    "from modeling import baseline_model_maker\n",
    "from modeling import model_maker\n",
    "from modeling import test_model\n",
    "\n",
    "import warnings\n",
    "warnings.filterwarnings('ignore')\n",
    "pd.set_option('display.max_columns', None)\n",
    "%load_ext autoreload\n",
    "%autoreload"
   ]
  },
  {
   "cell_type": "markdown",
   "id": "60de7db5",
   "metadata": {},
   "source": [
    "# I. General Player Model"
   ]
  },
  {
   "cell_type": "markdown",
   "id": "2b595cf1",
   "metadata": {},
   "source": [
    "### 1. Acquire wrangled (split, encoded and scaled) dataframe"
   ]
  },
  {
   "cell_type": "code",
   "execution_count": 4,
   "id": "029f94b7",
   "metadata": {},
   "outputs": [
    {
     "name": "stdout",
     "output_type": "stream",
     "text": [
      "Train = 47167 rows (56.0%) | Validate = 20215 rows (24.0%) | Test = 16846 rows (20.0%)\n"
     ]
    }
   ],
   "source": [
    "df, df_outlier_3pt, X_train_exp, X_train, y_train, X_validate, y_validate, X_test, y_test = wrangle_prep()"
   ]
  },
  {
   "cell_type": "code",
   "execution_count": 17,
   "id": "b5275aa4",
   "metadata": {},
   "outputs": [
    {
     "data": {
      "text/html": [
       "<div>\n",
       "<style scoped>\n",
       "    .dataframe tbody tr th:only-of-type {\n",
       "        vertical-align: middle;\n",
       "    }\n",
       "\n",
       "    .dataframe tbody tr th {\n",
       "        vertical-align: top;\n",
       "    }\n",
       "\n",
       "    .dataframe thead th {\n",
       "        text-align: right;\n",
       "    }\n",
       "</style>\n",
       "<table border=\"1\" class=\"dataframe\">\n",
       "  <thead>\n",
       "    <tr style=\"text-align: right;\">\n",
       "      <th></th>\n",
       "      <th>abs_time</th>\n",
       "      <th>play_time</th>\n",
       "      <th>since_rest</th>\n",
       "      <th>score_margin</th>\n",
       "      <th>points</th>\n",
       "      <th>games_played</th>\n",
       "      <th>tm_v2</th>\n",
       "      <th>distance</th>\n",
       "      <th>zone_Center</th>\n",
       "      <th>zone_L Above Break</th>\n",
       "      <th>zone_L Below Break/Corner</th>\n",
       "      <th>zone_L Center</th>\n",
       "      <th>zone_R Above Break</th>\n",
       "      <th>zone_R Below Break/Corner</th>\n",
       "      <th>zone_R Center</th>\n",
       "      <th>period_4</th>\n",
       "    </tr>\n",
       "  </thead>\n",
       "  <tbody>\n",
       "    <tr>\n",
       "      <th>77133</th>\n",
       "      <td>0.639743</td>\n",
       "      <td>0.733971</td>\n",
       "      <td>0.086698</td>\n",
       "      <td>0.470588</td>\n",
       "      <td>0.000000</td>\n",
       "      <td>3</td>\n",
       "      <td>0.350000</td>\n",
       "      <td>0.499298</td>\n",
       "      <td>0</td>\n",
       "      <td>0</td>\n",
       "      <td>1</td>\n",
       "      <td>0</td>\n",
       "      <td>0</td>\n",
       "      <td>0</td>\n",
       "      <td>0</td>\n",
       "      <td>1</td>\n",
       "    </tr>\n",
       "    <tr>\n",
       "      <th>10088</th>\n",
       "      <td>0.099224</td>\n",
       "      <td>0.114471</td>\n",
       "      <td>0.137397</td>\n",
       "      <td>0.522876</td>\n",
       "      <td>0.000000</td>\n",
       "      <td>22</td>\n",
       "      <td>1.733049</td>\n",
       "      <td>0.732245</td>\n",
       "      <td>0</td>\n",
       "      <td>0</td>\n",
       "      <td>0</td>\n",
       "      <td>0</td>\n",
       "      <td>1</td>\n",
       "      <td>0</td>\n",
       "      <td>0</td>\n",
       "      <td>0</td>\n",
       "    </tr>\n",
       "    <tr>\n",
       "      <th>64509</th>\n",
       "      <td>0.204065</td>\n",
       "      <td>0.235421</td>\n",
       "      <td>0.182259</td>\n",
       "      <td>0.431373</td>\n",
       "      <td>0.078947</td>\n",
       "      <td>31</td>\n",
       "      <td>0.430970</td>\n",
       "      <td>0.542206</td>\n",
       "      <td>0</td>\n",
       "      <td>0</td>\n",
       "      <td>0</td>\n",
       "      <td>0</td>\n",
       "      <td>1</td>\n",
       "      <td>0</td>\n",
       "      <td>0</td>\n",
       "      <td>0</td>\n",
       "    </tr>\n",
       "    <tr>\n",
       "      <th>28690</th>\n",
       "      <td>0.531426</td>\n",
       "      <td>0.531317</td>\n",
       "      <td>0.420068</td>\n",
       "      <td>0.431373</td>\n",
       "      <td>0.184211</td>\n",
       "      <td>17</td>\n",
       "      <td>1.330409</td>\n",
       "      <td>0.556523</td>\n",
       "      <td>1</td>\n",
       "      <td>0</td>\n",
       "      <td>0</td>\n",
       "      <td>0</td>\n",
       "      <td>0</td>\n",
       "      <td>0</td>\n",
       "      <td>0</td>\n",
       "      <td>0</td>\n",
       "    </tr>\n",
       "    <tr>\n",
       "      <th>39117</th>\n",
       "      <td>0.017384</td>\n",
       "      <td>0.020056</td>\n",
       "      <td>0.025787</td>\n",
       "      <td>0.483660</td>\n",
       "      <td>0.000000</td>\n",
       "      <td>4</td>\n",
       "      <td>1.565385</td>\n",
       "      <td>0.124159</td>\n",
       "      <td>0</td>\n",
       "      <td>0</td>\n",
       "      <td>0</td>\n",
       "      <td>0</td>\n",
       "      <td>0</td>\n",
       "      <td>1</td>\n",
       "      <td>0</td>\n",
       "      <td>0</td>\n",
       "    </tr>\n",
       "    <tr>\n",
       "      <th>...</th>\n",
       "      <td>...</td>\n",
       "      <td>...</td>\n",
       "      <td>...</td>\n",
       "      <td>...</td>\n",
       "      <td>...</td>\n",
       "      <td>...</td>\n",
       "      <td>...</td>\n",
       "      <td>...</td>\n",
       "      <td>...</td>\n",
       "      <td>...</td>\n",
       "      <td>...</td>\n",
       "      <td>...</td>\n",
       "      <td>...</td>\n",
       "      <td>...</td>\n",
       "      <td>...</td>\n",
       "      <td>...</td>\n",
       "    </tr>\n",
       "    <tr>\n",
       "      <th>459</th>\n",
       "      <td>0.581706</td>\n",
       "      <td>0.509719</td>\n",
       "      <td>0.065543</td>\n",
       "      <td>0.437908</td>\n",
       "      <td>0.118421</td>\n",
       "      <td>1</td>\n",
       "      <td>2.031250</td>\n",
       "      <td>0.283530</td>\n",
       "      <td>0</td>\n",
       "      <td>0</td>\n",
       "      <td>0</td>\n",
       "      <td>0</td>\n",
       "      <td>0</td>\n",
       "      <td>1</td>\n",
       "      <td>0</td>\n",
       "      <td>1</td>\n",
       "    </tr>\n",
       "    <tr>\n",
       "      <th>75741</th>\n",
       "      <td>0.684675</td>\n",
       "      <td>0.527306</td>\n",
       "      <td>0.147974</td>\n",
       "      <td>0.503268</td>\n",
       "      <td>0.131579</td>\n",
       "      <td>30</td>\n",
       "      <td>1.313630</td>\n",
       "      <td>0.521001</td>\n",
       "      <td>0</td>\n",
       "      <td>0</td>\n",
       "      <td>0</td>\n",
       "      <td>0</td>\n",
       "      <td>1</td>\n",
       "      <td>0</td>\n",
       "      <td>0</td>\n",
       "      <td>1</td>\n",
       "    </tr>\n",
       "    <tr>\n",
       "      <th>38630</th>\n",
       "      <td>0.364269</td>\n",
       "      <td>0.281086</td>\n",
       "      <td>0.076850</td>\n",
       "      <td>0.320261</td>\n",
       "      <td>0.026316</td>\n",
       "      <td>1</td>\n",
       "      <td>0.600000</td>\n",
       "      <td>0.607010</td>\n",
       "      <td>1</td>\n",
       "      <td>0</td>\n",
       "      <td>0</td>\n",
       "      <td>0</td>\n",
       "      <td>0</td>\n",
       "      <td>0</td>\n",
       "      <td>0</td>\n",
       "      <td>0</td>\n",
       "    </tr>\n",
       "    <tr>\n",
       "      <th>22961</th>\n",
       "      <td>0.730142</td>\n",
       "      <td>0.489972</td>\n",
       "      <td>0.040376</td>\n",
       "      <td>0.542484</td>\n",
       "      <td>0.118421</td>\n",
       "      <td>11</td>\n",
       "      <td>1.890625</td>\n",
       "      <td>0.631258</td>\n",
       "      <td>0</td>\n",
       "      <td>0</td>\n",
       "      <td>0</td>\n",
       "      <td>1</td>\n",
       "      <td>0</td>\n",
       "      <td>0</td>\n",
       "      <td>0</td>\n",
       "      <td>1</td>\n",
       "    </tr>\n",
       "    <tr>\n",
       "      <th>16251</th>\n",
       "      <td>0.068200</td>\n",
       "      <td>0.078679</td>\n",
       "      <td>0.095087</td>\n",
       "      <td>0.490196</td>\n",
       "      <td>0.052632</td>\n",
       "      <td>13</td>\n",
       "      <td>1.294737</td>\n",
       "      <td>0.437952</td>\n",
       "      <td>0</td>\n",
       "      <td>0</td>\n",
       "      <td>0</td>\n",
       "      <td>0</td>\n",
       "      <td>1</td>\n",
       "      <td>0</td>\n",
       "      <td>0</td>\n",
       "      <td>0</td>\n",
       "    </tr>\n",
       "  </tbody>\n",
       "</table>\n",
       "<p>47167 rows × 16 columns</p>\n",
       "</div>"
      ],
      "text/plain": [
       "       abs_time  play_time  since_rest  score_margin    points  games_played  \\\n",
       "77133  0.639743   0.733971    0.086698      0.470588  0.000000             3   \n",
       "10088  0.099224   0.114471    0.137397      0.522876  0.000000            22   \n",
       "64509  0.204065   0.235421    0.182259      0.431373  0.078947            31   \n",
       "28690  0.531426   0.531317    0.420068      0.431373  0.184211            17   \n",
       "39117  0.017384   0.020056    0.025787      0.483660  0.000000             4   \n",
       "...         ...        ...         ...           ...       ...           ...   \n",
       "459    0.581706   0.509719    0.065543      0.437908  0.118421             1   \n",
       "75741  0.684675   0.527306    0.147974      0.503268  0.131579            30   \n",
       "38630  0.364269   0.281086    0.076850      0.320261  0.026316             1   \n",
       "22961  0.730142   0.489972    0.040376      0.542484  0.118421            11   \n",
       "16251  0.068200   0.078679    0.095087      0.490196  0.052632            13   \n",
       "\n",
       "          tm_v2  distance  zone_Center  zone_L Above Break  \\\n",
       "77133  0.350000  0.499298            0                   0   \n",
       "10088  1.733049  0.732245            0                   0   \n",
       "64509  0.430970  0.542206            0                   0   \n",
       "28690  1.330409  0.556523            1                   0   \n",
       "39117  1.565385  0.124159            0                   0   \n",
       "...         ...       ...          ...                 ...   \n",
       "459    2.031250  0.283530            0                   0   \n",
       "75741  1.313630  0.521001            0                   0   \n",
       "38630  0.600000  0.607010            1                   0   \n",
       "22961  1.890625  0.631258            0                   0   \n",
       "16251  1.294737  0.437952            0                   0   \n",
       "\n",
       "       zone_L Below Break/Corner  zone_L Center  zone_R Above Break  \\\n",
       "77133                          1              0                   0   \n",
       "10088                          0              0                   1   \n",
       "64509                          0              0                   1   \n",
       "28690                          0              0                   0   \n",
       "39117                          0              0                   0   \n",
       "...                          ...            ...                 ...   \n",
       "459                            0              0                   0   \n",
       "75741                          0              0                   1   \n",
       "38630                          0              0                   0   \n",
       "22961                          0              1                   0   \n",
       "16251                          0              0                   1   \n",
       "\n",
       "       zone_R Below Break/Corner  zone_R Center  period_4  \n",
       "77133                          0              0         1  \n",
       "10088                          0              0         0  \n",
       "64509                          0              0         0  \n",
       "28690                          0              0         0  \n",
       "39117                          1              0         0  \n",
       "...                          ...            ...       ...  \n",
       "459                            1              0         1  \n",
       "75741                          0              0         1  \n",
       "38630                          0              0         0  \n",
       "22961                          0              0         1  \n",
       "16251                          0              0         0  \n",
       "\n",
       "[47167 rows x 16 columns]"
      ]
     },
     "execution_count": 17,
     "metadata": {},
     "output_type": "execute_result"
    }
   ],
   "source": [
    "X_train"
   ]
  },
  {
   "cell_type": "markdown",
   "id": "41955c24",
   "metadata": {},
   "source": [
    "### 2. Establish leaguewide model baseline"
   ]
  },
  {
   "cell_type": "code",
   "execution_count": 6,
   "id": "8fcab056",
   "metadata": {},
   "outputs": [
    {
     "data": {
      "text/html": [
       "<div>\n",
       "<style scoped>\n",
       "    .dataframe tbody tr th:only-of-type {\n",
       "        vertical-align: middle;\n",
       "    }\n",
       "\n",
       "    .dataframe tbody tr th {\n",
       "        vertical-align: top;\n",
       "    }\n",
       "\n",
       "    .dataframe thead th {\n",
       "        text-align: right;\n",
       "    }\n",
       "</style>\n",
       "<table border=\"1\" class=\"dataframe\">\n",
       "  <thead>\n",
       "    <tr style=\"text-align: right;\">\n",
       "      <th></th>\n",
       "      <th>model</th>\n",
       "      <th>train_accuracy</th>\n",
       "      <th>validate_accuracy</th>\n",
       "    </tr>\n",
       "  </thead>\n",
       "  <tbody>\n",
       "    <tr>\n",
       "      <th>0</th>\n",
       "      <td>Baseline Model</td>\n",
       "      <td>0.642907</td>\n",
       "      <td>0.642938</td>\n",
       "    </tr>\n",
       "  </tbody>\n",
       "</table>\n",
       "</div>"
      ],
      "text/plain": [
       "            model  train_accuracy  validate_accuracy\n",
       "0  Baseline Model        0.642907           0.642938"
      ]
     },
     "execution_count": 6,
     "metadata": {},
     "output_type": "execute_result"
    }
   ],
   "source": [
    "baseline_model_maker(y_train, y_validate)[0]"
   ]
  },
  {
   "cell_type": "code",
   "execution_count": 7,
   "id": "31e1e8a4",
   "metadata": {},
   "outputs": [],
   "source": [
    "BASELINE_ACCURACY = baseline_model_maker(y_train, y_validate)[1]"
   ]
  },
  {
   "cell_type": "markdown",
   "id": "342b142d",
   "metadata": {},
   "source": [
    "### 3. Run model program on the dataset using 7 models types (including ensemble models) - 125 models total with hyperparameters."
   ]
  },
  {
   "cell_type": "code",
   "execution_count": 2,
   "id": "8a2c6074",
   "metadata": {},
   "outputs": [],
   "source": [
    "drop_list = ['abs_time','since_rest']"
   ]
  },
  {
   "cell_type": "code",
   "execution_count": null,
   "id": "ce242623",
   "metadata": {},
   "outputs": [],
   "source": [
    "models = model_maker(X_train, y_train, X_validate, y_validate, drop_list, baseline_acc = BASELINE_ACCURACY)"
   ]
  },
  {
   "cell_type": "code",
   "execution_count": null,
   "id": "4fa4adaa",
   "metadata": {},
   "outputs": [],
   "source": [
    "models[models.better_than_baseline == True].sort_values('validate_accuracy', ascending = False)"
   ]
  },
  {
   "cell_type": "markdown",
   "id": "8048d5f3",
   "metadata": {},
   "source": [
    "### 4. Use best model to test (note, must be manually entered)"
   ]
  },
  {
   "cell_type": "code",
   "execution_count": 8,
   "id": "82a407eb",
   "metadata": {},
   "outputs": [],
   "source": [
    "output = test_model(X_train, y_train, X_validate, y_validate, X_test, y_test, drop_list, baseline_acc = BASELINE_ACCURACY)\n"
   ]
  },
  {
   "cell_type": "code",
   "execution_count": 9,
   "id": "6d239bc0",
   "metadata": {},
   "outputs": [
    {
     "data": {
      "text/html": [
       "<div>\n",
       "<style scoped>\n",
       "    .dataframe tbody tr th:only-of-type {\n",
       "        vertical-align: middle;\n",
       "    }\n",
       "\n",
       "    .dataframe tbody tr th {\n",
       "        vertical-align: top;\n",
       "    }\n",
       "\n",
       "    .dataframe thead th {\n",
       "        text-align: right;\n",
       "    }\n",
       "</style>\n",
       "<table border=\"1\" class=\"dataframe\">\n",
       "  <thead>\n",
       "    <tr style=\"text-align: right;\">\n",
       "      <th></th>\n",
       "      <th>model</th>\n",
       "      <th>attributes</th>\n",
       "      <th>train_accuracy</th>\n",
       "      <th>validate_accuracy</th>\n",
       "      <th>test_accuracy</th>\n",
       "      <th>better_than_baseline</th>\n",
       "      <th>beats_baseline_by</th>\n",
       "    </tr>\n",
       "  </thead>\n",
       "  <tbody>\n",
       "    <tr>\n",
       "      <th>0</th>\n",
       "      <td>Decision Tree</td>\n",
       "      <td>max_depth = 6</td>\n",
       "      <td>0.65726</td>\n",
       "      <td>0.654563</td>\n",
       "      <td>0.649056</td>\n",
       "      <td>True</td>\n",
       "      <td>0.006149</td>\n",
       "    </tr>\n",
       "  </tbody>\n",
       "</table>\n",
       "</div>"
      ],
      "text/plain": [
       "           model     attributes  train_accuracy  validate_accuracy  \\\n",
       "0  Decision Tree  max_depth = 6         0.65726           0.654563   \n",
       "\n",
       "   test_accuracy  better_than_baseline  beats_baseline_by  \n",
       "0       0.649056                  True           0.006149  "
      ]
     },
     "execution_count": 9,
     "metadata": {},
     "output_type": "execute_result"
    }
   ],
   "source": [
    "output"
   ]
  },
  {
   "cell_type": "markdown",
   "id": "fb558dd8",
   "metadata": {},
   "source": [
    "### 5. Create predictions csv [turn to function for final in modeling.py]"
   ]
  },
  {
   "cell_type": "code",
   "execution_count": null,
   "id": "df9abd11",
   "metadata": {},
   "outputs": [],
   "source": [
    "tree = DecisionTreeClassifier(max_depth=6, random_state=123)"
   ]
  },
  {
   "cell_type": "code",
   "execution_count": null,
   "id": "51924774",
   "metadata": {},
   "outputs": [],
   "source": [
    "tree = tree.fit(X_train, y_train)"
   ]
  },
  {
   "cell_type": "code",
   "execution_count": null,
   "id": "31be0bc4",
   "metadata": {},
   "outputs": [],
   "source": [
    "y_tree_predict = tree.predict(X_test)"
   ]
  },
  {
   "cell_type": "code",
   "execution_count": null,
   "id": "63d08840",
   "metadata": {},
   "outputs": [],
   "source": [
    "y_tree_proba = tree.predict_proba(X_test)"
   ]
  },
  {
   "cell_type": "code",
   "execution_count": null,
   "id": "1e0cefb9",
   "metadata": {},
   "outputs": [],
   "source": [
    "proba_df = pd.DataFrame(y_tree_proba, columns=tree.classes_.tolist()).round(4)"
   ]
  },
  {
   "cell_type": "code",
   "execution_count": null,
   "id": "2ac9d779",
   "metadata": {},
   "outputs": [],
   "source": [
    "reset_test = (pd.concat([X_test, y_test], axis = 1).reset_index())"
   ]
  },
  {
   "cell_type": "code",
   "execution_count": null,
   "id": "e012caf1",
   "metadata": {},
   "outputs": [],
   "source": [
    "test_proba_df = pd.concat([reset_test, proba_df], axis=1)"
   ]
  },
  {
   "cell_type": "code",
   "execution_count": null,
   "id": "2a5f13f9",
   "metadata": {},
   "outputs": [],
   "source": [
    "test_proba_df = test_proba_df.merge(df, how = 'inner', left_on = 'index', right_index = True)"
   ]
  },
  {
   "cell_type": "code",
   "execution_count": null,
   "id": "65ae4b9f",
   "metadata": {},
   "outputs": [],
   "source": [
    "test_proba_df['predicted'] = y_tree_predict"
   ]
  },
  {
   "cell_type": "code",
   "execution_count": null,
   "id": "d61643cd",
   "metadata": {},
   "outputs": [],
   "source": [
    "csv_df = test_proba_df[['player','index','Made Shot', 'Missed Shot', 'predicted','shot_result_x']]\n",
    "csv_df = csv_df.rename(columns = {'shot_result_x':'actual'})"
   ]
  },
  {
   "cell_type": "code",
   "execution_count": null,
   "id": "757e4d4a",
   "metadata": {},
   "outputs": [],
   "source": [
    "csv_df.predicted.value_counts()"
   ]
  },
  {
   "cell_type": "code",
   "execution_count": null,
   "id": "d297e14e",
   "metadata": {},
   "outputs": [],
   "source": [
    "csv_df.info()\n",
    "csv_df.head()"
   ]
  },
  {
   "cell_type": "code",
   "execution_count": null,
   "id": "5ad68237",
   "metadata": {},
   "outputs": [],
   "source": [
    "csv_df.to_csv('predictions.csv')"
   ]
  },
  {
   "cell_type": "markdown",
   "id": "4d6d1472",
   "metadata": {},
   "source": [
    "#### Altogether:"
   ]
  },
  {
   "cell_type": "code",
   "execution_count": null,
   "id": "5f058bb1",
   "metadata": {},
   "outputs": [],
   "source": [
    "from modeling import predictions_generator"
   ]
  },
  {
   "cell_type": "code",
   "execution_count": null,
   "id": "8c2775e8",
   "metadata": {},
   "outputs": [],
   "source": [
    "predictions_generator(df, X_train, y_train, X_test, y_test)"
   ]
  },
  {
   "cell_type": "markdown",
   "id": "f1bce72a",
   "metadata": {},
   "source": [
    "# II. By-player model exploration"
   ]
  },
  {
   "cell_type": "markdown",
   "id": "4bfd9926",
   "metadata": {},
   "source": [
    "### 6. Single player test"
   ]
  },
  {
   "cell_type": "code",
   "execution_count": null,
   "id": "71ae48e3",
   "metadata": {},
   "outputs": [],
   "source": [
    "# For Trae Young\n",
    "player_id = 1629027"
   ]
  },
  {
   "cell_type": "code",
   "execution_count": null,
   "id": "f33431c1",
   "metadata": {},
   "outputs": [],
   "source": [
    "df, df_outlier_3pt, X_train_exp, X_train, y_train, X_validate, y_validate, X_test, y_test = wrangle_prep_player(player_id)"
   ]
  },
  {
   "cell_type": "code",
   "execution_count": null,
   "id": "0b144343",
   "metadata": {},
   "outputs": [],
   "source": [
    "baseline_model_maker(y_train, y_validate)[0]"
   ]
  },
  {
   "cell_type": "code",
   "execution_count": null,
   "id": "95cbdc88",
   "metadata": {},
   "outputs": [],
   "source": [
    "BASELINE_ACCURACY = baseline_model_maker(y_train, y_validate)[1]"
   ]
  },
  {
   "cell_type": "code",
   "execution_count": null,
   "id": "50789252",
   "metadata": {},
   "outputs": [],
   "source": [
    "models = model_maker(X_train, y_train, X_validate, y_validate, ['abs_time','play_time','since_rest'], baseline_acc = BASELINE_ACCURACY)"
   ]
  },
  {
   "cell_type": "code",
   "execution_count": null,
   "id": "8b221fec",
   "metadata": {},
   "outputs": [],
   "source": [
    "models[models.better_than_baseline == True].sort_values('validate_accuracy', ascending = False).head(1)"
   ]
  },
  {
   "cell_type": "markdown",
   "id": "e3d31d2e",
   "metadata": {},
   "source": [
    "### 7. Analyzing all elite players for modeling"
   ]
  },
  {
   "cell_type": "code",
   "execution_count": null,
   "id": "0c89fc61",
   "metadata": {},
   "outputs": [],
   "source": [
    "# Reset dataframes\n",
    "df, df_outlier_3pt, X_train_exp, X_train, y_train, X_validate, y_validate, X_test, y_test = wrangle_prep()"
   ]
  },
  {
   "cell_type": "code",
   "execution_count": null,
   "id": "ed19cdcc",
   "metadata": {},
   "outputs": [],
   "source": [
    "# Create a Series of v2 scores, binned by player\n",
    "tm_v2_scores = df.groupby('player').tm_v2.mean()\n",
    "# Calculate the std and mean\n",
    "stddev = tm_v2_scores.std()\n",
    "meanscore = tm_v2_scores.mean()\n",
    "# Create an elite cutoff score at two standard deviations above the mean\n",
    "elites = meanscore + 2 * stddev\n",
    "# Print the list of 'elite' players\n",
    "elites_list = tm_v2_scores[tm_v2_scores > elites].index"
   ]
  },
  {
   "cell_type": "code",
   "execution_count": null,
   "id": "fc1657b9",
   "metadata": {},
   "outputs": [],
   "source": [
    "elites_list = df[df.player.isin(elites_list)]"
   ]
  },
  {
   "cell_type": "code",
   "execution_count": null,
   "id": "14ed0aa5",
   "metadata": {},
   "outputs": [],
   "source": [
    "player_id_list = elites_list.player_id.unique()\n",
    "player_name_list = elites_list.player.unique()\n",
    "elites_tuple = list(zip(player_id_list, player_name_list))"
   ]
  },
  {
   "cell_type": "code",
   "execution_count": null,
   "id": "63b1165b",
   "metadata": {},
   "outputs": [],
   "source": [
    "best_models = pd.DataFrame()\n",
    "for player in elites_tuple:\n",
    "    print(player[1])\n",
    "    df, df_outlier_3pt, X_train_exp, X_train, y_train, X_validate, y_validate, X_test, y_test = wrangle_prep_player(player[0])\n",
    "    baseline_model_maker(y_train, y_validate)[0]\n",
    "    BASELINE_ACCURACY = baseline_model_maker(y_train, y_validate)[1]\n",
    "    models = model_maker(X_train, y_train, X_validate, y_validate, ['abs_time','play_time','since_rest'], baseline_acc = BASELINE_ACCURACY)\n",
    "    best_model = models[models.better_than_baseline == True].sort_values('validate_accuracy', ascending = False).head(1)\n",
    "    best_model['baseline'] = BASELINE_ACCURACY\n",
    "    best_model['player'] = player[1]\n",
    "    best_models = pd.concat([best_models, best_model])\n",
    "best_models"
   ]
  },
  {
   "cell_type": "code",
   "execution_count": null,
   "id": "0728fa57",
   "metadata": {},
   "outputs": [],
   "source": [
    "best_models = best_models.set_index('player')"
   ]
  },
  {
   "cell_type": "code",
   "execution_count": null,
   "id": "8693de4d",
   "metadata": {},
   "outputs": [],
   "source": [
    "best_models = best_models[['model','attributes','baseline','train_accuracy','validate_accuracy']]\n",
    "best_models"
   ]
  },
  {
   "cell_type": "markdown",
   "id": "8f240cf2",
   "metadata": {},
   "source": [
    "Note: Lebron James had no models that performed better than baseline."
   ]
  },
  {
   "cell_type": "markdown",
   "id": "9ef0db0e",
   "metadata": {},
   "source": [
    "#### Altogether - Elites"
   ]
  },
  {
   "cell_type": "code",
   "execution_count": null,
   "id": "43e1ff2b",
   "metadata": {},
   "outputs": [],
   "source": [
    "# Reset \n",
    "df, df_outlier_3pt, X_train_exp, X_train, y_train, X_validate, y_validate, X_test, y_test = wrangle_prep()"
   ]
  },
  {
   "cell_type": "code",
   "execution_count": null,
   "id": "243e22ec",
   "metadata": {},
   "outputs": [],
   "source": [
    "from modeling import best_model_elites"
   ]
  },
  {
   "cell_type": "code",
   "execution_count": null,
   "id": "2548dcc9",
   "metadata": {},
   "outputs": [],
   "source": [
    "best_models = best_model_elites(df, df_outlier_3pt, X_train_exp, X_train, y_train, X_validate, y_validate, X_test, y_test)"
   ]
  },
  {
   "cell_type": "markdown",
   "id": "177dc6bc",
   "metadata": {},
   "source": [
    "#### Altogether - Keldon"
   ]
  },
  {
   "cell_type": "code",
   "execution_count": 13,
   "id": "05f75115",
   "metadata": {},
   "outputs": [],
   "source": [
    "from modeling import player_model"
   ]
  },
  {
   "cell_type": "code",
   "execution_count": 14,
   "id": "441492ea",
   "metadata": {},
   "outputs": [],
   "source": [
    "player_name = 'Keldon Johnson'"
   ]
  },
  {
   "cell_type": "code",
   "execution_count": 15,
   "id": "6f590719",
   "metadata": {},
   "outputs": [
    {
     "name": "stdout",
     "output_type": "stream",
     "text": [
      "> Keldon Johnson\n",
      "Train = 221 rows (56.0%) | Validate = 95 rows (24.0%) | Test = 80 rows (20.0%)\n"
     ]
    }
   ],
   "source": [
    "best_model = player_model(df, X_train, y_train, X_validate, y_validate, player_name)"
   ]
  },
  {
   "cell_type": "code",
   "execution_count": 16,
   "id": "8119f1db",
   "metadata": {},
   "outputs": [
    {
     "data": {
      "text/html": [
       "<div>\n",
       "<style scoped>\n",
       "    .dataframe tbody tr th:only-of-type {\n",
       "        vertical-align: middle;\n",
       "    }\n",
       "\n",
       "    .dataframe tbody tr th {\n",
       "        vertical-align: top;\n",
       "    }\n",
       "\n",
       "    .dataframe thead th {\n",
       "        text-align: right;\n",
       "    }\n",
       "</style>\n",
       "<table border=\"1\" class=\"dataframe\">\n",
       "  <thead>\n",
       "    <tr style=\"text-align: right;\">\n",
       "      <th></th>\n",
       "      <th>model</th>\n",
       "      <th>attributes</th>\n",
       "      <th>baseline</th>\n",
       "      <th>train_accuracy</th>\n",
       "      <th>validate_accuracy</th>\n",
       "      <th>validate_improvement_over_baseline</th>\n",
       "    </tr>\n",
       "    <tr>\n",
       "      <th>player</th>\n",
       "      <th></th>\n",
       "      <th></th>\n",
       "      <th></th>\n",
       "      <th></th>\n",
       "      <th></th>\n",
       "      <th></th>\n",
       "    </tr>\n",
       "  </thead>\n",
       "  <tbody>\n",
       "    <tr>\n",
       "      <th>Keldon Johnson</th>\n",
       "      <td>Random Forest Classifier</td>\n",
       "      <td>leafs = 2 : depth = 2 : trees = 300</td>\n",
       "      <td>0.597285</td>\n",
       "      <td>0.692308</td>\n",
       "      <td>0.663158</td>\n",
       "      <td>0.065873</td>\n",
       "    </tr>\n",
       "  </tbody>\n",
       "</table>\n",
       "</div>"
      ],
      "text/plain": [
       "                                   model                           attributes  \\\n",
       "player                                                                          \n",
       "Keldon Johnson  Random Forest Classifier  leafs = 2 : depth = 2 : trees = 300   \n",
       "\n",
       "                baseline  train_accuracy  validate_accuracy  \\\n",
       "player                                                        \n",
       "Keldon Johnson  0.597285        0.692308           0.663158   \n",
       "\n",
       "                validate_improvement_over_baseline  \n",
       "player                                              \n",
       "Keldon Johnson                            0.065873  "
      ]
     },
     "execution_count": 16,
     "metadata": {},
     "output_type": "execute_result"
    }
   ],
   "source": [
    "best_model"
   ]
  }
 ],
 "metadata": {
  "kernelspec": {
   "display_name": "Python 3 (ipykernel)",
   "language": "python",
   "name": "python3"
  },
  "language_info": {
   "codemirror_mode": {
    "name": "ipython",
    "version": 3
   },
   "file_extension": ".py",
   "mimetype": "text/x-python",
   "name": "python",
   "nbconvert_exporter": "python",
   "pygments_lexer": "ipython3",
   "version": "3.9.7"
  }
 },
 "nbformat": 4,
 "nbformat_minor": 5
}
