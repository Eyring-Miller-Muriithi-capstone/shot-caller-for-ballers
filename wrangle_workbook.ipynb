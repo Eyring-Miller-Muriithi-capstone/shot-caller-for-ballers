{
 "cells": [
  {
   "cell_type": "markdown",
   "id": "075efc72",
   "metadata": {},
   "source": [
    "# Wrangle Workbook \n",
    "\n",
    "### This notebook is a refinement of scrap wrangle workbooks."
   ]
  },
  {
   "cell_type": "code",
   "execution_count": 1,
   "id": "46c660ae",
   "metadata": {},
   "outputs": [
    {
     "name": "stderr",
     "output_type": "stream",
     "text": [
      "/opt/homebrew/anaconda3/lib/python3.9/site-packages/scipy/__init__.py:146: UserWarning: A NumPy version >=1.16.5 and <1.23.0 is required for this version of SciPy (detected version 1.23.0\n",
      "  warnings.warn(f\"A NumPy version >={np_minversion} and <{np_maxversion}\"\n"
     ]
    }
   ],
   "source": [
    "import pandas as pd\n",
    "import numpy as np\n",
    "import sklearn.metrics as metrics\n",
    "from itertools import product\n",
    "\n",
    "from sklearn.model_selection import train_test_split\n",
    "\n",
    "import acquire\n",
    "import wrangle\n",
    "\n",
    "# Helpful Stuff\n",
    "import warnings\n",
    "warnings.filterwarnings('ignore')\n",
    "pd.set_option('display.max_columns', None)\n",
    "%load_ext autoreload\n",
    "%autoreload 2"
   ]
  },
  {
   "cell_type": "markdown",
   "id": "dcedb4c9",
   "metadata": {},
   "source": [
    "### 1. Add game 3pt stats per player, per player"
   ]
  },
  {
   "cell_type": "code",
   "execution_count": 2,
   "id": "a2f9bb77",
   "metadata": {},
   "outputs": [],
   "source": [
    "df = acquire.tome_prep()"
   ]
  },
  {
   "cell_type": "code",
   "execution_count": 3,
   "id": "fef9a1f9",
   "metadata": {},
   "outputs": [],
   "source": [
    "df1 = wrangle.game_shots(df)"
   ]
  },
  {
   "cell_type": "markdown",
   "id": "417fb3d7",
   "metadata": {},
   "source": [
    "### Add 3pt stats per player, cumulative"
   ]
  },
  {
   "cell_type": "code",
   "execution_count": 4,
   "id": "106a93ce",
   "metadata": {},
   "outputs": [],
   "source": [
    "df2 = wrangle.season_shots(df1)"
   ]
  },
  {
   "cell_type": "markdown",
   "id": "05eccfc9",
   "metadata": {},
   "source": [
    "### 3. Calculate cumulative 3pt metrics"
   ]
  },
  {
   "cell_type": "code",
   "execution_count": 5,
   "id": "7b059c4f",
   "metadata": {},
   "outputs": [],
   "source": [
    "df3 = wrangle.create_metrics(df2)"
   ]
  },
  {
   "cell_type": "markdown",
   "id": "af72b366",
   "metadata": {},
   "source": [
    "### 4. Add location (loc_x^2 + loc_y^2) ^ (1/2)"
   ]
  },
  {
   "cell_type": "code",
   "execution_count": 6,
   "id": "b4efac79",
   "metadata": {},
   "outputs": [],
   "source": [
    "df4 = wrangle.create_distance(df3)"
   ]
  },
  {
   "cell_type": "markdown",
   "id": "045e89a7",
   "metadata": {},
   "source": [
    "### 5. Add game_event_id"
   ]
  },
  {
   "cell_type": "code",
   "execution_count": 7,
   "id": "0dcdc417",
   "metadata": {},
   "outputs": [],
   "source": [
    "df5, outlier = wrangle.create_game_event(df4)"
   ]
  },
  {
   "cell_type": "markdown",
   "id": "d0fabe79",
   "metadata": {},
   "source": [
    "### 6. Split"
   ]
  },
  {
   "cell_type": "code",
   "execution_count": 8,
   "id": "9e1c9465",
   "metadata": {},
   "outputs": [
    {
     "name": "stdout",
     "output_type": "stream",
     "text": [
      "Train = 47131 rows (56.0%) | Validate = 20200 rows (24.0%) | Test = 16833 rows (20.0%)\n"
     ]
    }
   ],
   "source": [
    "train6, validate6, test6 = wrangle.splitter(df, target = 'shot_result')"
   ]
  },
  {
   "cell_type": "markdown",
   "id": "9c497c90",
   "metadata": {},
   "source": [
    "### 7. Encode categoricals"
   ]
  },
  {
   "cell_type": "code",
   "execution_count": 9,
   "id": "596c886f",
   "metadata": {},
   "outputs": [],
   "source": [
    "X_train_exp, train7, validate7, test7 = wrangle.encoder(train6, validate6, test6)"
   ]
  },
  {
   "cell_type": "markdown",
   "id": "ed8e1773",
   "metadata": {},
   "source": [
    "### 8. Scale and seperate in X and y - full pre wrangle"
   ]
  },
  {
   "cell_type": "code",
   "execution_count": 10,
   "id": "62f44692",
   "metadata": {},
   "outputs": [
    {
     "name": "stdout",
     "output_type": "stream",
     "text": [
      "Train = 47167 rows (56.0%) | Validate = 20215 rows (24.0%) | Test = 16846 rows (20.0%)\n"
     ]
    }
   ],
   "source": [
    "df, df_outlier_3pt, X_train_exp, X_train, y_train, X_validate, y_validate, X_test, y_test = wrangle.wrangle_prep()"
   ]
  },
  {
   "cell_type": "markdown",
   "id": "ef3395e0",
   "metadata": {},
   "source": [
    "### 9. Test on a single player"
   ]
  },
  {
   "cell_type": "code",
   "execution_count": 11,
   "id": "e46e9ba6",
   "metadata": {},
   "outputs": [
    {
     "name": "stdout",
     "output_type": "stream",
     "text": [
      "Train = 369 rows (56.0%) | Validate = 159 rows (24.0%) | Test = 133 rows (20.0%)\n"
     ]
    }
   ],
   "source": [
    "df, df_outlier_3pt, X_train_exp, X_train, y_train, X_validate, y_validate, X_test, y_test = wrangle.wrangle_prep_player(201939)"
   ]
  }
 ],
 "metadata": {
  "kernelspec": {
   "display_name": "Python 3 (ipykernel)",
   "language": "python",
   "name": "python3"
  },
  "language_info": {
   "codemirror_mode": {
    "name": "ipython",
    "version": 3
   },
   "file_extension": ".py",
   "mimetype": "text/x-python",
   "name": "python",
   "nbconvert_exporter": "python",
   "pygments_lexer": "ipython3",
   "version": "3.9.7"
  }
 },
 "nbformat": 4,
 "nbformat_minor": 5
}
