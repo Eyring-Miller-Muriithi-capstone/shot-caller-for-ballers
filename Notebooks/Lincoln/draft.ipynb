{
 "cells": [
  {
   "cell_type": "code",
   "execution_count": 1,
   "id": "e78ebbc9",
   "metadata": {},
   "outputs": [],
   "source": [
    "#tools for imports:\n",
    "import pandas as pd\n",
    "import numpy as np\n",
    "import matplotlib.pyplot as plt\n",
    "import seaborn as sns\n",
    "\n",
    "#api and endpoints from nbaapi.stats: team & player ids\n",
    "from nba_api.stats.static import players\n",
    "from nba_api.stats.static import teams\n",
    "\n",
    "##api and endpoints from nbaapi.stats: shot chart specifics\n",
    "from nba_api.stats.endpoints import shotchartdetail\n",
    "from nba_api.stats.endpoints import shotchartlineupdetail\n",
    "from nba_api.stats.endpoints import shotchartleaguewide\n",
    "from nba_api.stats.endpoints import playercareerstats\n",
    "\n",
    "\n",
    "from nba_api.stats.endpoints import leaguedashplayerptshot\n",
    "\n",
    "from nba_api.stats.endpoints import playerdashptshots\n"
   ]
  },
  {
   "cell_type": "code",
   "execution_count": 2,
   "id": "4c6b7e74",
   "metadata": {},
   "outputs": [
    {
     "data": {
      "text/plain": [
       "[{'id': 1629640,\n",
       "  'full_name': 'Keldon Johnson',\n",
       "  'first_name': 'Keldon',\n",
       "  'last_name': 'Johnson',\n",
       "  'is_active': True}]"
      ]
     },
     "execution_count": 2,
     "metadata": {},
     "output_type": "execute_result"
    }
   ],
   "source": [
    "#finding a players id:\n",
    "\n",
    "players.find_players_by_first_name('Keldon')\n"
   ]
  },
  {
   "cell_type": "code",
   "execution_count": 3,
   "id": "5902a634",
   "metadata": {},
   "outputs": [
    {
     "data": {
      "text/plain": [
       "[{'id': 1610612759,\n",
       "  'full_name': 'San Antonio Spurs',\n",
       "  'abbreviation': 'SAS',\n",
       "  'nickname': 'Spurs',\n",
       "  'city': 'San Antonio',\n",
       "  'state': 'Texas',\n",
       "  'year_founded': 1976}]"
      ]
     },
     "execution_count": 3,
     "metadata": {},
     "output_type": "execute_result"
    }
   ],
   "source": [
    "#finding a teams id by full name:\n",
    "teams.find_teams_by_full_name('spurs')\n"
   ]
  },
  {
   "cell_type": "code",
   "execution_count": 6,
   "id": "eecbf585",
   "metadata": {},
   "outputs": [],
   "source": [
    "def get_player_shotchart_detail(player_name, season_id):\n",
    "    nba_players = players.get_players()\n",
    "    player_dict = [player for player in nba_players if player [\"full_name\"]== \n",
    "    player_name][0]\n",
    "    print(player_dict)"
   ]
  },
  {
   "cell_type": "code",
   "execution_count": 7,
   "id": "4c5bb2b8",
   "metadata": {},
   "outputs": [
    {
     "ename": "TypeError",
     "evalue": "'module' object is not callable",
     "output_type": "error",
     "traceback": [
      "\u001b[0;31m---------------------------------------------------------------------------\u001b[0m",
      "\u001b[0;31mTypeError\u001b[0m                                 Traceback (most recent call last)",
      "\u001b[0;32m/var/folders/qg/y1d1577d6_zdj2rfwsn6lwsh0000gn/T/ipykernel_5013/1997506905.py\u001b[0m in \u001b[0;36m<module>\u001b[0;34m\u001b[0m\n\u001b[1;32m      1\u001b[0m \u001b[0;31m#creating a dataframe from shotchartdetails: (with Keldon Johnson's stats)\u001b[0m\u001b[0;34m\u001b[0m\u001b[0;34m\u001b[0m\u001b[0m\n\u001b[0;32m----> 2\u001b[0;31m \u001b[0mshotchart_df\u001b[0m \u001b[0;34m=\u001b[0m \u001b[0mshotchartdetail\u001b[0m\u001b[0;34m(\u001b[0m\u001b[0mteam_id\u001b[0m\u001b[0;34m,\u001b[0m \u001b[0mplayer_id\u001b[0m\u001b[0;34m)\u001b[0m\u001b[0;34m.\u001b[0m\u001b[0mget_normalized_dict\u001b[0m\u001b[0;34m(\u001b[0m\u001b[0;34m)\u001b[0m\u001b[0;34m\u001b[0m\u001b[0;34m\u001b[0m\u001b[0m\n\u001b[0m\u001b[1;32m      3\u001b[0m \u001b[0mdf\u001b[0m\u001b[0;34m=\u001b[0m\u001b[0mpd\u001b[0m\u001b[0;34m.\u001b[0m\u001b[0mDataFrame\u001b[0m\u001b[0;34m(\u001b[0m\u001b[0mshotchart_df\u001b[0m\u001b[0;34m[\u001b[0m\u001b[0;34m'Shot_Chart_Detail'\u001b[0m\u001b[0;34m]\u001b[0m\u001b[0;34m)\u001b[0m\u001b[0;34m\u001b[0m\u001b[0;34m\u001b[0m\u001b[0m\n\u001b[1;32m      4\u001b[0m \u001b[0mdf\u001b[0m\u001b[0;34m.\u001b[0m\u001b[0mhead\u001b[0m\u001b[0;34m(\u001b[0m\u001b[0;34m)\u001b[0m\u001b[0;34m\u001b[0m\u001b[0;34m\u001b[0m\u001b[0m\n",
      "\u001b[0;31mTypeError\u001b[0m: 'module' object is not callable"
     ]
    }
   ],
   "source": [
    "#creating a dataframe from shotchartdetails: (with Keldon Johnson's stats)\n",
    "shotchart_df = shotchartdetail(team_id, player_id).get_normalized_dict()\n",
    "df=pd.DataFrame(shotchart_df['Shot_Chart_Detail'])\n",
    "df.head()"
   ]
  },
  {
   "cell_type": "code",
   "execution_count": null,
   "id": "58a92192",
   "metadata": {},
   "outputs": [],
   "source": []
  },
  {
   "cell_type": "code",
   "execution_count": null,
   "id": "c29f62b6",
   "metadata": {
    "scrolled": true
   },
   "outputs": [],
   "source": [
    "# Anthony Davis\n",
    "career = playercareerstats.PlayerCareerStats(player_id='203076')\n",
    "career.get_data_frames()[0]"
   ]
  },
  {
   "cell_type": "code",
   "execution_count": null,
   "id": "c669d0c6",
   "metadata": {},
   "outputs": [],
   "source": [
    "career.columns\n"
   ]
  },
  {
   "cell_type": "code",
   "execution_count": null,
   "id": "144dcad7",
   "metadata": {},
   "outputs": [],
   "source": [
    "pd.set_option('display.max_columns', None)\n",
    "display"
   ]
  }
 ],
 "metadata": {
  "hide_input": false,
  "kernelspec": {
   "display_name": "Python 3 (ipykernel)",
   "language": "python",
   "name": "python3"
  },
  "language_info": {
   "codemirror_mode": {
    "name": "ipython",
    "version": 3
   },
   "file_extension": ".py",
   "mimetype": "text/x-python",
   "name": "python",
   "nbconvert_exporter": "python",
   "pygments_lexer": "ipython3",
   "version": "3.9.7"
  }
 },
 "nbformat": 4,
 "nbformat_minor": 5
}
