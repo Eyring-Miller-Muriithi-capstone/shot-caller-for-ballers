{
 "cells": [
  {
   "cell_type": "code",
   "execution_count": 1,
   "id": "ec9531a2",
   "metadata": {},
   "outputs": [],
   "source": [
    "import pandas as pd\n",
    "import numpy as np\n",
    "import scipy.stats as stats\n",
    "import os\n",
    "import time\n",
    "from acquire import player_season_3pa\n",
    "import explore\n",
    "\n",
    "# Endpoints from NBA API\n",
    "from nba_api.stats.endpoints import playbyplayv2\n",
    "from nba_api.stats.endpoints import gamerotation\n",
    "from nba_api.stats.endpoints import shotchartdetail\n",
    "from nba_api.stats.endpoints import teamplayerdashboard\n",
    "from nba_api.stats.endpoints import winprobabilitypbp\n",
    "\n",
    "# Static Imports from NBA API\n",
    "from nba_api.stats.static import players\n",
    "from nba_api.stats.static import teams\n",
    "\n",
    "# Plotting\n",
    "import matplotlib.pyplot as plt\n",
    "import seaborn as sns\n",
    "\n",
    "# Modeling\n",
    "from sklearn.cluster import KMeans\n",
    "\n",
    "# Helpful Stuff\n",
    "import warnings\n",
    "warnings.filterwarnings('ignore')\n",
    "pd.set_option('display.max_columns', None)\n"
   ]
  },
  {
   "cell_type": "code",
   "execution_count": null,
   "id": "d235d331",
   "metadata": {},
   "outputs": [
    {
     "name": "stdout",
     "output_type": "stream",
     "text": [
      "Loading game 12 of 63 for Bogdan Bogdanovic (player 1 of 596) in 2021-2022 Regular Season.                    "
     ]
    }
   ],
   "source": [
    "#calling in the data:\n",
    "from acquire import tome_prep\n",
    "df = tome_prep()"
   ]
  },
  {
   "cell_type": "code",
   "execution_count": null,
   "id": "ea8766a4",
   "metadata": {},
   "outputs": [],
   "source": [
    "#looking at data size and info:\n",
    "df.info()"
   ]
  },
  {
   "cell_type": "code",
   "execution_count": null,
   "id": "f43bfa5c",
   "metadata": {
    "scrolled": true
   },
   "outputs": [],
   "source": [
    "#stats on numeric variables:\n",
    "df.describe()"
   ]
  },
  {
   "cell_type": "markdown",
   "id": "427f6f22",
   "metadata": {},
   "source": [
    "### Univariates:"
   ]
  },
  {
   "cell_type": "code",
   "execution_count": null,
   "id": "03fc326c",
   "metadata": {
    "scrolled": true
   },
   "outputs": [],
   "source": [
    "#what is the shape of the numeric data? \n",
    "explore.univariate(df)"
   ]
  },
  {
   "cell_type": "markdown",
   "id": "9bd444eb",
   "metadata": {},
   "source": [
    "### Takeaways:\n",
    "- Play and rest times have clear right-skewed data.\n",
    "- it is interesting to see that 3pt shots are happening more often in certain locations on the court. (see loc_x)\n",
    "- score margin seems to be normally distributed\n",
    "- points made by player are right skewed"
   ]
  },
  {
   "cell_type": "markdown",
   "id": "14fb25e7",
   "metadata": {},
   "source": [
    "### Splitting data on train, validate, test to keep integrity of data and only predict on a portion of the data."
   ]
  },
  {
   "cell_type": "code",
   "execution_count": null,
   "id": "d743e477",
   "metadata": {
    "scrolled": true
   },
   "outputs": [],
   "source": [
    "#importing splitter function from splitter.py\n",
    "from splitter import splitter\n",
    "train, validate, test=splitter(df, target = 'shot_result', train_split_1 = .8, train_split_2 = .7, random_state = 123)"
   ]
  },
  {
   "cell_type": "code",
   "execution_count": null,
   "id": "23099fdd",
   "metadata": {},
   "outputs": [],
   "source": [
    "#checking out what train looks like:\n",
    "train.head()"
   ]
  },
  {
   "cell_type": "markdown",
   "id": "27174624",
   "metadata": {},
   "source": [
    "### Exploring Target Variable: shot result"
   ]
  },
  {
   "cell_type": "code",
   "execution_count": null,
   "id": "9e928835",
   "metadata": {},
   "outputs": [],
   "source": [
    "#looking at values:\n",
    "df.shot_result.value_counts()"
   ]
  },
  {
   "cell_type": "code",
   "execution_count": null,
   "id": "4da3ba42",
   "metadata": {},
   "outputs": [],
   "source": [
    "#putting into percentages:\n",
    "df.shot_result.value_counts(normalize=True)"
   ]
  },
  {
   "cell_type": "code",
   "execution_count": null,
   "id": "c93afdc6",
   "metadata": {},
   "outputs": [],
   "source": [
    "#looking at overall Made shot rate:\n",
    "made_shot_rate=df.shot_result.value_counts(normalize=True)[1]"
   ]
  },
  {
   "cell_type": "markdown",
   "id": "bc8cde4d",
   "metadata": {},
   "source": [
    "### Overall Made shot rate is 36%\n",
    "\n",
    "I want to see the rates based on:\n",
    "- Player(missed/made)\n",
    "- Team\n",
    "- Game\n",
    "- Shot type\n",
    "- Period"
   ]
  },
  {
   "cell_type": "code",
   "execution_count": null,
   "id": "2a489656",
   "metadata": {},
   "outputs": [],
   "source": [
    "#using a function by Stephen FitzSimon that takes in a predicted outcome\n",
    "#and returns the rate based on the feature against target variable:\n",
    "\n",
    "def get_pct_outcome(df, shot_cols = ['player']):\n",
    "    outputs = []\n",
    "    for cat in shot_cols:\n",
    "        for subcat in list(df[cat].unique()):\n",
    "            for outcome in list(df['shot_result'].unique()):\n",
    "                output = {\n",
    "                    'player_name': cat,\n",
    "                    'sub_col': subcat,\n",
    "                    'outcome': outcome,\n",
    "                    'total_shots_made':(df[df[cat]==subcat].shot_result == outcome).sum(),\n",
    "                    'proportion': (df[df[cat]==subcat].shot_result == outcome).mean()\n",
    "                }\n",
    "                outputs.append(output)\n",
    "    return pd.DataFrame(outputs)\n",
    "\n",
    "get_pct_outcome(df)"
   ]
  },
  {
   "cell_type": "markdown",
   "id": "35d61b99",
   "metadata": {},
   "source": []
  },
  {
   "cell_type": "code",
   "execution_count": null,
   "id": "d751b5ee",
   "metadata": {},
   "outputs": [],
   "source": []
  },
  {
   "cell_type": "code",
   "execution_count": null,
   "id": "6b8e076f",
   "metadata": {},
   "outputs": [],
   "source": [
    "#creating an object to ask questions on:\n",
    "proportion_df = get_pct_outcome(df)"
   ]
  },
  {
   "cell_type": "markdown",
   "id": "23d1f1a8",
   "metadata": {},
   "source": [
    "# Regular Season Leaders"
   ]
  },
  {
   "cell_type": "markdown",
   "id": "b7ab91d8",
   "metadata": {},
   "source": [
    "### Which players have the higher 3pt shot 'Made  Shot' rates?"
   ]
  },
  {
   "cell_type": "code",
   "execution_count": null,
   "id": "d7ae7495",
   "metadata": {},
   "outputs": [],
   "source": [
    "top_3pt_shooters = proportion_df[(proportion_df.proportion > made_shot_rate) & (proportion_df.outcome == 'Made Shot')]\n",
    "top_3pt_shooters[top_3pt_shooters.total_shots_made >= 87].sort_values(by='proportion', ascending=False).head(60)"
   ]
  },
  {
   "cell_type": "markdown",
   "id": "6a648b54",
   "metadata": {},
   "source": [
    "### What is the average of 3pt 'Made Shots' per season?"
   ]
  },
  {
   "cell_type": "code",
   "execution_count": null,
   "id": "aa9ef983",
   "metadata": {},
   "outputs": [],
   "source": [
    "#determining average of 3pt shots made per season:\n",
    "top_3pt_shooters.total_shots_made.mean()"
   ]
  },
  {
   "cell_type": "markdown",
   "id": "9162d8b7",
   "metadata": {},
   "source": [
    "### Takeaways:\n",
    "This gives us a good list of players that are shooting higher than the 35.7% made-shot rate of the NBA overall.\n",
    "\n",
    "I'll take out the the 1 shot-wonders however, so as not to skew the data."
   ]
  },
  {
   "cell_type": "code",
   "execution_count": null,
   "id": "27121cb8",
   "metadata": {},
   "outputs": [],
   "source": [
    "#looking at value_counts()\n",
    "top_3pt_shooters.total_shots_made.value_counts()"
   ]
  },
  {
   "cell_type": "markdown",
   "id": "adc805c1",
   "metadata": {},
   "source": [
    "_____________________________________________"
   ]
  },
  {
   "cell_type": "markdown",
   "id": "0d71f225",
   "metadata": {},
   "source": [
    "### Which teams have the highest rate of making 3pt shots?"
   ]
  },
  {
   "cell_type": "code",
   "execution_count": null,
   "id": "41dc9be5",
   "metadata": {},
   "outputs": [],
   "source": []
  },
  {
   "cell_type": "code",
   "execution_count": null,
   "id": "b5dbbe80",
   "metadata": {
    "scrolled": true
   },
   "outputs": [],
   "source": [
    "### Looking a proportions of 3pt shots based on teams:\n",
    "def get_pct_outcome(df, shot_cols = ['col']):\n",
    "    outputs = []\n",
    "    for cat in shot_cols:\n",
    "        for subcat in list(df[cat].unique()):\n",
    "            for outcome in list(df['shot_result'].unique()):\n",
    "                output = {\n",
    "                    'main_category': cat,\n",
    "                    'sub_category': subcat,\n",
    "                    'outcome': outcome,\n",
    "                    'total_shots_made':(df[df[cat]==subcat].shot_result == outcome).sum(),\n",
    "                    'proportion': (df[df[cat]==subcat].shot_result == outcome).mean()\n",
    "                }\n",
    "                outputs.append(output)\n",
    "    return pd.DataFrame(outputs)\n",
    "\n",
    "get_pct_outcome(df, shot_cols= ['team'])"
   ]
  },
  {
   "cell_type": "code",
   "execution_count": null,
   "id": "ebc45307",
   "metadata": {},
   "outputs": [],
   "source": [
    "#creating an object to apply to teams:\n",
    "team_prop_df = get_pct_outcome(df, shot_cols= ['team'])"
   ]
  },
  {
   "cell_type": "code",
   "execution_count": null,
   "id": "5b071406",
   "metadata": {
    "scrolled": true
   },
   "outputs": [],
   "source": [
    "# result of top teams that make 3pt shots:\n",
    "top_3pt_teams = team_prop_df[(team_prop_df.proportion > made_shot_rate) & (team_prop_df.outcome == 'Made Shot')]\n",
    "top_3pt_teams.sort_values(by='proportion', ascending=False)"
   ]
  },
  {
   "cell_type": "markdown",
   "id": "02dc91af",
   "metadata": {},
   "source": [
    "______________________"
   ]
  },
  {
   "cell_type": "markdown",
   "id": "8f89355f",
   "metadata": {},
   "source": [
    "### Which Shot types have higher 3pt shot rates?"
   ]
  },
  {
   "cell_type": "code",
   "execution_count": null,
   "id": "3a8ddcf4",
   "metadata": {
    "scrolled": true
   },
   "outputs": [],
   "source": [
    "shot_type_prop = get_pct_outcome(df, shot_cols= ['shot_type'])\n",
    "best_shot_types = shot_type_prop[(shot_type_prop.proportion > made_shot_rate) & (shot_type_prop.outcome == 'Made Shot')]\n",
    "best_shot_types.sort_values(by='proportion', ascending=False)"
   ]
  },
  {
   "cell_type": "markdown",
   "id": "c9b979d0",
   "metadata": {},
   "source": [
    "________________"
   ]
  },
  {
   "cell_type": "markdown",
   "id": "75c82df6",
   "metadata": {},
   "source": [
    "### Which zones have higher rates of shots made?"
   ]
  },
  {
   "cell_type": "code",
   "execution_count": null,
   "id": "03886b01",
   "metadata": {},
   "outputs": [],
   "source": [
    "zone_prop = get_pct_outcome(df, shot_cols= ['zone'])\n",
    "best_zones = zone_prop[(zone_prop.proportion > made_shot_rate) & (zone_prop.outcome == 'Made Shot')]\n",
    "best_zones.sort_values(by='proportion', ascending=False)"
   ]
  },
  {
   "cell_type": "markdown",
   "id": "f771cfbd",
   "metadata": {},
   "source": [
    "________________________________"
   ]
  },
  {
   "cell_type": "markdown",
   "id": "3af33c0e",
   "metadata": {},
   "source": [
    "### Hypothesis Tests: \n",
    "\n",
    "#### Hypothesis 1): 3pt shots made have a relationship with the type of shot taken."
   ]
  },
  {
   "cell_type": "code",
   "execution_count": null,
   "id": "abb97e1d",
   "metadata": {},
   "outputs": [],
   "source": [
    "alpha = 0.05\n",
    "null_hypothesis = \"3pt shot result and shot type are independent\"\n",
    "alternative_hypothesis = \"there is a relationship between 3pt shot results and shot type\"\n",
    "\n",
    "# Setup a crosstab of observed survival to pclass\n",
    "observed = pd.crosstab(train.shot_result, train.shot_type)\n",
    "\n",
    "chi2, p, degf, expected = stats.chi2_contingency(observed)\n",
    "\n",
    "if p < alpha:\n",
    "    print(\"Reject the null hypothesis that\", null_hypothesis)\n",
    "    print(\"Sufficient evidence to move forward understanding that\", alternative_hypothesis)\n",
    "else:\n",
    "    print(\"Fail to reject the null\")\n",
    "    print(\"Insufficient evidence to reject the null\")\n",
    "p\n",
    "\n"
   ]
  },
  {
   "cell_type": "markdown",
   "id": "d9a8273b",
   "metadata": {},
   "source": [
    "#### Hypothesis 2): 3pt shots made have a relationship with where the shot was taken."
   ]
  },
  {
   "cell_type": "code",
   "execution_count": null,
   "id": "bdd9f935",
   "metadata": {},
   "outputs": [],
   "source": [
    "alpha = 0.05\n",
    "null_hypothesis = \"3pt shot result and zone shot from are independent\"\n",
    "alternative_hypothesis = \"there is a relationship between 3pt shot results and zone shot from\"\n",
    "\n",
    "# Setup a crosstab of observed survival to pclass\n",
    "observed = pd.crosstab(train.shot_result, train.zone)\n",
    "\n",
    "chi2, p, degf, expected = stats.chi2_contingency(observed)\n",
    "\n",
    "if p < alpha:\n",
    "    print(\"Reject the null hypothesis that\", null_hypothesis)\n",
    "    print(\"Sufficient evidence to move forward understanding that\", alternative_hypothesis)\n",
    "else:\n",
    "    print(\"Fail to reject the null\")\n",
    "    print(\"Insufficient evidence to reject the null\")\n",
    "p\n",
    "\n"
   ]
  },
  {
   "cell_type": "markdown",
   "id": "dc213817",
   "metadata": {},
   "source": [
    "#### Hypothesis 3): 3pt shots made have a relationship with how much time a player has been in the game."
   ]
  },
  {
   "cell_type": "code",
   "execution_count": null,
   "id": "57d43009",
   "metadata": {},
   "outputs": [],
   "source": [
    "shots_made_sample = train[train.shot_result == 'Made Shot'].play_time"
   ]
  },
  {
   "cell_type": "code",
   "execution_count": null,
   "id": "cc3d04ee",
   "metadata": {},
   "outputs": [],
   "source": [
    "shots_made_sample.hist()"
   ]
  },
  {
   "cell_type": "code",
   "execution_count": null,
   "id": "9dcafe4e",
   "metadata": {},
   "outputs": [],
   "source": [
    "shots_missed_sample = train[train.shot_result == 'Missed Shot'].play_time"
   ]
  },
  {
   "cell_type": "code",
   "execution_count": null,
   "id": "8259754b",
   "metadata": {
    "scrolled": true
   },
   "outputs": [],
   "source": [
    "shots_missed_sample.hist()"
   ]
  },
  {
   "cell_type": "code",
   "execution_count": null,
   "id": "1a2a85a3",
   "metadata": {},
   "outputs": [],
   "source": [
    "#putting the made vs missed shots on same histogram for comparison:\n",
    "x = shots_made_sample\n",
    "y = shots_missed_sample\n",
    "plt.hist([x, y], color=['r','b'], alpha=0.5)"
   ]
  },
  {
   "cell_type": "markdown",
   "id": "d17a2146",
   "metadata": {},
   "source": [
    "#### $H_0$ Mean of made shots is higher or equal to the mean of missed shots. \n",
    "#### $H_a$ Mean of made shots is less than mean of missed shots"
   ]
  },
  {
   "cell_type": "code",
   "execution_count": null,
   "id": "bfbeeb5c",
   "metadata": {},
   "outputs": [],
   "source": [
    "alpha = .05\n",
    "\n",
    "#checking for equal variances:\n",
    "print(shots_made_sample.var())\n",
    "print(shots_missed_sample.var())\n"
   ]
  },
  {
   "cell_type": "markdown",
   "id": "c4e1af52",
   "metadata": {},
   "source": [
    "Variances are not quite equal so we will use equal_var as False:"
   ]
  },
  {
   "cell_type": "code",
   "execution_count": null,
   "id": "01604cab",
   "metadata": {},
   "outputs": [],
   "source": [
    "t, p = stats.ttest_ind(shots_made_sample, shots_missed_sample, equal_var=False)\n",
    "t, p / 2"
   ]
  },
  {
   "cell_type": "code",
   "execution_count": null,
   "id": "eed9e4c0",
   "metadata": {},
   "outputs": [],
   "source": [
    "print(\"is p/2 < alpha? \", p / 2 < alpha)\n",
    "print(\"is t > 0? \", t > 0)"
   ]
  },
  {
   "cell_type": "code",
   "execution_count": null,
   "id": "acb30eac",
   "metadata": {},
   "outputs": [],
   "source": [
    "if p / 2 > alpha:\n",
    "    print(\"We fail to reject $H_{0}$\")\n",
    "elif t < 0:\n",
    "    print(\"We fail to reject $H_{0}$\")\n",
    "else:\n",
    "    print(\"We reject $H_{0}$\")\n"
   ]
  },
  {
   "cell_type": "markdown",
   "id": "1da9bdbc",
   "metadata": {},
   "source": [
    "#### Takeaway: It looks like the amount of time in game does not relate to when a 3pt shot was made."
   ]
  },
  {
   "cell_type": "markdown",
   "id": "8c015256",
   "metadata": {},
   "source": [
    "______________________________"
   ]
  },
  {
   "cell_type": "markdown",
   "id": "d7c635b9",
   "metadata": {},
   "source": [
    "#### Hypothesis 4): 3pt shots made have a relationship with how much time a player had rested prior to the shoot."
   ]
  },
  {
   "cell_type": "code",
   "execution_count": null,
   "id": "c78e9f21",
   "metadata": {},
   "outputs": [],
   "source": [
    "shots_made_rest = train[train.shot_result == \"Made Shot\"].since_rest"
   ]
  },
  {
   "cell_type": "code",
   "execution_count": null,
   "id": "ea8b2dfb",
   "metadata": {},
   "outputs": [],
   "source": [
    "shots_made_rest.hist()"
   ]
  },
  {
   "cell_type": "code",
   "execution_count": null,
   "id": "f867dd8a",
   "metadata": {},
   "outputs": [],
   "source": [
    "shots_missed_rest = train[train.shot_result == \"Missed Shot\"].since_rest"
   ]
  },
  {
   "cell_type": "code",
   "execution_count": null,
   "id": "b8f92e0f",
   "metadata": {},
   "outputs": [],
   "source": [
    "shots_missed_rest.hist()"
   ]
  },
  {
   "cell_type": "markdown",
   "id": "77975f49",
   "metadata": {},
   "source": [
    "The shapes look very similar. Let's look at variances:"
   ]
  },
  {
   "cell_type": "markdown",
   "id": "9d6da35b",
   "metadata": {},
   "source": [
    "#### $H_0$ Mean of made shots is higher or equal to the mean of missed shots. \n",
    "#### $H_a$ Mean of made shots is less than mean of missed shots."
   ]
  },
  {
   "cell_type": "code",
   "execution_count": null,
   "id": "66af7e3e",
   "metadata": {},
   "outputs": [],
   "source": [
    "alpha = .05\n",
    "\n",
    "#checking for equal variances:\n",
    "print(shots_made_rest.var())\n",
    "print(shots_missed_rest.var())"
   ]
  },
  {
   "cell_type": "code",
   "execution_count": null,
   "id": "0819928c",
   "metadata": {},
   "outputs": [],
   "source": [
    "#variances not the same so var will equal false in test:\n",
    "t, p = stats.ttest_ind(shots_made_rest, shots_missed_rest, equal_var=False)\n",
    "t, p / 2"
   ]
  },
  {
   "cell_type": "code",
   "execution_count": null,
   "id": "21a771a2",
   "metadata": {},
   "outputs": [],
   "source": [
    "print(\"is p/2 < alpha? \", p / 2 < alpha)\n",
    "print(\"is t > 0? \", t > 0)"
   ]
  },
  {
   "cell_type": "code",
   "execution_count": null,
   "id": "a8b23167",
   "metadata": {},
   "outputs": [],
   "source": [
    "if p / 2 > alpha:\n",
    "    print(\"We fail to reject $H_{0}$\")\n",
    "elif t < 0:\n",
    "    print(\"We fail to reject $H_{0}$\")\n",
    "else:\n",
    "    print(\"We reject $H_{0}$\")"
   ]
  },
  {
   "cell_type": "markdown",
   "id": "e682d44b",
   "metadata": {},
   "source": [
    "_____________________________________"
   ]
  },
  {
   "cell_type": "markdown",
   "id": "5bb6c972",
   "metadata": {},
   "source": [
    "## Rechecking with more confidence in alpha and ANOVA testing \n",
    "for Missed vs Made and play time "
   ]
  },
  {
   "cell_type": "markdown",
   "id": "5b21b617",
   "metadata": {},
   "source": [
    "I want to make sure there isn't some odd randomness happening, so I'll use both the Missed and Made shots and do an Anova test with 99% accuracy check if there isn't something odd going on between the variables.\n",
    "\n",
    "I can tell on the histograms there is a difference happening, but maybe the 95% confidence in alpha needs to be set differently as the metrics may be close but still varying. We want to find/see that."
   ]
  },
  {
   "cell_type": "code",
   "execution_count": null,
   "id": "34323529",
   "metadata": {},
   "outputs": [],
   "source": [
    "null_hypothesis = \"Amount of time played when taking a 3pt shot has no relation to when shot is made or missed\"\n",
    "alternative_hypothesis = \"Amount of time played when taking a 3pt shot has a relation to when shot is made or missed\"\n",
    "alpha = 0.01 # Let's be 99% certain the result we see isn't due to chance/randomness"
   ]
  },
  {
   "cell_type": "code",
   "execution_count": null,
   "id": "501c302f",
   "metadata": {},
   "outputs": [],
   "source": [
    "# Isolating out made vs missed shots:\n",
    "made_shots = train[train.shot_result == \"Made Shot\"].play_time\n",
    "missed_shots = train[train.shot_result == \"Missed Shot\"].play_time"
   ]
  },
  {
   "cell_type": "code",
   "execution_count": null,
   "id": "aa95850d",
   "metadata": {},
   "outputs": [],
   "source": [
    "# f_oneway is our ANOVA test\n",
    "# See https://docs.scipy.org/doc/scipy/reference/generated/scipy.stats.f_oneway.html for more info\n",
    "from scipy.stats import f_oneway\n",
    "\n",
    "f, p = f_oneway(made_shots, missed_shots)\n",
    "p"
   ]
  },
  {
   "cell_type": "code",
   "execution_count": null,
   "id": "4811e38d",
   "metadata": {},
   "outputs": [],
   "source": [
    "if p < alpha:\n",
    "    print(\"We reject the null hypothesis that\", null_hypothesis)\n",
    "    print(\"We move forward with the alternative hypothesis that\", alternative_hypothesis)\n",
    "else:\n",
    "    print(\"We fail to reject the null hypothesis\")\n",
    "    print(\"Evidence does not support the claim that play time averages are significantly different across made or missed shots.\")"
   ]
  },
  {
   "cell_type": "markdown",
   "id": "7768d4e4",
   "metadata": {},
   "source": [
    "______________________________"
   ]
  },
  {
   "cell_type": "code",
   "execution_count": null,
   "id": "53fd6bea",
   "metadata": {},
   "outputs": [],
   "source": []
  }
 ],
 "metadata": {
  "hide_input": false,
  "kernelspec": {
   "display_name": "Python 3 (ipykernel)",
   "language": "python",
   "name": "python3"
  },
  "language_info": {
   "codemirror_mode": {
    "name": "ipython",
    "version": 3
   },
   "file_extension": ".py",
   "mimetype": "text/x-python",
   "name": "python",
   "nbconvert_exporter": "python",
   "pygments_lexer": "ipython3",
   "version": "3.9.7"
  }
 },
 "nbformat": 4,
 "nbformat_minor": 5
}
