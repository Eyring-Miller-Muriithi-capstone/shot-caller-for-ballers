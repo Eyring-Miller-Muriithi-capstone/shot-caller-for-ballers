{
 "cells": [
  {
   "cell_type": "code",
   "execution_count": 1,
   "id": "f684af0e",
   "metadata": {},
   "outputs": [],
   "source": [
    "import pandas as pd\n",
    "import json\n",
    "import matplotlib.pyplot as plt\n",
    "import numpy as np"
   ]
  },
  {
   "cell_type": "markdown",
   "id": "6da10f6c",
   "metadata": {},
   "source": [
    "getting nba api for all players for games in 2021-22"
   ]
  },
  {
   "cell_type": "code",
   "execution_count": 2,
   "id": "80bd85d5",
   "metadata": {},
   "outputs": [],
   "source": [
    "from nba_api.stats.endpoints import shotchartdetail\n",
    "\n",
    "response = shotchartdetail.ShotChartDetail(\n",
    "\tteam_id=0,\n",
    "\tplayer_id=0,\n",
    "\tseason_nullable='2021-22',\n",
    "\tseason_type_all_star='Regular Season'\n",
    ")\n",
    "\n",
    "content = json.loads(response.get_json())"
   ]
  },
  {
   "cell_type": "markdown",
   "id": "1dfb1669",
   "metadata": {},
   "source": [
    "#### Putting into a dataframe and putting into a csv file for Tableau:"
   ]
  },
  {
   "cell_type": "code",
   "execution_count": 3,
   "id": "91e9228d",
   "metadata": {},
   "outputs": [],
   "source": [
    "import pandas as pd\n",
    "\n",
    "# transform contents into dataframe\n",
    "results = content['resultSets'][0]\n",
    "headers = results['headers']\n",
    "rows = results['rowSet']\n",
    "df = pd.DataFrame(rows)\n",
    "df.columns = headers\n",
    "\n",
    "# write to csv file\n",
    "df.to_csv('playersseason.csv', index=False)"
   ]
  },
  {
   "cell_type": "code",
   "execution_count": null,
   "id": "cf18a132",
   "metadata": {},
   "outputs": [],
   "source": []
  }
 ],
 "metadata": {
  "kernelspec": {
   "display_name": "Python 3 (ipykernel)",
   "language": "python",
   "name": "python3"
  },
  "language_info": {
   "codemirror_mode": {
    "name": "ipython",
    "version": 3
   },
   "file_extension": ".py",
   "mimetype": "text/x-python",
   "name": "python",
   "nbconvert_exporter": "python",
   "pygments_lexer": "ipython3",
   "version": "3.9.7"
  }
 },
 "nbformat": 4,
 "nbformat_minor": 5
}
