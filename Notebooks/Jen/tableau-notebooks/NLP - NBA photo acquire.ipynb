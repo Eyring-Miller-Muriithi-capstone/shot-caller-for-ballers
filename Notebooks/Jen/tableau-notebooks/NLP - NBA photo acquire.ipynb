{
 "cells": [
  {
   "cell_type": "code",
   "execution_count": 1,
   "id": "0341cf47",
   "metadata": {},
   "outputs": [],
   "source": [
    "import pandas as pd\n",
    "import numpy as np\n",
    "import matplotlib.pyplot as plt\n",
    "import seaborn as sns\n",
    "\n",
    "from requests import get\n",
    "from bs4 import BeautifulSoup\n",
    "import os\n"
   ]
  },
  {
   "cell_type": "code",
   "execution_count": 2,
   "id": "ecd875f8",
   "metadata": {},
   "outputs": [],
   "source": [
    "url = 'https://www.nba.com/players'\n",
    "headers = {'User-Agent': 'Codeup Data Science'}\n",
    "response = get(url, headers=headers)"
   ]
  },
  {
   "cell_type": "code",
   "execution_count": 3,
   "id": "7607bd44",
   "metadata": {},
   "outputs": [
    {
     "name": "stdout",
     "output_type": "stream",
     "text": [
      "<!DOCTYPE html><html lang=\"en\" data-version=\"1.39.3\"><head><meta charSet=\"utf-8\"/><link rel=\"manifest\" href=\"/site-manifest.json\"/><meta name=\"viewport\" content=\"width=device-width,initial-scale=1,minimum-scale=1,maximum-scale=5\"/><script src=\"/newrelic/newrelic-prod.js\"></script><script src=\"https://assets.adobedtm.com/82bf3c13a525/38d894c71c0b/launch-ff3828f362fb.min.js\" defer=\"\"></script><link \n"
     ]
    }
   ],
   "source": [
    "print(response.text[:400])"
   ]
  },
  {
   "cell_type": "code",
   "execution_count": 4,
   "id": "fd2fb8a6",
   "metadata": {},
   "outputs": [],
   "source": [
    "soup = BeautifulSoup(response.content, 'html.parser')"
   ]
  },
  {
   "cell_type": "code",
   "execution_count": 16,
   "id": "ff9767a1",
   "metadata": {},
   "outputs": [],
   "source": [
    "img = soup.find('img', src='https://cdn.nba.com/headshots/nba/latest/260x190/1630173.png')"
   ]
  },
  {
   "cell_type": "code",
   "execution_count": 18,
   "id": "3d232001",
   "metadata": {},
   "outputs": [
    {
     "data": {
      "text/plain": [
       "<img alt=\"Precious Achiuwa Headshot\" class=\"PlayerImage_image__1smob PlayerImage_round__281uY\" loading=\"lazy\" src=\"https://cdn.nba.com/headshots/nba/latest/260x190/1630173.png\"/>"
      ]
     },
     "execution_count": 18,
     "metadata": {},
     "output_type": "execute_result"
    }
   ],
   "source": [
    "img"
   ]
  },
  {
   "cell_type": "code",
   "execution_count": null,
   "id": "9e0dd275",
   "metadata": {},
   "outputs": [],
   "source": [
    "f'https://cdn.nba.com/headshots/nba/latest/1040x760/{player_id}.png'\n",
    "\n",
    "\n"
   ]
  }
 ],
 "metadata": {
  "kernelspec": {
   "display_name": "Python 3 (ipykernel)",
   "language": "python",
   "name": "python3"
  },
  "language_info": {
   "codemirror_mode": {
    "name": "ipython",
    "version": 3
   },
   "file_extension": ".py",
   "mimetype": "text/x-python",
   "name": "python",
   "nbconvert_exporter": "python",
   "pygments_lexer": "ipython3",
   "version": "3.9.7"
  }
 },
 "nbformat": 4,
 "nbformat_minor": 5
}
