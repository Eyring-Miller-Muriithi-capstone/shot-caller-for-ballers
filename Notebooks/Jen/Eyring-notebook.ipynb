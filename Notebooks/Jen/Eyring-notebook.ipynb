{
 "cells": [
  {
   "cell_type": "code",
   "execution_count": 8,
   "id": "547e4e30",
   "metadata": {},
   "outputs": [],
   "source": [
    "#tools for imports:\n",
    "import pandas as pd\n",
    "import numpy as np\n",
    "import matplotlib.pyplot as plt\n",
    "import seaborn as sns\n",
    "\n",
    "#api and endpoints from nbaapi.stats: team & player ids\n",
    "from nba_api.stats.static import players\n",
    "from nba_api.stats.static import teams\n",
    "\n",
    "##api and endpoints from nbaapi.stats: shot chart specifics\n",
    "from nba_api.stats.endpoints import ShotChartDetail\n",
    "from nba_api.stats.endpoints import ShotChartLineupDetail\n",
    "from nba_api.stats.endpoints import ShotChartLeagueWide\n",
    "\n",
    "from nba_api.stats.endpoints import LeagueDashPlayerPtShot\n",
    "\n",
    "from nba_api.stats.endpoints import PlayerDashPtShots"
   ]
  },
  {
   "cell_type": "code",
   "execution_count": 2,
   "id": "8dc11f0c",
   "metadata": {},
   "outputs": [
    {
     "data": {
      "text/plain": [
       "[{'id': 1629640,\n",
       "  'full_name': 'Keldon Johnson',\n",
       "  'first_name': 'Keldon',\n",
       "  'last_name': 'Johnson',\n",
       "  'is_active': True}]"
      ]
     },
     "execution_count": 2,
     "metadata": {},
     "output_type": "execute_result"
    }
   ],
   "source": [
    "#finding a players id:\n",
    "players.find_players_by_first_name('Keldon')"
   ]
  },
  {
   "cell_type": "code",
   "execution_count": 3,
   "id": "e03c45d4",
   "metadata": {},
   "outputs": [
    {
     "data": {
      "text/plain": [
       "[{'id': 1610612759,\n",
       "  'full_name': 'San Antonio Spurs',\n",
       "  'abbreviation': 'SAS',\n",
       "  'nickname': 'Spurs',\n",
       "  'city': 'San Antonio',\n",
       "  'state': 'Texas',\n",
       "  'year_founded': 1976}]"
      ]
     },
     "execution_count": 3,
     "metadata": {},
     "output_type": "execute_result"
    }
   ],
   "source": [
    "#finding a teams id by full name:\n",
    "teams.find_teams_by_full_name('spurs')"
   ]
  },
  {
   "cell_type": "code",
   "execution_count": 4,
   "id": "d171d58b",
   "metadata": {},
   "outputs": [],
   "source": [
    "#setting up Keldon Johnson's variables:\n",
    "team_id = 1610612759\n",
    "player_id = 1629640"
   ]
  },
  {
   "cell_type": "code",
   "execution_count": 5,
   "id": "55cbe560",
   "metadata": {},
   "outputs": [
    {
     "data": {
      "text/html": [
       "<div>\n",
       "<style scoped>\n",
       "    .dataframe tbody tr th:only-of-type {\n",
       "        vertical-align: middle;\n",
       "    }\n",
       "\n",
       "    .dataframe tbody tr th {\n",
       "        vertical-align: top;\n",
       "    }\n",
       "\n",
       "    .dataframe thead th {\n",
       "        text-align: right;\n",
       "    }\n",
       "</style>\n",
       "<table border=\"1\" class=\"dataframe\">\n",
       "  <thead>\n",
       "    <tr style=\"text-align: right;\">\n",
       "      <th></th>\n",
       "      <th>GRID_TYPE</th>\n",
       "      <th>GAME_ID</th>\n",
       "      <th>GAME_EVENT_ID</th>\n",
       "      <th>PLAYER_ID</th>\n",
       "      <th>PLAYER_NAME</th>\n",
       "      <th>TEAM_ID</th>\n",
       "      <th>TEAM_NAME</th>\n",
       "      <th>PERIOD</th>\n",
       "      <th>MINUTES_REMAINING</th>\n",
       "      <th>SECONDS_REMAINING</th>\n",
       "      <th>...</th>\n",
       "      <th>SHOT_ZONE_AREA</th>\n",
       "      <th>SHOT_ZONE_RANGE</th>\n",
       "      <th>SHOT_DISTANCE</th>\n",
       "      <th>LOC_X</th>\n",
       "      <th>LOC_Y</th>\n",
       "      <th>SHOT_ATTEMPTED_FLAG</th>\n",
       "      <th>SHOT_MADE_FLAG</th>\n",
       "      <th>GAME_DATE</th>\n",
       "      <th>HTM</th>\n",
       "      <th>VTM</th>\n",
       "    </tr>\n",
       "  </thead>\n",
       "  <tbody>\n",
       "    <tr>\n",
       "      <th>0</th>\n",
       "      <td>Shot Chart Detail</td>\n",
       "      <td>0021900531</td>\n",
       "      <td>676</td>\n",
       "      <td>1629640</td>\n",
       "      <td>Keldon Johnson</td>\n",
       "      <td>1610612759</td>\n",
       "      <td>San Antonio Spurs</td>\n",
       "      <td>4</td>\n",
       "      <td>0</td>\n",
       "      <td>59</td>\n",
       "      <td>...</td>\n",
       "      <td>Center(C)</td>\n",
       "      <td>Less Than 8 ft.</td>\n",
       "      <td>5</td>\n",
       "      <td>20</td>\n",
       "      <td>50</td>\n",
       "      <td>1</td>\n",
       "      <td>1</td>\n",
       "      <td>20200104</td>\n",
       "      <td>MIL</td>\n",
       "      <td>SAS</td>\n",
       "    </tr>\n",
       "    <tr>\n",
       "      <th>1</th>\n",
       "      <td>Shot Chart Detail</td>\n",
       "      <td>0021900734</td>\n",
       "      <td>629</td>\n",
       "      <td>1629640</td>\n",
       "      <td>Keldon Johnson</td>\n",
       "      <td>1610612759</td>\n",
       "      <td>San Antonio Spurs</td>\n",
       "      <td>4</td>\n",
       "      <td>1</td>\n",
       "      <td>16</td>\n",
       "      <td>...</td>\n",
       "      <td>Center(C)</td>\n",
       "      <td>Less Than 8 ft.</td>\n",
       "      <td>6</td>\n",
       "      <td>54</td>\n",
       "      <td>43</td>\n",
       "      <td>1</td>\n",
       "      <td>1</td>\n",
       "      <td>20200201</td>\n",
       "      <td>SAS</td>\n",
       "      <td>CHA</td>\n",
       "    </tr>\n",
       "    <tr>\n",
       "      <th>2</th>\n",
       "      <td>Shot Chart Detail</td>\n",
       "      <td>0021900846</td>\n",
       "      <td>533</td>\n",
       "      <td>1629640</td>\n",
       "      <td>Keldon Johnson</td>\n",
       "      <td>1610612759</td>\n",
       "      <td>San Antonio Spurs</td>\n",
       "      <td>4</td>\n",
       "      <td>11</td>\n",
       "      <td>29</td>\n",
       "      <td>...</td>\n",
       "      <td>Center(C)</td>\n",
       "      <td>Less Than 8 ft.</td>\n",
       "      <td>1</td>\n",
       "      <td>-18</td>\n",
       "      <td>-2</td>\n",
       "      <td>1</td>\n",
       "      <td>1</td>\n",
       "      <td>20200223</td>\n",
       "      <td>OKC</td>\n",
       "      <td>SAS</td>\n",
       "    </tr>\n",
       "    <tr>\n",
       "      <th>3</th>\n",
       "      <td>Shot Chart Detail</td>\n",
       "      <td>0021900846</td>\n",
       "      <td>555</td>\n",
       "      <td>1629640</td>\n",
       "      <td>Keldon Johnson</td>\n",
       "      <td>1610612759</td>\n",
       "      <td>San Antonio Spurs</td>\n",
       "      <td>4</td>\n",
       "      <td>9</td>\n",
       "      <td>14</td>\n",
       "      <td>...</td>\n",
       "      <td>Center(C)</td>\n",
       "      <td>Less Than 8 ft.</td>\n",
       "      <td>0</td>\n",
       "      <td>0</td>\n",
       "      <td>1</td>\n",
       "      <td>1</td>\n",
       "      <td>1</td>\n",
       "      <td>20200223</td>\n",
       "      <td>OKC</td>\n",
       "      <td>SAS</td>\n",
       "    </tr>\n",
       "    <tr>\n",
       "      <th>4</th>\n",
       "      <td>Shot Chart Detail</td>\n",
       "      <td>0021900846</td>\n",
       "      <td>570</td>\n",
       "      <td>1629640</td>\n",
       "      <td>Keldon Johnson</td>\n",
       "      <td>1610612759</td>\n",
       "      <td>San Antonio Spurs</td>\n",
       "      <td>4</td>\n",
       "      <td>8</td>\n",
       "      <td>8</td>\n",
       "      <td>...</td>\n",
       "      <td>Center(C)</td>\n",
       "      <td>Less Than 8 ft.</td>\n",
       "      <td>6</td>\n",
       "      <td>65</td>\n",
       "      <td>25</td>\n",
       "      <td>1</td>\n",
       "      <td>1</td>\n",
       "      <td>20200223</td>\n",
       "      <td>OKC</td>\n",
       "      <td>SAS</td>\n",
       "    </tr>\n",
       "  </tbody>\n",
       "</table>\n",
       "<p>5 rows × 24 columns</p>\n",
       "</div>"
      ],
      "text/plain": [
       "           GRID_TYPE     GAME_ID  GAME_EVENT_ID  PLAYER_ID     PLAYER_NAME  \\\n",
       "0  Shot Chart Detail  0021900531            676    1629640  Keldon Johnson   \n",
       "1  Shot Chart Detail  0021900734            629    1629640  Keldon Johnson   \n",
       "2  Shot Chart Detail  0021900846            533    1629640  Keldon Johnson   \n",
       "3  Shot Chart Detail  0021900846            555    1629640  Keldon Johnson   \n",
       "4  Shot Chart Detail  0021900846            570    1629640  Keldon Johnson   \n",
       "\n",
       "      TEAM_ID          TEAM_NAME  PERIOD  MINUTES_REMAINING  \\\n",
       "0  1610612759  San Antonio Spurs       4                  0   \n",
       "1  1610612759  San Antonio Spurs       4                  1   \n",
       "2  1610612759  San Antonio Spurs       4                 11   \n",
       "3  1610612759  San Antonio Spurs       4                  9   \n",
       "4  1610612759  San Antonio Spurs       4                  8   \n",
       "\n",
       "   SECONDS_REMAINING  ... SHOT_ZONE_AREA  SHOT_ZONE_RANGE SHOT_DISTANCE LOC_X  \\\n",
       "0                 59  ...      Center(C)  Less Than 8 ft.             5    20   \n",
       "1                 16  ...      Center(C)  Less Than 8 ft.             6    54   \n",
       "2                 29  ...      Center(C)  Less Than 8 ft.             1   -18   \n",
       "3                 14  ...      Center(C)  Less Than 8 ft.             0     0   \n",
       "4                  8  ...      Center(C)  Less Than 8 ft.             6    65   \n",
       "\n",
       "  LOC_Y SHOT_ATTEMPTED_FLAG  SHOT_MADE_FLAG  GAME_DATE  HTM  VTM  \n",
       "0    50                   1               1   20200104  MIL  SAS  \n",
       "1    43                   1               1   20200201  SAS  CHA  \n",
       "2    -2                   1               1   20200223  OKC  SAS  \n",
       "3     1                   1               1   20200223  OKC  SAS  \n",
       "4    25                   1               1   20200223  OKC  SAS  \n",
       "\n",
       "[5 rows x 24 columns]"
      ]
     },
     "execution_count": 5,
     "metadata": {},
     "output_type": "execute_result"
    }
   ],
   "source": [
    "#creating a dataframe from shotchartdetails: (with Keldon Johnson's stats)\n",
    "shotchart_df = ShotChartDetail(team_id, player_id).get_normalized_dict()\n",
    "df=pd.DataFrame(shotchart_df['Shot_Chart_Detail'])\n",
    "df.head()"
   ]
  },
  {
   "cell_type": "code",
   "execution_count": 23,
   "id": "5833dbcf",
   "metadata": {},
   "outputs": [
    {
     "name": "stdout",
     "output_type": "stream",
     "text": [
      "<class 'pandas.core.frame.DataFrame'>\n",
      "RangeIndex: 862 entries, 0 to 861\n",
      "Data columns (total 24 columns):\n",
      " #   Column               Non-Null Count  Dtype \n",
      "---  ------               --------------  ----- \n",
      " 0   GRID_TYPE            862 non-null    object\n",
      " 1   GAME_ID              862 non-null    object\n",
      " 2   GAME_EVENT_ID        862 non-null    int64 \n",
      " 3   PLAYER_ID            862 non-null    int64 \n",
      " 4   PLAYER_NAME          862 non-null    object\n",
      " 5   TEAM_ID              862 non-null    int64 \n",
      " 6   TEAM_NAME            862 non-null    object\n",
      " 7   PERIOD               862 non-null    int64 \n",
      " 8   MINUTES_REMAINING    862 non-null    int64 \n",
      " 9   SECONDS_REMAINING    862 non-null    int64 \n",
      " 10  EVENT_TYPE           862 non-null    object\n",
      " 11  ACTION_TYPE          862 non-null    object\n",
      " 12  SHOT_TYPE            862 non-null    object\n",
      " 13  SHOT_ZONE_BASIC      862 non-null    object\n",
      " 14  SHOT_ZONE_AREA       862 non-null    object\n",
      " 15  SHOT_ZONE_RANGE      862 non-null    object\n",
      " 16  SHOT_DISTANCE        862 non-null    int64 \n",
      " 17  LOC_X                862 non-null    int64 \n",
      " 18  LOC_Y                862 non-null    int64 \n",
      " 19  SHOT_ATTEMPTED_FLAG  862 non-null    int64 \n",
      " 20  SHOT_MADE_FLAG       862 non-null    int64 \n",
      " 21  GAME_DATE            862 non-null    object\n",
      " 22  HTM                  862 non-null    object\n",
      " 23  VTM                  862 non-null    object\n",
      "dtypes: int64(11), object(13)\n",
      "memory usage: 161.8+ KB\n"
     ]
    }
   ],
   "source": [
    "#looking at columns:\n",
    "df.info()"
   ]
  },
  {
   "cell_type": "code",
   "execution_count": null,
   "id": "f2e19c5e",
   "metadata": {},
   "outputs": [],
   "source": [
    "#breaking GAME_DATE into seasons by turning into DateTime astype first:\n"
   ]
  },
  {
   "cell_type": "code",
   "execution_count": 24,
   "id": "7c5a2a41",
   "metadata": {},
   "outputs": [
    {
     "data": {
      "text/plain": [
       "0      2PT Field Goal\n",
       "1      2PT Field Goal\n",
       "2      2PT Field Goal\n",
       "3      2PT Field Goal\n",
       "4      2PT Field Goal\n",
       "            ...      \n",
       "857    2PT Field Goal\n",
       "858    2PT Field Goal\n",
       "859    2PT Field Goal\n",
       "860    2PT Field Goal\n",
       "861    3PT Field Goal\n",
       "Name: SHOT_TYPE, Length: 862, dtype: object"
      ]
     },
     "execution_count": 24,
     "metadata": {},
     "output_type": "execute_result"
    }
   ],
   "source": [
    "#looking for 3pt shots and name of string:\n",
    "df.SHOT_TYPE"
   ]
  },
  {
   "cell_type": "code",
   "execution_count": 30,
   "id": "ea35487d",
   "metadata": {},
   "outputs": [],
   "source": [
    "df3pt = df[df.SHOT_TYPE == '3PT Field Goal']"
   ]
  },
  {
   "cell_type": "code",
   "execution_count": 33,
   "id": "bd01c266",
   "metadata": {
    "scrolled": false
   },
   "outputs": [
    {
     "data": {
      "text/plain": [
       "<AxesSubplot:xlabel='LOC_X', ylabel='LOC_Y'>"
      ]
     },
     "execution_count": 33,
     "metadata": {},
     "output_type": "execute_result"
    },
    {
     "data": {
      "image/png": "[encoded data removed]",
      "text/plain": [
       "<Figure size 1080x576 with 1 Axes>"
      ]
     },
     "metadata": {
      "needs_background": "light"
     },
     "output_type": "display_data"
    }
   ],
   "source": [
    "#creating a scatterplot of 3ptshots:\n",
    "fig, ax1 = plt.subplots(figsize=(15,8))\n",
    "sns.scatterplot(x= df3pt.LOC_X, y=df3pt.LOC_Y, data=df3pt.SHOT_TYPE == '3PT Field Goal')\n"
   ]
  },
  {
   "cell_type": "code",
   "execution_count": 6,
   "id": "fa7e41ab",
   "metadata": {},
   "outputs": [
    {
     "name": "stdout",
     "output_type": "stream",
     "text": [
      "0      False\n",
      "1      False\n",
      "2      False\n",
      "3      False\n",
      "4      False\n",
      "       ...  \n",
      "857    False\n",
      "858    False\n",
      "859    False\n",
      "860    False\n",
      "861    False\n",
      "Name: SHOT_MADE_FLAG, Length: 862, dtype: bool\n"
     ]
    }
   ],
   "source": [
    "#looking to find the 3pt shots that were missed:\n",
    "print(df['SHOT_MADE_FLAG']== 0)"
   ]
  },
  {
   "cell_type": "markdown",
   "id": "9b328e88",
   "metadata": {},
   "source": [
    "#### Hmmm....doesn't exist...will have to try another endpoint.."
   ]
  },
  {
   "cell_type": "code",
   "execution_count": null,
   "id": "9cbaa9eb",
   "metadata": {},
   "outputs": [],
   "source": []
  }
 ],
 "metadata": {
  "kernelspec": {
   "display_name": "Python 3 (ipykernel)",
   "language": "python",
   "name": "python3"
  },
  "language_info": {
   "codemirror_mode": {
    "name": "ipython",
    "version": 3
   },
   "file_extension": ".py",
   "mimetype": "text/x-python",
   "name": "python",
   "nbconvert_exporter": "python",
   "pygments_lexer": "ipython3",
   "version": "3.9.7"
  }
 },
 "nbformat": 4,
 "nbformat_minor": 5
}
