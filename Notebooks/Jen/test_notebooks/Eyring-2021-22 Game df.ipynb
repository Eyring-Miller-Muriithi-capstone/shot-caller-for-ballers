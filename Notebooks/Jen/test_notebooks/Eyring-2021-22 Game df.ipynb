{
 "cells": [
  {
   "cell_type": "code",
   "execution_count": null,
   "id": "efc4e75d",
   "metadata": {},
   "outputs": [],
   "source": [
    "import pandas as pd\n",
    "import numpy as np\n",
    "import scipy.stats as stats\n",
    "import os\n",
    "import time\n",
    "from acquire import player_season_3pa\n",
    "\n",
    "# Endpoints from NBA API\n",
    "from nba_api.stats.endpoints import playbyplayv2\n",
    "from nba_api.stats.endpoints import gamerotation\n",
    "from nba_api.stats.endpoints import shotchartdetail\n",
    "from nba_api.stats.endpoints import teamplayerdashboard\n",
    "from nba_api.stats.endpoints import winprobabilitypbp\n",
    "\n",
    "# Static Imports from NBA API\n",
    "from nba_api.stats.static import players\n",
    "from nba_api.stats.static import teams\n",
    "\n",
    "# Plotting\n",
    "import matplotlib.pyplot as plt\n",
    "import seaborn as sns\n",
    "\n",
    "# Modeling\n",
    "from sklearn.cluster import KMeans\n",
    "\n",
    "# Helpful Stuff\n",
    "import warnings\n",
    "warnings.filterwarnings('ignore')\n",
    "pd.set_option('display.max_columns', None)"
   ]
  },
  {
   "cell_type": "code",
   "execution_count": null,
   "id": "f9ed0a41",
   "metadata": {},
   "outputs": [],
   "source": [
    "df_Beasley = player_season_3pa('Malik Beasley')"
   ]
  },
  {
   "cell_type": "code",
   "execution_count": null,
   "id": "cdccf04b",
   "metadata": {},
   "outputs": [],
   "source": [
    "df_Beasley"
   ]
  },
  {
   "cell_type": "code",
   "execution_count": null,
   "id": "39acd99c",
   "metadata": {},
   "outputs": [],
   "source": []
  },
  {
   "cell_type": "code",
   "execution_count": null,
   "id": "98a6eda3",
   "metadata": {},
   "outputs": [],
   "source": []
  },
  {
   "cell_type": "code",
   "execution_count": null,
   "id": "853cd0c2",
   "metadata": {},
   "outputs": [],
   "source": [
    "#finding MIN game with the most 3pts shots taken by Malik:\n",
    "df_gameid = shotchartdetail.ShotChartDetail(team_id = 1610612750, player_id = 1627736).get_data_frames()[0]\n",
    "df_gameid[df_gameid.GAME_DATE == '20220309']"
   ]
  },
  {
   "cell_type": "code",
   "execution_count": null,
   "id": "ef46f290",
   "metadata": {},
   "outputs": [],
   "source": [
    "df_teams = pd.DataFrame(teams.get_teams())\n",
    "team_id_list = list(df_teams.id)"
   ]
  },
  {
   "cell_type": "markdown",
   "id": "026e0c00",
   "metadata": {},
   "source": [
    "#### Save the player_id/team_id combo to a csv"
   ]
  },
  {
   "cell_type": "code",
   "execution_count": null,
   "id": "5aaf3714",
   "metadata": {},
   "outputs": [],
   "source": [
    "filename = 'team_player_ids.csv'\n",
    "if os.path.isfile(filename):\n",
    "    team_player_ids =  pd.read_csv(filename, index_col=0)\n",
    "else:\n",
    "    players_list = []\n",
    "    for team in team_id_list:\n",
    "        df_tpd = teamplayerdashboard.TeamPlayerDashboard(team,\n",
    "                                                         season = '2021-22').get_data_frames()\n",
    "        player_list = list(df_tpd[1].PLAYER_ID)\n",
    "        for player in player_list:\n",
    "            row = [team,player]\n",
    "            players_list.append(row)\n",
    "    team_player_ids = pd.DataFrame(players_list, columns = ['team_id','player_id'])\n",
    "    team_player_ids.to_csv('team_player_ids.csv')"
   ]
  },
  {
   "cell_type": "markdown",
   "id": "92e6de76",
   "metadata": {},
   "source": [
    "## Acquiring a dataframe of every shot taken from the 2021-2022 regular NBA season."
   ]
  },
  {
   "cell_type": "code",
   "execution_count": null,
   "id": "35cf9b2f",
   "metadata": {},
   "outputs": [],
   "source": [
    "players_list = team_player_ids.values.tolist()"
   ]
  },
  {
   "cell_type": "code",
   "execution_count": null,
   "id": "82208131",
   "metadata": {},
   "outputs": [],
   "source": [
    "\"\"\"This function will acquire and cache .csv in notebook directory\"\"\"\n",
    "filename2 = 'all_last_season_shots.csv'\n",
    "if os.path.isfile(filename2):\n",
    "    df_all_shots =  pd.read_csv(filename2, index_col=0)\n",
    "else:\n",
    "    players_list = []\n",
    "    df = pd.DataFrame()\n",
    "    index = 0\n",
    "    for player in players_list:\n",
    "        print(f'\\rFetching index {index} of 714', end='')\n",
    "        df_pl = shotchartdetail.ShotChartDetail(team_id = player[0],\n",
    "                                                        player_id = player[1],\n",
    "                                                        season_type_all_star='Regular Season',\n",
    "                                                        season_nullable='2021-22',\n",
    "                                                        context_measure_simple = 'FG3A').get_data_frames()\n",
    "        time.sleep(.5)\n",
    "        index += 1\n",
    "        #df = pd.concat([df, df_pl[0]])\n",
    "        #df.to_csv(filename2) these last two lines of code are looping and overwriting the current csv until last time \n",
    "        #through the loop.\n",
    "        \n",
    "        "
   ]
  },
  {
   "cell_type": "markdown",
   "id": "b0f13a46",
   "metadata": {},
   "source": [
    "## Adding in only 3pt shots into the dataframe:\n",
    "\n",
    "-We are removing outliers by taking the sum of the lowest and highest quantile and multiplying by 1.5 to create an IQR upper bound (removing the anomaly shots that are opposite court-side and keeping the shots only with the 3pt shot range)."
   ]
  },
  {
   "cell_type": "code",
   "execution_count": null,
   "id": "aa1dc1e0",
   "metadata": {},
   "outputs": [],
   "source": [
    "#calling in our df_all_shots dataframe and resetting index:\n",
    "df_all_shots = df_all_shots.reset_index(drop = True)"
   ]
  },
  {
   "cell_type": "code",
   "execution_count": null,
   "id": "1e6afee7",
   "metadata": {},
   "outputs": [],
   "source": [
    "#creating a df for only the 3pt shots taken:\n",
    "df_all_3pt = df_all_shots[df_all_shots.SHOT_TYPE == '3PT Field Goal']"
   ]
  },
  {
   "cell_type": "code",
   "execution_count": null,
   "id": "8d54cfe3",
   "metadata": {},
   "outputs": [],
   "source": [
    "#Creating an IQR upper bound to remove the large anomaly 3pt shots taken.\n",
    "low = df_all_3pt.SHOT_DISTANCE.quantile(.25)\n",
    "high = df_all_3pt.SHOT_DISTANCE.quantile(.75)\n",
    "add = (high-low) * 1.5\n",
    "bound = high + add\n",
    "#this is where our bound is:\n",
    "bound"
   ]
  },
  {
   "cell_type": "code",
   "execution_count": null,
   "id": "7617b5ee",
   "metadata": {},
   "outputs": [],
   "source": [
    "#creating our bounds: any thing over 29ft in shot distance is in outliers df:\n",
    "df_outlier_3pt = df_all_3pt[df_all_3pt.SHOT_DISTANCE > 29.0]"
   ]
  },
  {
   "cell_type": "code",
   "execution_count": null,
   "id": "108737b5",
   "metadata": {},
   "outputs": [],
   "source": [
    "#anything less than 29 or equal to is now our df_3pt df:\n",
    "df_3pt = df_all_3pt[df_all_3pt.SHOT_DISTANCE <= 29.0]"
   ]
  },
  {
   "cell_type": "code",
   "execution_count": null,
   "id": "8fa5b34f",
   "metadata": {},
   "outputs": [],
   "source": [
    "#recreating our main df to only hold those 3pt shots and IQR:\n",
    "df_shots = df_all_shots[df_all_shots.SHOT_DISTANCE <= 29.0]"
   ]
  },
  {
   "cell_type": "markdown",
   "id": "7d1cf2e0",
   "metadata": {},
   "source": [
    "### Clustering the 3pt shot locations (once outliers are taken out)"
   ]
  },
  {
   "cell_type": "code",
   "execution_count": null,
   "id": "79122879",
   "metadata": {},
   "outputs": [],
   "source": [
    "#creating our X variable:\n",
    "X = df_3pt[['LOC_X','LOC_Y']]"
   ]
  },
  {
   "cell_type": "code",
   "execution_count": null,
   "id": "90b3bffc",
   "metadata": {},
   "outputs": [],
   "source": [
    "#we found that using 7 kmean clusters gave us not only good 3pt\n",
    "#area clusters, but also shots made in center court of the arch\n",
    "kmeans = KMeans(n_clusters=7)\n",
    "kmeans.fit(X)\n",
    "\n",
    "clusters = kmeans.predict(X)"
   ]
  },
  {
   "cell_type": "code",
   "execution_count": null,
   "id": "af1f8c1a",
   "metadata": {},
   "outputs": [],
   "source": [
    "#we will add a new column onto our main df to hold these clusters:\n",
    "df_3pt['three_pt_location'] = clusters"
   ]
  },
  {
   "cell_type": "code",
   "execution_count": null,
   "id": "cbe7a98b",
   "metadata": {},
   "outputs": [],
   "source": [
    "#plotting these 7clusters on the 3pt zone:\n",
    "plt.figure(figsize = (14,12))\n",
    "sns.scatterplot(data =df_3pt, x='LOC_X', y = 'LOC_Y', hue = 'three_pt_location')\n",
    "plt.show()"
   ]
  },
  {
   "cell_type": "markdown",
   "id": "53dc4198",
   "metadata": {},
   "source": [
    "### We want to have descriptive names of each of these cluster zones. \n",
    "We are giving each of these clusters names by map their locations:"
   ]
  },
  {
   "cell_type": "code",
   "execution_count": null,
   "id": "cf40d0de",
   "metadata": {},
   "outputs": [],
   "source": [
    "# creating a new column with the location names:\n",
    "df_3pt['location'] = df_3pt['three_pt_location'].map({0: 'R Above Break', 1: 'L Above Break',2:'L Below Break/Corner',3:'R Center',4:'R Below Break/Corner',5:'Center',6:'L Center'})"
   ]
  },
  {
   "cell_type": "code",
   "execution_count": null,
   "id": "20858cca",
   "metadata": {},
   "outputs": [],
   "source": [
    "#creating a variable to use for applying clusters to 3pt only shots\n",
    "#note: 2pt shots will be NaN\n",
    "location_column = df_3pt[['location']]"
   ]
  },
  {
   "cell_type": "code",
   "execution_count": null,
   "id": "ae28eb52",
   "metadata": {},
   "outputs": [],
   "source": [
    "#merging the applying the clusters:\n",
    "df_shots = df_shots.merge(location_column, how = 'left', left_index = True, right_index = True)"
   ]
  },
  {
   "cell_type": "code",
   "execution_count": null,
   "id": "881e02d8",
   "metadata": {},
   "outputs": [],
   "source": [
    "df_shots.head()"
   ]
  },
  {
   "cell_type": "markdown",
   "id": "96c2c686",
   "metadata": {},
   "source": [
    "## Let's see if this works!\n",
    "Creating a Test case using the Spurs and Malik Beasley."
   ]
  },
  {
   "cell_type": "code",
   "execution_count": null,
   "id": "fc7efbb8",
   "metadata": {},
   "outputs": [],
   "source": [
    "team_id = teams.find_team_by_abbreviation('MIN')['id'] # For Minnesota Timberwolves\n",
    "\n",
    "player_id = players.find_players_by_full_name(\"Malik Beasley\")[0]['id'] # For Malik Beasley\n",
    "\n",
    "game_id = '0022100986' # First game of year Spurs vs. Magic - note that game id must be converted to an int in df_shots"
   ]
  },
  {
   "cell_type": "code",
   "execution_count": null,
   "id": "91ee58c8",
   "metadata": {},
   "outputs": [],
   "source": [
    "team_id"
   ]
  },
  {
   "cell_type": "markdown",
   "id": "ec24dc64",
   "metadata": {},
   "source": [
    "### We are using the `win_probability` api endpoint for a base of the analysis dataframe."
   ]
  },
  {
   "cell_type": "code",
   "execution_count": null,
   "id": "90aae310",
   "metadata": {},
   "outputs": [],
   "source": [
    "# Select for a single game\n",
    "df_base = winprobabilitypbp.WinProbabilityPBP(game_id).get_data_frames()[0]\n",
    "df_base"
   ]
  },
  {
   "cell_type": "markdown",
   "id": "c76a2c26",
   "metadata": {},
   "source": [
    "#### We started with the win_prob endpoint as this houses play-by-play by second/minutes. \n",
    "We need to then have a `absolute_time` in game seconds since the play started."
   ]
  },
  {
   "cell_type": "code",
   "execution_count": null,
   "id": "0cc4f289",
   "metadata": {},
   "outputs": [],
   "source": [
    "# Utilize user function to create absolute time (in seconds) column\n",
    "df_base['abs_time'] = np.where(df_base.PERIOD <5,\n",
    "                     ((df_base.PERIOD - 1) * 720 + (720 - df_base.SECONDS_REMAINING)),\n",
    "                     (2880 + (df_base.PERIOD - 5) * 300 + (300 - df_base.SECONDS_REMAINING)))"
   ]
  },
  {
   "cell_type": "markdown",
   "id": "56a1601b",
   "metadata": {},
   "source": [
    "### Adding on the Rotation Dataframe so we can have each players' minutes of play vs rest times."
   ]
  },
  {
   "cell_type": "code",
   "execution_count": null,
   "id": "1af909f8",
   "metadata": {},
   "outputs": [],
   "source": [
    "df_rotation = gamerotation.GameRotation(game_id).get_data_frames()"
   ]
  },
  {
   "cell_type": "markdown",
   "id": "e09df89e",
   "metadata": {},
   "source": [
    "'Game Rotation' returns all the minutes (play time in the court) for every player in the game, seperated into Home and Visitor Dataframes.  As such we search through players for the records with our player_id.  Returns a dataframe holding their rotational stats, most importantly in_time and out_time."
   ]
  },
  {
   "cell_type": "code",
   "execution_count": null,
   "id": "404f4ed3",
   "metadata": {},
   "outputs": [],
   "source": [
    "#for-loop to cycle through the players (by ID) in the rotation df\n",
    "#to then grab their times:\n",
    "for i in range(2):\n",
    "    for player in df_rotation[i].PERSON_ID:\n",
    "        if player == player_id:\n",
    "            df_player_roto = df_rotation[i][df_rotation[i].PERSON_ID == player]\n"
   ]
  },
  {
   "cell_type": "markdown",
   "id": "83522f75",
   "metadata": {},
   "source": [
    "We need to convert the rotational time in 1/10ths of second, into seconds, then isolate those times out."
   ]
  },
  {
   "cell_type": "code",
   "execution_count": null,
   "id": "952871f2",
   "metadata": {},
   "outputs": [],
   "source": [
    "df_player_roto['abs_in_time'] = df_player_roto.IN_TIME_REAL/10\n",
    "df_player_roto['abs_out_time'] = df_player_roto.OUT_TIME_REAL/10\n",
    "df_player_roto_times = df_player_roto[['abs_in_time','abs_out_time']].reset_index(drop = 'True')"
   ]
  },
  {
   "cell_type": "markdown",
   "id": "1f63a92d",
   "metadata": {},
   "source": [
    "Using a zip function, we are putting together the in and out times together."
   ]
  },
  {
   "cell_type": "code",
   "execution_count": null,
   "id": "e5d21cdb",
   "metadata": {},
   "outputs": [],
   "source": [
    "zipped = list(zip(df_player_roto_times.abs_in_time, df_player_roto_times.abs_out_time))"
   ]
  },
  {
   "cell_type": "code",
   "execution_count": null,
   "id": "2260080f",
   "metadata": {},
   "outputs": [],
   "source": [
    "#showing what it looks like now:\n",
    "zipped"
   ]
  },
  {
   "cell_type": "markdown",
   "id": "262c836f",
   "metadata": {},
   "source": [
    "#### Let's filter out the times of the game (from the df_base of  win_prob) that align with the player's play time."
   ]
  },
  {
   "cell_type": "code",
   "execution_count": null,
   "id": "d89e2fc3",
   "metadata": {},
   "outputs": [],
   "source": [
    "# Let me create a holder dataframe as I pull slices off from the base\n",
    "df_player_game = pd.DataFrame()\n",
    "for tuplez in zipped:\n",
    "    df_slice = df_base[(df_base.abs_time >= tuplez[0]) & (df_base.abs_time <= tuplez[1])]\n",
    "    df_player_game = pd.concat([df_player_game, df_slice])\n",
    "df_player_game"
   ]
  },
  {
   "cell_type": "code",
   "execution_count": null,
   "id": "826901dc",
   "metadata": {},
   "outputs": [],
   "source": [
    "#testing this out:\n",
    "df_test = df_player_game.copy()\n",
    "df_test"
   ]
  },
  {
   "cell_type": "code",
   "execution_count": null,
   "id": "d7870544",
   "metadata": {},
   "outputs": [],
   "source": [
    "df_player_game.info()"
   ]
  },
  {
   "cell_type": "code",
   "execution_count": null,
   "id": "ac7a2c42",
   "metadata": {},
   "outputs": [],
   "source": [
    "#changing GAME_ID to numeric to later add on shot details df:\n",
    "df_player_game.GAME_ID=pd.to_numeric(df_player_game.GAME_ID)"
   ]
  },
  {
   "cell_type": "code",
   "execution_count": null,
   "id": "34fd2acf",
   "metadata": {},
   "outputs": [],
   "source": [
    "#checking the dtypes\n",
    "df_player_game.dtypes"
   ]
  },
  {
   "cell_type": "markdown",
   "id": "f62825fe",
   "metadata": {},
   "source": [
    "### Creating Shot Details df:"
   ]
  },
  {
   "cell_type": "code",
   "execution_count": null,
   "id": "106c3c7c",
   "metadata": {},
   "outputs": [],
   "source": [
    "#using abs_time on main df to account for overtime, and then calculates that overtime a bit different than regular \n",
    "#period plays\n",
    "#plus the minutes - seconds remaining\n",
    "df_shots['abs_time'] = np.where(df_shots.PERIOD < 5,\n",
    "                                (df_shots.PERIOD - 1) * 720 + (720 - (60 * df_shots.MINUTES_REMAINING) - (df_shots.SECONDS_REMAINING)),\n",
    "                                2880 + ((df_shots.PERIOD - 5) * 300) + (300 - (60 * df_shots.MINUTES_REMAINING) - (df_shots.SECONDS_REMAINING)))"
   ]
  },
  {
   "cell_type": "code",
   "execution_count": null,
   "id": "7dcbd0c2",
   "metadata": {},
   "outputs": [],
   "source": [
    "#setting up GAME_ID for this df to be int:\n",
    "df_game_shots = df_shots[df_shots.GAME_ID == int(game_id)]"
   ]
  },
  {
   "cell_type": "code",
   "execution_count": null,
   "id": "b47536d2",
   "metadata": {},
   "outputs": [],
   "source": [
    "#changing the df PLAYER_ID (will change all to lower down below)\n",
    "df_game_shots = df_game_shots[df_game_shots.PLAYER_ID == player_id]"
   ]
  },
  {
   "cell_type": "code",
   "execution_count": null,
   "id": "57286fb9",
   "metadata": {},
   "outputs": [],
   "source": [
    "#resetting the index here:/\n",
    "df_game_shots.reset_index(drop = True)"
   ]
  },
  {
   "cell_type": "code",
   "execution_count": null,
   "id": "2e82b549",
   "metadata": {},
   "outputs": [],
   "source": [
    "#getting the Spurs abbreviations- \n",
    "teams.find_teams_by_full_name(df_game_shots.TEAM_NAME.max())[0]['abbreviation']"
   ]
  },
  {
   "cell_type": "code",
   "execution_count": null,
   "id": "207be1d7",
   "metadata": {},
   "outputs": [],
   "source": [
    "#combining home and visitor column with only the Spurs team\n",
    "df_game_shots['player_h_v'] = np.where(teams.find_teams_by_full_name(df_game_shots.TEAM_NAME.max())[0]['abbreviation'] == df_game_shots.HTM, 'Home', 'Visitor')"
   ]
  },
  {
   "cell_type": "markdown",
   "id": "480157c7",
   "metadata": {},
   "source": [
    "### Merging main_df with the Shot details df:"
   ]
  },
  {
   "cell_type": "code",
   "execution_count": null,
   "id": "5aa8052b",
   "metadata": {},
   "outputs": [],
   "source": [
    "df_almostthere = df_player_game.merge(df_game_shots, how = 'inner', on = 'abs_time')"
   ]
  },
  {
   "cell_type": "code",
   "execution_count": null,
   "id": "0e299117",
   "metadata": {},
   "outputs": [],
   "source": [
    "df_almostthere"
   ]
  },
  {
   "cell_type": "code",
   "execution_count": null,
   "id": "cd89ce10",
   "metadata": {},
   "outputs": [],
   "source": [
    "#adding in the column score_margin that holds the home score margins:\n",
    "df_almostthere['score_margin'] = np.where(df_almostthere.player_h_v == 'Home', df_almostthere.HOME_SCORE_MARGIN, df_almostthere.HOME_SCORE_MARGIN * -1)"
   ]
  },
  {
   "cell_type": "code",
   "execution_count": null,
   "id": "c3ef4f3b",
   "metadata": {},
   "outputs": [],
   "source": [
    "#since we get two columns for every game (Home vs Visitor)\n",
    "#we want to drop and only hold the Spurs with whichever\n",
    "#they are (H or V) and only show those win percentages:\n",
    "\n",
    "if df_almostthere.loc[0,'player_h_v'] == 'Home':\n",
    "    df_almostthere = df_almostthere.drop(columns = ['VISITOR_PCT'])\n",
    "    df_almostthere = df_almostthere.rename(columns = {'HOME_PCT':\"WIN_PCT\"})\n",
    "else:\n",
    "    df_almostthere = df_almostthere.drop(columns = ['HOME_PCT'])\n",
    "    df_almostthere = df_almostthere.rename(columns = {'VISITOR_PCT':\"WIN_PCT\"})"
   ]
  },
  {
   "cell_type": "code",
   "execution_count": null,
   "id": "2b88ff4e",
   "metadata": {},
   "outputs": [],
   "source": [
    "#creating a column `play_points` that \n",
    "df_almostthere['play_points'] = np.where(df_almostthere.SHOT_TYPE == '2PT Field Goal',\n",
    "                                    np.where(df_almostthere.SHOT_MADE_FLAG == 1, 2,0),\n",
    "                                    np.where(df_almostthere.SHOT_MADE_FLAG == 1, 3,0))"
   ]
  },
  {
   "cell_type": "code",
   "execution_count": null,
   "id": "abc75930",
   "metadata": {},
   "outputs": [],
   "source": [
    "df_almostthere['points'] = df_almostthere['play_points'].cumsum()"
   ]
  },
  {
   "cell_type": "code",
   "execution_count": null,
   "id": "0276596c",
   "metadata": {},
   "outputs": [],
   "source": [
    "df_almostthere['shots_taken'] = df_almostthere['SHOT_ATTEMPTED_FLAG'].cumsum()\n",
    "df_almostthere['shots_hit'] = df_almostthere['SHOT_MADE_FLAG'].cumsum()\n",
    "df_almostthere['game_pct'] = round(df_almostthere['shots_hit']/df_almostthere['shots_taken'],2)"
   ]
  },
  {
   "cell_type": "code",
   "execution_count": null,
   "id": "1b265036",
   "metadata": {},
   "outputs": [],
   "source": [
    "df_almostthere.info()"
   ]
  },
  {
   "cell_type": "code",
   "execution_count": null,
   "id": "0acb4b88",
   "metadata": {},
   "outputs": [],
   "source": [
    "columns_to_drop = [\n",
    "    'GAME_ID_x',\n",
    "    'EVENT_NUM',\n",
    "    'HOME_PTS',\n",
    "    'VISITOR_PTS',\n",
    "    'HOME_SCORE_MARGIN',\n",
    "    'PERIOD_x',\n",
    "    'SECONDS_REMAINING_x',\n",
    "    'HOME_POSS_IND',\n",
    "    'HOME_G',\n",
    "    'LOCATION',\n",
    "    'PCTIMESTRING',\n",
    "    'ISVISIBLE',\n",
    "    'GRID_TYPE',\n",
    "    'GAME_EVENT_ID',\n",
    "    'MINUTES_REMAINING',\n",
    "    'SECONDS_REMAINING_y',\n",
    "    'SHOT_ZONE_BASIC',\n",
    "    'SHOT_ZONE_AREA',\n",
    "    'SHOT_ZONE_RANGE',\n",
    "    'SHOT_ATTEMPTED_FLAG',\n",
    "    'SHOT_MADE_FLAG',\n",
    "    'GAME_DATE',\n",
    "    'HTM',\n",
    "    'VTM']"
   ]
  },
  {
   "cell_type": "code",
   "execution_count": null,
   "id": "14387d84",
   "metadata": {},
   "outputs": [],
   "source": [
    "df_almostthere = df_almostthere.drop(columns = columns_to_drop)"
   ]
  },
  {
   "cell_type": "code",
   "execution_count": null,
   "id": "cc800ecb",
   "metadata": {},
   "outputs": [],
   "source": [
    "df_almostthere"
   ]
  },
  {
   "cell_type": "code",
   "execution_count": null,
   "id": "3acd093a",
   "metadata": {},
   "outputs": [],
   "source": [
    "columns_to_rename = {'WIN_PCT':'win_probability',\n",
    "                     'DESCRIPTION':'play_description',\n",
    "                     'GAME_ID_y':'game_id',\n",
    "                     'PLAYER_ID':'player_id',\n",
    "                     'PLAYER_NAME':'player',\n",
    "                     'TEAM_ID':'team_id',\n",
    "                     'TEAM_NAME':'team',\n",
    "                     'PERIOD_y':'period',\n",
    "                     'EVENT_TYPE': 'shot_result',\n",
    "                     'ACTION_TYPE':'shot_type',\n",
    "                     'SHOT_TYPE':'field_goal',\n",
    "                     'SHOT_DISTANCE':'distance'}"
   ]
  },
  {
   "cell_type": "code",
   "execution_count": null,
   "id": "63f2ffb3",
   "metadata": {},
   "outputs": [],
   "source": [
    "df_almostthere = df_almostthere.rename(columns = columns_to_rename)"
   ]
  },
  {
   "cell_type": "code",
   "execution_count": null,
   "id": "0e8e7bef",
   "metadata": {},
   "outputs": [],
   "source": [
    "#df_game_player_target = df_almostthere[df_almostthere['2pt_or_3pt'] == '3PT Field Goal']"
   ]
  },
  {
   "cell_type": "code",
   "execution_count": null,
   "id": "dd71532f",
   "metadata": {},
   "outputs": [],
   "source": [
    "df_almostthere.head()"
   ]
  },
  {
   "cell_type": "markdown",
   "id": "c0480fd9",
   "metadata": {},
   "source": [
    "### Add on's for clean up:"
   ]
  },
  {
   "cell_type": "code",
   "execution_count": null,
   "id": "0b7c8a47",
   "metadata": {},
   "outputs": [],
   "source": [
    "#let's reset the index to game_id:\n",
    "#first, setting index:\n",
    "df_almostthere.set_index('game_id', inplace=True)"
   ]
  },
  {
   "cell_type": "code",
   "execution_count": null,
   "id": "ec15a2eb",
   "metadata": {},
   "outputs": [],
   "source": [
    "#replacing shot_result string to only say 'missed' and 'made'\n",
    "df_almostthere.shot_result = df_almostthere.shot_result.replace({'Missed Shot':'Missed', 'Made Shot':'Made'})"
   ]
  },
  {
   "cell_type": "code",
   "execution_count": null,
   "id": "d63bd356",
   "metadata": {},
   "outputs": [],
   "source": [
    "df_almostthere.head()"
   ]
  },
  {
   "cell_type": "markdown",
   "id": "c9296052",
   "metadata": {},
   "source": [
    "________________________________________________"
   ]
  },
  {
   "cell_type": "code",
   "execution_count": null,
   "id": "332c3875",
   "metadata": {},
   "outputs": [],
   "source": [
    "#plotting data for shots in game:\n",
    "shotsGame = df_almostthere[['abs_time','play_points','points','shots_taken','shots_hit','location','field_goal']].drop_duplicates()"
   ]
  },
  {
   "cell_type": "code",
   "execution_count": null,
   "id": "8c80b8d3",
   "metadata": {},
   "outputs": [],
   "source": [
    "#just looking at what it holds:\n",
    "shotsGame.head()"
   ]
  },
  {
   "cell_type": "markdown",
   "id": "b498fd11",
   "metadata": {},
   "source": [
    "#### Looking at where Malik is taking the most 3pt shots this game:"
   ]
  },
  {
   "cell_type": "code",
   "execution_count": null,
   "id": "0ea769af",
   "metadata": {},
   "outputs": [],
   "source": [
    "sns.catplot(data=shotsGame, kind='box', x='field_goal', y='abs_time', aspect=1.8, palette ='deep')"
   ]
  },
  {
   "cell_type": "code",
   "execution_count": null,
   "id": "a387e3f2",
   "metadata": {},
   "outputs": [],
   "source": [
    "sns.catplot(data=shotsGame, kind='box', x='play_points', y='abs_time', aspect=1.8, palette ='deep')"
   ]
  },
  {
   "cell_type": "markdown",
   "id": "4bc213e1",
   "metadata": {},
   "source": [
    "___________________________"
   ]
  },
  {
   "cell_type": "markdown",
   "id": "d0549257",
   "metadata": {},
   "source": [
    "### Some simple EDA on TimberWolves vs Thunder game- player Malik Beasley:"
   ]
  },
  {
   "cell_type": "code",
   "execution_count": null,
   "id": "2f41c033",
   "metadata": {},
   "outputs": [],
   "source": [
    "df_almostthere"
   ]
  },
  {
   "cell_type": "code",
   "execution_count": null,
   "id": "cf560893",
   "metadata": {},
   "outputs": [],
   "source": [
    "df_almostthere.describe()"
   ]
  },
  {
   "cell_type": "code",
   "execution_count": null,
   "id": "9f31aff1",
   "metadata": {},
   "outputs": [],
   "source": [
    "df_almostthere.isnull().sum()"
   ]
  },
  {
   "cell_type": "code",
   "execution_count": null,
   "id": "3a0c4271",
   "metadata": {},
   "outputs": [],
   "source": [
    "df_almostthere.loc[~df_almostthere.index.duplicated(), :]"
   ]
  },
  {
   "cell_type": "code",
   "execution_count": null,
   "id": "3d5dbff6",
   "metadata": {},
   "outputs": [],
   "source": [
    "df_almostthere.info()"
   ]
  },
  {
   "cell_type": "code",
   "execution_count": null,
   "id": "314d513a",
   "metadata": {},
   "outputs": [],
   "source": [
    "#creating a column of shot_result to made = 1, missed = 0 for charts-sake:\n",
    "df_almostthere['bool_shot_result'] = df_almostthere.shot_result.astype(bool)\n",
    "#then making this column into integer for the 1 and o\n",
    "df_almostthere.bool_shot_result=df_almostthere.bool_shot_result.astype(int)\n",
    "\n",
    "df_almostthere.head()"
   ]
  },
  {
   "cell_type": "markdown",
   "id": "3fe564ab",
   "metadata": {},
   "source": [
    "### Univariate Exploration:"
   ]
  },
  {
   "cell_type": "code",
   "execution_count": null,
   "id": "41e78ca0",
   "metadata": {},
   "outputs": [],
   "source": [
    "def univariate():\n",
    "    df_almostthere.hist(bins = 30, figsize = (20, 20), color= 'blue')"
   ]
  },
  {
   "cell_type": "code",
   "execution_count": null,
   "id": "9994ffc9",
   "metadata": {},
   "outputs": [],
   "source": [
    "univariate()"
   ]
  },
  {
   "cell_type": "code",
   "execution_count": null,
   "id": "d80cdb27",
   "metadata": {},
   "outputs": [],
   "source": [
    "#create variables that split data by made or missed shots: \n",
    "#create variables that split train by attrition value \n",
    "left_train = df_almostthere[df_almostthere['bool_shot_result'] == 1]\n",
    "stayed_train = df_almostthere[df_almostthere['bool_shot_result'] == 0]"
   ]
  },
  {
   "cell_type": "code",
   "execution_count": null,
   "id": "fb17ff14",
   "metadata": {},
   "outputs": [],
   "source": [
    "#looking at \n",
    "df_almostthere.shot_result.value_counts()"
   ]
  },
  {
   "cell_type": "code",
   "execution_count": null,
   "id": "729c9f91",
   "metadata": {},
   "outputs": [],
   "source": [
    "def made_3ptshot_rate():\n",
    "    labels = 'Missed', 'Made'\n",
    "    data = [6, 11]\n",
    "    plt.pie(data, labels=labels, colors = ['#17408B', '#C9082A'])\n",
    "    plt.show()"
   ]
  },
  {
   "cell_type": "code",
   "execution_count": null,
   "id": "b1c54fac",
   "metadata": {},
   "outputs": [],
   "source": [
    "#simple pie chart to show Malik's 3pt shots made/missed rate:\n",
    "made_3ptshot_rate()"
   ]
  },
  {
   "cell_type": "markdown",
   "id": "c80f6ffe",
   "metadata": {},
   "source": [
    "#### If I drop nulls I drop the whole df for this game, as there are only 17 rows here."
   ]
  },
  {
   "cell_type": "code",
   "execution_count": null,
   "id": "bfd3a1fb",
   "metadata": {},
   "outputs": [],
   "source": [
    "plt.title(\"Win Probability relating to 2pt and 3pt shots\")\n",
    "sns.barplot(x=\"win_probability\", y=\"shot_result\", data=df_almostthere)\n",
    "\n",
    "plt.legend()\n",
    "plt.show()"
   ]
  },
  {
   "cell_type": "code",
   "execution_count": null,
   "id": "10d5f0b2",
   "metadata": {},
   "outputs": [],
   "source": [
    "sns.set(rc={'figure.figsize':(17.7,8.27)})\n",
    "plt.title(\"Win Probability relating to type of shot made\")\n",
    "sns.barplot(x=\"win_probability\", y=\"shot_type\", data=df_almostthere)\n",
    "plt.legend()\n",
    "plt.show()"
   ]
  },
  {
   "cell_type": "code",
   "execution_count": null,
   "id": "77049476",
   "metadata": {},
   "outputs": [],
   "source": [
    "#function from  Savvas Tjortjoglou of how to create an NBA sized court:\n",
    "from matplotlib.patches import Circle, Rectangle, Arc\n",
    "\n",
    "def draw_court(ax=None, color='black', lw=2, outer_lines=False):\n",
    "    # If an axes object isn't provided to plot onto, just get current one\n",
    "    if ax is None:\n",
    "        ax = plt.gca()\n",
    "\n",
    "    # Create the various parts of an NBA basketball court\n",
    "\n",
    "    # Create the basketball hoop\n",
    "    # Diameter of a hoop is 18\" so it has a radius of 9\", which is a value\n",
    "    # 7.5 in our coordinate system\n",
    "    hoop = Circle((0, 0), radius=7.5, linewidth=lw, color=color, fill=False)\n",
    "\n",
    "    # Create backboard\n",
    "    backboard = Rectangle((-30, -7.5), 60, -1, linewidth=lw, color=color)\n",
    "\n",
    "    # The paint\n",
    "    # Create the outer box 0f the paint, width=16ft, height=19ft\n",
    "    outer_box = Rectangle((-80, -47.5), 160, 190, linewidth=lw, color=color,\n",
    "                          fill=False)\n",
    "    # Create the inner box of the paint, widt=12ft, height=19ft\n",
    "    inner_box = Rectangle((-60, -47.5), 120, 190, linewidth=lw, color=color,\n",
    "                          fill=False)\n",
    "\n",
    "    # Create free throw top arc\n",
    "    top_free_throw = Arc((0, 142.5), 120, 120, theta1=0, theta2=180,\n",
    "                         linewidth=lw, color=color, fill=False)\n",
    "    # Create free throw bottom arc\n",
    "    bottom_free_throw = Arc((0, 142.5), 120, 120, theta1=180, theta2=0,\n",
    "                            linewidth=lw, color=color, linestyle='dashed')\n",
    "    # Restricted Zone, it is an arc with 4ft radius from center of the hoop\n",
    "    restricted = Arc((0, 0), 80, 80, theta1=0, theta2=180, linewidth=lw,\n",
    "                     color=color)\n",
    "\n",
    "    # Three point line\n",
    "    # Create the side 3pt lines, they are 14ft long before they begin to arc\n",
    "    corner_three_a = Rectangle((-220, -47.5), 0, 140, linewidth=lw,\n",
    "                               color=color)\n",
    "    corner_three_b = Rectangle((220, -47.5), 0, 140, linewidth=lw, color=color)\n",
    "    # 3pt arc - center of arc will be the hoop, arc is 23'9\" away from hoop\n",
    "    # I just played around with the theta values until they lined up with the \n",
    "    # threes\n",
    "    three_arc = Arc((0, 0), 475, 475, theta1=22, theta2=158, linewidth=lw,\n",
    "                    color=color)\n",
    "\n",
    "    # Center Court\n",
    "    center_outer_arc = Arc((0, 422.5), 120, 120, theta1=180, theta2=0,\n",
    "                           linewidth=lw, color=color)\n",
    "    center_inner_arc = Arc((0, 422.5), 40, 40, theta1=180, theta2=0,\n",
    "                           linewidth=lw, color=color)\n",
    "\n",
    "    # List of the court elements to be plotted onto the axes\n",
    "    court_elements = [hoop, backboard, outer_box, inner_box, top_free_throw,\n",
    "                      bottom_free_throw, restricted, corner_three_a,\n",
    "                      corner_three_b, three_arc, center_outer_arc,\n",
    "                      center_inner_arc]\n",
    "\n",
    "    if outer_lines:\n",
    "        # Draw the half court line, baseline and side out bound lines\n",
    "        outer_lines = Rectangle((-250, -47.5), 500, 470, linewidth=lw,\n",
    "                                color=color, fill=False)\n",
    "        court_elements.append(outer_lines)\n",
    "\n",
    "    # Add the court elements onto the axes\n",
    "    for element in court_elements:\n",
    "        ax.add_patch(element)\n",
    "\n",
    "    return ax"
   ]
  },
  {
   "cell_type": "code",
   "execution_count": null,
   "id": "5d35a028",
   "metadata": {},
   "outputs": [],
   "source": [
    "g=sns.relplot(data=df_almostthere.field_goal, kind = 'scatter',\n",
    "               x = df_almostthere.LOC_X, y= df_almostthere.LOC_Y, hue= df_almostthere.shot_result)\n",
    "\n",
    "for i, ax in enumerate(g.axes.flat):\n",
    "    ax = draw_court(ax, outer_lines=True)\n",
    "    ax.set_xlim(-300, 300)\n",
    "    ax.set_ylim(-100, 500)"
   ]
  },
  {
   "cell_type": "markdown",
   "id": "0116c286",
   "metadata": {},
   "source": [
    "______________________"
   ]
  },
  {
   "cell_type": "markdown",
   "id": "83169a63",
   "metadata": {},
   "source": [
    "### Hypothesis testing categorical features:\n"
   ]
  },
  {
   "cell_type": "code",
   "execution_count": null,
   "id": "bb150c63",
   "metadata": {},
   "outputs": [],
   "source": [
    "# Let's run a chi squared to compare proportions, to have more confidence\n",
    "alpha = 0.05\n",
    "null_hypothesis = \"shot results and shot type are independent\"\n",
    "alternative_hypothesis = \"there is a relationship between show results and shot type\"\n",
    "\n",
    "# Setup a crosstab of observed survival to pclass\n",
    "observed = pd.crosstab(df_almostthere.shot_result, df_almostthere.shot_type)\n",
    "\n",
    "chi2, p, degf, expected = stats.chi2_contingency(observed)\n",
    "\n",
    "if p < alpha:\n",
    "    print(\"Reject the null hypothesis that\", null_hypothesis)\n",
    "    print(\"Sufficient evidence to move forward understanding that\", alternative_hypothesis)\n",
    "else:\n",
    "    print(\"Fail to reject the null\")\n",
    "    print(\"Insufficient evidence to reject the null\")\n",
    "p\n"
   ]
  },
  {
   "cell_type": "code",
   "execution_count": null,
   "id": "f9377cc2",
   "metadata": {},
   "outputs": [],
   "source": [
    "# Let's run a chi squared to compare proportions, to have more confidence\n",
    "alpha = 0.05\n",
    "null_hypothesis = \"shot results and period of game are independent\"\n",
    "alternative_hypothesis = \"there is a relationship between shot results and period of game\"\n",
    "\n",
    "# Setup a crosstab of observed survival to pclass\n",
    "observed = pd.crosstab(df_almostthere.shot_result, df_almostthere.period)\n",
    "\n",
    "chi2, p, degf, expected = stats.chi2_contingency(observed)\n",
    "\n",
    "if p < alpha:\n",
    "    print(\"Reject the null hypothesis that\", null_hypothesis)\n",
    "    print(\"Sufficient evidence to move forward understanding that\", alternative_hypothesis)\n",
    "else:\n",
    "    print(\"Fail to reject the null\")\n",
    "    print(\"Insufficient evidence to reject the null\")\n",
    "p"
   ]
  },
  {
   "cell_type": "code",
   "execution_count": null,
   "id": "5c6ca305",
   "metadata": {},
   "outputs": [],
   "source": [
    "# Let's run a chi squared to compare proportions, to have more confidence\n",
    "alpha = 0.05\n",
    "null_hypothesis = \"shot results and location of shot are independent\"\n",
    "alternative_hypothesis = \"there is a relationship between shot results and location of shot\"\n",
    "\n",
    "# Setup a crosstab of observed survival to pclass\n",
    "observed = pd.crosstab(df_almostthere.shot_result, df_almostthere.location)\n",
    "\n",
    "chi2, p, degf, expected = stats.chi2_contingency(observed)\n",
    "\n",
    "if p < alpha:\n",
    "    print(\"Reject the null hypothesis that\", null_hypothesis)\n",
    "    print(\"Sufficient evidence to move forward understanding that\", alternative_hypothesis)\n",
    "else:\n",
    "    print(\"Fail to reject the null\")\n",
    "    print(\"Insufficient evidence to reject the null\")\n",
    "p"
   ]
  },
  {
   "cell_type": "markdown",
   "id": "800523e1",
   "metadata": {},
   "source": [
    "### Takeaways:\n",
    "Because this is only one game and it shows that any sort of results/data to be understood--we need more data."
   ]
  },
  {
   "cell_type": "code",
   "execution_count": 1,
   "id": "104a603c",
   "metadata": {},
   "outputs": [
    {
     "ename": "KeyError",
     "evalue": "\"['win_prob'] not found in axis\"",
     "output_type": "error",
     "traceback": [
      "\u001b[0;31m---------------------------------------------------------------------------\u001b[0m",
      "\u001b[0;31mKeyError\u001b[0m                                  Traceback (most recent call last)",
      "\u001b[0;32m/var/folders/d3/11nygz6126ndxvtrp12687680000gn/T/ipykernel_87441/4143836394.py\u001b[0m in \u001b[0;36m<module>\u001b[0;34m\u001b[0m\n\u001b[1;32m      1\u001b[0m \u001b[0;32mfrom\u001b[0m \u001b[0macquire\u001b[0m \u001b[0;32mimport\u001b[0m \u001b[0mtome_prep\u001b[0m\u001b[0;34m\u001b[0m\u001b[0;34m\u001b[0m\u001b[0m\n\u001b[0;32m----> 2\u001b[0;31m \u001b[0mdf\u001b[0m \u001b[0;34m=\u001b[0m \u001b[0mtome_prep\u001b[0m\u001b[0;34m(\u001b[0m\u001b[0;34m)\u001b[0m\u001b[0;34m\u001b[0m\u001b[0;34m\u001b[0m\u001b[0m\n\u001b[0m\u001b[1;32m      3\u001b[0m \u001b[0mdf\u001b[0m\u001b[0;34m\u001b[0m\u001b[0;34m\u001b[0m\u001b[0m\n",
      "\u001b[0;32m~/codeup_data_science/shot-caller-for-ballers/Notebooks/Jen/acquire.py\u001b[0m in \u001b[0;36mtome_prep\u001b[0;34m()\u001b[0m\n\u001b[1;32m    447\u001b[0m     \u001b[0mdf\u001b[0m \u001b[0;34m=\u001b[0m \u001b[0mget_tome\u001b[0m\u001b[0;34m(\u001b[0m\u001b[0;34m)\u001b[0m\u001b[0;34m\u001b[0m\u001b[0;34m\u001b[0m\u001b[0m\n\u001b[1;32m    448\u001b[0m     \u001b[0mdf\u001b[0m \u001b[0;34m=\u001b[0m \u001b[0mdf\u001b[0m\u001b[0;34m.\u001b[0m\u001b[0mdrop_duplicates\u001b[0m\u001b[0;34m(\u001b[0m\u001b[0msubset\u001b[0m \u001b[0;34m=\u001b[0m \u001b[0;34m[\u001b[0m\u001b[0;34m'game_id'\u001b[0m\u001b[0;34m,\u001b[0m\u001b[0;34m'player_id'\u001b[0m\u001b[0;34m,\u001b[0m\u001b[0;34m'period'\u001b[0m\u001b[0;34m,\u001b[0m\u001b[0;34m'shot_result'\u001b[0m\u001b[0;34m,\u001b[0m\u001b[0;34m'loc_x'\u001b[0m\u001b[0;34m,\u001b[0m\u001b[0;34m'loc_y'\u001b[0m\u001b[0;34m]\u001b[0m\u001b[0;34m)\u001b[0m\u001b[0;34m\u001b[0m\u001b[0;34m\u001b[0m\u001b[0m\n\u001b[0;32m--> 449\u001b[0;31m     \u001b[0mdf\u001b[0m \u001b[0;34m=\u001b[0m \u001b[0mdf\u001b[0m\u001b[0;34m.\u001b[0m\u001b[0mdrop\u001b[0m\u001b[0;34m(\u001b[0m\u001b[0mcolumns\u001b[0m \u001b[0;34m=\u001b[0m \u001b[0;34m[\u001b[0m\u001b[0;34m'win_prob'\u001b[0m\u001b[0;34m,\u001b[0m\u001b[0;34m'fg_type'\u001b[0m\u001b[0;34m]\u001b[0m\u001b[0;34m)\u001b[0m\u001b[0;34m\u001b[0m\u001b[0;34m\u001b[0m\u001b[0m\n\u001b[0m\u001b[1;32m    450\u001b[0m     df = df[['player',\n\u001b[1;32m    451\u001b[0m             \u001b[0;34m'player_id'\u001b[0m\u001b[0;34m,\u001b[0m\u001b[0;34m\u001b[0m\u001b[0;34m\u001b[0m\u001b[0m\n",
      "\u001b[0;32m/usr/local/anaconda3/lib/python3.9/site-packages/pandas/util/_decorators.py\u001b[0m in \u001b[0;36mwrapper\u001b[0;34m(*args, **kwargs)\u001b[0m\n\u001b[1;32m    309\u001b[0m                     \u001b[0mstacklevel\u001b[0m\u001b[0;34m=\u001b[0m\u001b[0mstacklevel\u001b[0m\u001b[0;34m,\u001b[0m\u001b[0;34m\u001b[0m\u001b[0;34m\u001b[0m\u001b[0m\n\u001b[1;32m    310\u001b[0m                 )\n\u001b[0;32m--> 311\u001b[0;31m             \u001b[0;32mreturn\u001b[0m \u001b[0mfunc\u001b[0m\u001b[0;34m(\u001b[0m\u001b[0;34m*\u001b[0m\u001b[0margs\u001b[0m\u001b[0;34m,\u001b[0m \u001b[0;34m**\u001b[0m\u001b[0mkwargs\u001b[0m\u001b[0;34m)\u001b[0m\u001b[0;34m\u001b[0m\u001b[0;34m\u001b[0m\u001b[0m\n\u001b[0m\u001b[1;32m    312\u001b[0m \u001b[0;34m\u001b[0m\u001b[0m\n\u001b[1;32m    313\u001b[0m         \u001b[0;32mreturn\u001b[0m \u001b[0mwrapper\u001b[0m\u001b[0;34m\u001b[0m\u001b[0;34m\u001b[0m\u001b[0m\n",
      "\u001b[0;32m/usr/local/anaconda3/lib/python3.9/site-packages/pandas/core/frame.py\u001b[0m in \u001b[0;36mdrop\u001b[0;34m(self, labels, axis, index, columns, level, inplace, errors)\u001b[0m\n\u001b[1;32m   4904\u001b[0m                 \u001b[0mweight\u001b[0m  \u001b[0;36m1.0\u001b[0m     \u001b[0;36m0.8\u001b[0m\u001b[0;34m\u001b[0m\u001b[0;34m\u001b[0m\u001b[0m\n\u001b[1;32m   4905\u001b[0m         \"\"\"\n\u001b[0;32m-> 4906\u001b[0;31m         return super().drop(\n\u001b[0m\u001b[1;32m   4907\u001b[0m             \u001b[0mlabels\u001b[0m\u001b[0;34m=\u001b[0m\u001b[0mlabels\u001b[0m\u001b[0;34m,\u001b[0m\u001b[0;34m\u001b[0m\u001b[0;34m\u001b[0m\u001b[0m\n\u001b[1;32m   4908\u001b[0m             \u001b[0maxis\u001b[0m\u001b[0;34m=\u001b[0m\u001b[0maxis\u001b[0m\u001b[0;34m,\u001b[0m\u001b[0;34m\u001b[0m\u001b[0;34m\u001b[0m\u001b[0m\n",
      "\u001b[0;32m/usr/local/anaconda3/lib/python3.9/site-packages/pandas/core/generic.py\u001b[0m in \u001b[0;36mdrop\u001b[0;34m(self, labels, axis, index, columns, level, inplace, errors)\u001b[0m\n\u001b[1;32m   4148\u001b[0m         \u001b[0;32mfor\u001b[0m \u001b[0maxis\u001b[0m\u001b[0;34m,\u001b[0m \u001b[0mlabels\u001b[0m \u001b[0;32min\u001b[0m \u001b[0maxes\u001b[0m\u001b[0;34m.\u001b[0m\u001b[0mitems\u001b[0m\u001b[0;34m(\u001b[0m\u001b[0;34m)\u001b[0m\u001b[0;34m:\u001b[0m\u001b[0;34m\u001b[0m\u001b[0;34m\u001b[0m\u001b[0m\n\u001b[1;32m   4149\u001b[0m             \u001b[0;32mif\u001b[0m \u001b[0mlabels\u001b[0m \u001b[0;32mis\u001b[0m \u001b[0;32mnot\u001b[0m \u001b[0;32mNone\u001b[0m\u001b[0;34m:\u001b[0m\u001b[0;34m\u001b[0m\u001b[0;34m\u001b[0m\u001b[0m\n\u001b[0;32m-> 4150\u001b[0;31m                 \u001b[0mobj\u001b[0m \u001b[0;34m=\u001b[0m \u001b[0mobj\u001b[0m\u001b[0;34m.\u001b[0m\u001b[0m_drop_axis\u001b[0m\u001b[0;34m(\u001b[0m\u001b[0mlabels\u001b[0m\u001b[0;34m,\u001b[0m \u001b[0maxis\u001b[0m\u001b[0;34m,\u001b[0m \u001b[0mlevel\u001b[0m\u001b[0;34m=\u001b[0m\u001b[0mlevel\u001b[0m\u001b[0;34m,\u001b[0m \u001b[0merrors\u001b[0m\u001b[0;34m=\u001b[0m\u001b[0merrors\u001b[0m\u001b[0;34m)\u001b[0m\u001b[0;34m\u001b[0m\u001b[0;34m\u001b[0m\u001b[0m\n\u001b[0m\u001b[1;32m   4151\u001b[0m \u001b[0;34m\u001b[0m\u001b[0m\n\u001b[1;32m   4152\u001b[0m         \u001b[0;32mif\u001b[0m \u001b[0minplace\u001b[0m\u001b[0;34m:\u001b[0m\u001b[0;34m\u001b[0m\u001b[0;34m\u001b[0m\u001b[0m\n",
      "\u001b[0;32m/usr/local/anaconda3/lib/python3.9/site-packages/pandas/core/generic.py\u001b[0m in \u001b[0;36m_drop_axis\u001b[0;34m(self, labels, axis, level, errors)\u001b[0m\n\u001b[1;32m   4183\u001b[0m                 \u001b[0mnew_axis\u001b[0m \u001b[0;34m=\u001b[0m \u001b[0maxis\u001b[0m\u001b[0;34m.\u001b[0m\u001b[0mdrop\u001b[0m\u001b[0;34m(\u001b[0m\u001b[0mlabels\u001b[0m\u001b[0;34m,\u001b[0m \u001b[0mlevel\u001b[0m\u001b[0;34m=\u001b[0m\u001b[0mlevel\u001b[0m\u001b[0;34m,\u001b[0m \u001b[0merrors\u001b[0m\u001b[0;34m=\u001b[0m\u001b[0merrors\u001b[0m\u001b[0;34m)\u001b[0m\u001b[0;34m\u001b[0m\u001b[0;34m\u001b[0m\u001b[0m\n\u001b[1;32m   4184\u001b[0m             \u001b[0;32melse\u001b[0m\u001b[0;34m:\u001b[0m\u001b[0;34m\u001b[0m\u001b[0;34m\u001b[0m\u001b[0m\n\u001b[0;32m-> 4185\u001b[0;31m                 \u001b[0mnew_axis\u001b[0m \u001b[0;34m=\u001b[0m \u001b[0maxis\u001b[0m\u001b[0;34m.\u001b[0m\u001b[0mdrop\u001b[0m\u001b[0;34m(\u001b[0m\u001b[0mlabels\u001b[0m\u001b[0;34m,\u001b[0m \u001b[0merrors\u001b[0m\u001b[0;34m=\u001b[0m\u001b[0merrors\u001b[0m\u001b[0;34m)\u001b[0m\u001b[0;34m\u001b[0m\u001b[0;34m\u001b[0m\u001b[0m\n\u001b[0m\u001b[1;32m   4186\u001b[0m             \u001b[0mresult\u001b[0m \u001b[0;34m=\u001b[0m \u001b[0mself\u001b[0m\u001b[0;34m.\u001b[0m\u001b[0mreindex\u001b[0m\u001b[0;34m(\u001b[0m\u001b[0;34m**\u001b[0m\u001b[0;34m{\u001b[0m\u001b[0maxis_name\u001b[0m\u001b[0;34m:\u001b[0m \u001b[0mnew_axis\u001b[0m\u001b[0;34m}\u001b[0m\u001b[0;34m)\u001b[0m\u001b[0;34m\u001b[0m\u001b[0;34m\u001b[0m\u001b[0m\n\u001b[1;32m   4187\u001b[0m \u001b[0;34m\u001b[0m\u001b[0m\n",
      "\u001b[0;32m/usr/local/anaconda3/lib/python3.9/site-packages/pandas/core/indexes/base.py\u001b[0m in \u001b[0;36mdrop\u001b[0;34m(self, labels, errors)\u001b[0m\n\u001b[1;32m   6015\u001b[0m         \u001b[0;32mif\u001b[0m \u001b[0mmask\u001b[0m\u001b[0;34m.\u001b[0m\u001b[0many\u001b[0m\u001b[0;34m(\u001b[0m\u001b[0;34m)\u001b[0m\u001b[0;34m:\u001b[0m\u001b[0;34m\u001b[0m\u001b[0;34m\u001b[0m\u001b[0m\n\u001b[1;32m   6016\u001b[0m             \u001b[0;32mif\u001b[0m \u001b[0merrors\u001b[0m \u001b[0;34m!=\u001b[0m \u001b[0;34m\"ignore\"\u001b[0m\u001b[0;34m:\u001b[0m\u001b[0;34m\u001b[0m\u001b[0;34m\u001b[0m\u001b[0m\n\u001b[0;32m-> 6017\u001b[0;31m                 \u001b[0;32mraise\u001b[0m \u001b[0mKeyError\u001b[0m\u001b[0;34m(\u001b[0m\u001b[0;34mf\"{labels[mask]} not found in axis\"\u001b[0m\u001b[0;34m)\u001b[0m\u001b[0;34m\u001b[0m\u001b[0;34m\u001b[0m\u001b[0m\n\u001b[0m\u001b[1;32m   6018\u001b[0m             \u001b[0mindexer\u001b[0m \u001b[0;34m=\u001b[0m \u001b[0mindexer\u001b[0m\u001b[0;34m[\u001b[0m\u001b[0;34m~\u001b[0m\u001b[0mmask\u001b[0m\u001b[0;34m]\u001b[0m\u001b[0;34m\u001b[0m\u001b[0;34m\u001b[0m\u001b[0m\n\u001b[1;32m   6019\u001b[0m         \u001b[0;32mreturn\u001b[0m \u001b[0mself\u001b[0m\u001b[0;34m.\u001b[0m\u001b[0mdelete\u001b[0m\u001b[0;34m(\u001b[0m\u001b[0mindexer\u001b[0m\u001b[0;34m)\u001b[0m\u001b[0;34m\u001b[0m\u001b[0;34m\u001b[0m\u001b[0m\n",
      "\u001b[0;31mKeyError\u001b[0m: \"['win_prob'] not found in axis\""
     ]
    }
   ],
   "source": [
    "from acquire import tome_prep\n",
    "df = tome_prep()\n",
    "df"
   ]
  },
  {
   "cell_type": "code",
   "execution_count": 2,
   "id": "44fc221b",
   "metadata": {},
   "outputs": [
    {
     "ename": "KeyError",
     "evalue": "\"['Unnamed: 0'] not found in axis\"",
     "output_type": "error",
     "traceback": [
      "\u001b[0;31m---------------------------------------------------------------------------\u001b[0m",
      "\u001b[0;31mKeyError\u001b[0m                                  Traceback (most recent call last)",
      "\u001b[0;32m/var/folders/d3/11nygz6126ndxvtrp12687680000gn/T/ipykernel_87441/1874764605.py\u001b[0m in \u001b[0;36m<module>\u001b[0;34m\u001b[0m\n\u001b[1;32m      1\u001b[0m \u001b[0;32mimport\u001b[0m \u001b[0mpandas\u001b[0m \u001b[0;32mas\u001b[0m \u001b[0mpd\u001b[0m\u001b[0;34m\u001b[0m\u001b[0;34m\u001b[0m\u001b[0m\n\u001b[0;32m----> 2\u001b[0;31m \u001b[0mdf\u001b[0m \u001b[0;34m=\u001b[0m \u001b[0mpd\u001b[0m\u001b[0;34m.\u001b[0m\u001b[0mread_csv\u001b[0m\u001b[0;34m(\u001b[0m\u001b[0;34m'league_3pa.csv'\u001b[0m\u001b[0;34m)\u001b[0m\u001b[0;34m.\u001b[0m\u001b[0mdrop\u001b[0m\u001b[0;34m(\u001b[0m\u001b[0mcolumns\u001b[0m\u001b[0;34m=\u001b[0m\u001b[0;34m'Unnamed: 0'\u001b[0m\u001b[0;34m)\u001b[0m\u001b[0;34m\u001b[0m\u001b[0;34m\u001b[0m\u001b[0m\n\u001b[0m\u001b[1;32m      3\u001b[0m \u001b[0mdf\u001b[0m\u001b[0;34m.\u001b[0m\u001b[0mto_csv\u001b[0m\u001b[0;34m(\u001b[0m\u001b[0;34m'league_3pa.csv'\u001b[0m\u001b[0;34m,\u001b[0m \u001b[0mindex\u001b[0m\u001b[0;34m=\u001b[0m\u001b[0;32mFalse\u001b[0m\u001b[0;34m)\u001b[0m\u001b[0;34m\u001b[0m\u001b[0;34m\u001b[0m\u001b[0m\n",
      "\u001b[0;32m/usr/local/anaconda3/lib/python3.9/site-packages/pandas/util/_decorators.py\u001b[0m in \u001b[0;36mwrapper\u001b[0;34m(*args, **kwargs)\u001b[0m\n\u001b[1;32m    309\u001b[0m                     \u001b[0mstacklevel\u001b[0m\u001b[0;34m=\u001b[0m\u001b[0mstacklevel\u001b[0m\u001b[0;34m,\u001b[0m\u001b[0;34m\u001b[0m\u001b[0;34m\u001b[0m\u001b[0m\n\u001b[1;32m    310\u001b[0m                 )\n\u001b[0;32m--> 311\u001b[0;31m             \u001b[0;32mreturn\u001b[0m \u001b[0mfunc\u001b[0m\u001b[0;34m(\u001b[0m\u001b[0;34m*\u001b[0m\u001b[0margs\u001b[0m\u001b[0;34m,\u001b[0m \u001b[0;34m**\u001b[0m\u001b[0mkwargs\u001b[0m\u001b[0;34m)\u001b[0m\u001b[0;34m\u001b[0m\u001b[0;34m\u001b[0m\u001b[0m\n\u001b[0m\u001b[1;32m    312\u001b[0m \u001b[0;34m\u001b[0m\u001b[0m\n\u001b[1;32m    313\u001b[0m         \u001b[0;32mreturn\u001b[0m \u001b[0mwrapper\u001b[0m\u001b[0;34m\u001b[0m\u001b[0;34m\u001b[0m\u001b[0m\n",
      "\u001b[0;32m/usr/local/anaconda3/lib/python3.9/site-packages/pandas/core/frame.py\u001b[0m in \u001b[0;36mdrop\u001b[0;34m(self, labels, axis, index, columns, level, inplace, errors)\u001b[0m\n\u001b[1;32m   4904\u001b[0m                 \u001b[0mweight\u001b[0m  \u001b[0;36m1.0\u001b[0m     \u001b[0;36m0.8\u001b[0m\u001b[0;34m\u001b[0m\u001b[0;34m\u001b[0m\u001b[0m\n\u001b[1;32m   4905\u001b[0m         \"\"\"\n\u001b[0;32m-> 4906\u001b[0;31m         return super().drop(\n\u001b[0m\u001b[1;32m   4907\u001b[0m             \u001b[0mlabels\u001b[0m\u001b[0;34m=\u001b[0m\u001b[0mlabels\u001b[0m\u001b[0;34m,\u001b[0m\u001b[0;34m\u001b[0m\u001b[0;34m\u001b[0m\u001b[0m\n\u001b[1;32m   4908\u001b[0m             \u001b[0maxis\u001b[0m\u001b[0;34m=\u001b[0m\u001b[0maxis\u001b[0m\u001b[0;34m,\u001b[0m\u001b[0;34m\u001b[0m\u001b[0;34m\u001b[0m\u001b[0m\n",
      "\u001b[0;32m/usr/local/anaconda3/lib/python3.9/site-packages/pandas/core/generic.py\u001b[0m in \u001b[0;36mdrop\u001b[0;34m(self, labels, axis, index, columns, level, inplace, errors)\u001b[0m\n\u001b[1;32m   4148\u001b[0m         \u001b[0;32mfor\u001b[0m \u001b[0maxis\u001b[0m\u001b[0;34m,\u001b[0m \u001b[0mlabels\u001b[0m \u001b[0;32min\u001b[0m \u001b[0maxes\u001b[0m\u001b[0;34m.\u001b[0m\u001b[0mitems\u001b[0m\u001b[0;34m(\u001b[0m\u001b[0;34m)\u001b[0m\u001b[0;34m:\u001b[0m\u001b[0;34m\u001b[0m\u001b[0;34m\u001b[0m\u001b[0m\n\u001b[1;32m   4149\u001b[0m             \u001b[0;32mif\u001b[0m \u001b[0mlabels\u001b[0m \u001b[0;32mis\u001b[0m \u001b[0;32mnot\u001b[0m \u001b[0;32mNone\u001b[0m\u001b[0;34m:\u001b[0m\u001b[0;34m\u001b[0m\u001b[0;34m\u001b[0m\u001b[0m\n\u001b[0;32m-> 4150\u001b[0;31m                 \u001b[0mobj\u001b[0m \u001b[0;34m=\u001b[0m \u001b[0mobj\u001b[0m\u001b[0;34m.\u001b[0m\u001b[0m_drop_axis\u001b[0m\u001b[0;34m(\u001b[0m\u001b[0mlabels\u001b[0m\u001b[0;34m,\u001b[0m \u001b[0maxis\u001b[0m\u001b[0;34m,\u001b[0m \u001b[0mlevel\u001b[0m\u001b[0;34m=\u001b[0m\u001b[0mlevel\u001b[0m\u001b[0;34m,\u001b[0m \u001b[0merrors\u001b[0m\u001b[0;34m=\u001b[0m\u001b[0merrors\u001b[0m\u001b[0;34m)\u001b[0m\u001b[0;34m\u001b[0m\u001b[0;34m\u001b[0m\u001b[0m\n\u001b[0m\u001b[1;32m   4151\u001b[0m \u001b[0;34m\u001b[0m\u001b[0m\n\u001b[1;32m   4152\u001b[0m         \u001b[0;32mif\u001b[0m \u001b[0minplace\u001b[0m\u001b[0;34m:\u001b[0m\u001b[0;34m\u001b[0m\u001b[0;34m\u001b[0m\u001b[0m\n",
      "\u001b[0;32m/usr/local/anaconda3/lib/python3.9/site-packages/pandas/core/generic.py\u001b[0m in \u001b[0;36m_drop_axis\u001b[0;34m(self, labels, axis, level, errors)\u001b[0m\n\u001b[1;32m   4183\u001b[0m                 \u001b[0mnew_axis\u001b[0m \u001b[0;34m=\u001b[0m \u001b[0maxis\u001b[0m\u001b[0;34m.\u001b[0m\u001b[0mdrop\u001b[0m\u001b[0;34m(\u001b[0m\u001b[0mlabels\u001b[0m\u001b[0;34m,\u001b[0m \u001b[0mlevel\u001b[0m\u001b[0;34m=\u001b[0m\u001b[0mlevel\u001b[0m\u001b[0;34m,\u001b[0m \u001b[0merrors\u001b[0m\u001b[0;34m=\u001b[0m\u001b[0merrors\u001b[0m\u001b[0;34m)\u001b[0m\u001b[0;34m\u001b[0m\u001b[0;34m\u001b[0m\u001b[0m\n\u001b[1;32m   4184\u001b[0m             \u001b[0;32melse\u001b[0m\u001b[0;34m:\u001b[0m\u001b[0;34m\u001b[0m\u001b[0;34m\u001b[0m\u001b[0m\n\u001b[0;32m-> 4185\u001b[0;31m                 \u001b[0mnew_axis\u001b[0m \u001b[0;34m=\u001b[0m \u001b[0maxis\u001b[0m\u001b[0;34m.\u001b[0m\u001b[0mdrop\u001b[0m\u001b[0;34m(\u001b[0m\u001b[0mlabels\u001b[0m\u001b[0;34m,\u001b[0m \u001b[0merrors\u001b[0m\u001b[0;34m=\u001b[0m\u001b[0merrors\u001b[0m\u001b[0;34m)\u001b[0m\u001b[0;34m\u001b[0m\u001b[0;34m\u001b[0m\u001b[0m\n\u001b[0m\u001b[1;32m   4186\u001b[0m             \u001b[0mresult\u001b[0m \u001b[0;34m=\u001b[0m \u001b[0mself\u001b[0m\u001b[0;34m.\u001b[0m\u001b[0mreindex\u001b[0m\u001b[0;34m(\u001b[0m\u001b[0;34m**\u001b[0m\u001b[0;34m{\u001b[0m\u001b[0maxis_name\u001b[0m\u001b[0;34m:\u001b[0m \u001b[0mnew_axis\u001b[0m\u001b[0;34m}\u001b[0m\u001b[0;34m)\u001b[0m\u001b[0;34m\u001b[0m\u001b[0;34m\u001b[0m\u001b[0m\n\u001b[1;32m   4187\u001b[0m \u001b[0;34m\u001b[0m\u001b[0m\n",
      "\u001b[0;32m/usr/local/anaconda3/lib/python3.9/site-packages/pandas/core/indexes/base.py\u001b[0m in \u001b[0;36mdrop\u001b[0;34m(self, labels, errors)\u001b[0m\n\u001b[1;32m   6015\u001b[0m         \u001b[0;32mif\u001b[0m \u001b[0mmask\u001b[0m\u001b[0;34m.\u001b[0m\u001b[0many\u001b[0m\u001b[0;34m(\u001b[0m\u001b[0;34m)\u001b[0m\u001b[0;34m:\u001b[0m\u001b[0;34m\u001b[0m\u001b[0;34m\u001b[0m\u001b[0m\n\u001b[1;32m   6016\u001b[0m             \u001b[0;32mif\u001b[0m \u001b[0merrors\u001b[0m \u001b[0;34m!=\u001b[0m \u001b[0;34m\"ignore\"\u001b[0m\u001b[0;34m:\u001b[0m\u001b[0;34m\u001b[0m\u001b[0;34m\u001b[0m\u001b[0m\n\u001b[0;32m-> 6017\u001b[0;31m                 \u001b[0;32mraise\u001b[0m \u001b[0mKeyError\u001b[0m\u001b[0;34m(\u001b[0m\u001b[0;34mf\"{labels[mask]} not found in axis\"\u001b[0m\u001b[0;34m)\u001b[0m\u001b[0;34m\u001b[0m\u001b[0;34m\u001b[0m\u001b[0m\n\u001b[0m\u001b[1;32m   6018\u001b[0m             \u001b[0mindexer\u001b[0m \u001b[0;34m=\u001b[0m \u001b[0mindexer\u001b[0m\u001b[0;34m[\u001b[0m\u001b[0;34m~\u001b[0m\u001b[0mmask\u001b[0m\u001b[0;34m]\u001b[0m\u001b[0;34m\u001b[0m\u001b[0;34m\u001b[0m\u001b[0m\n\u001b[1;32m   6019\u001b[0m         \u001b[0;32mreturn\u001b[0m \u001b[0mself\u001b[0m\u001b[0;34m.\u001b[0m\u001b[0mdelete\u001b[0m\u001b[0;34m(\u001b[0m\u001b[0mindexer\u001b[0m\u001b[0;34m)\u001b[0m\u001b[0;34m\u001b[0m\u001b[0;34m\u001b[0m\u001b[0m\n",
      "\u001b[0;31mKeyError\u001b[0m: \"['Unnamed: 0'] not found in axis\""
     ]
    }
   ],
   "source": [
    "import pandas as pd\n",
    "df = pd.read_csv('league_3pa.csv').drop(columns='Unnamed: 0')\n",
    "df.to_csv('league_3pa.csv', index=False)"
   ]
  },
  {
   "cell_type": "markdown",
   "id": "0e3e71c8",
   "metadata": {},
   "source": [
    "__________________________"
   ]
  }
 ],
 "metadata": {
  "kernelspec": {
   "display_name": "Python 3 (ipykernel)",
   "language": "python",
   "name": "python3"
  },
  "language_info": {
   "codemirror_mode": {
    "name": "ipython",
    "version": 3
   },
   "file_extension": ".py",
   "mimetype": "text/x-python",
   "name": "python",
   "nbconvert_exporter": "python",
   "pygments_lexer": "ipython3",
   "version": "3.9.7"
  }
 },
 "nbformat": 4,
 "nbformat_minor": 5
}
