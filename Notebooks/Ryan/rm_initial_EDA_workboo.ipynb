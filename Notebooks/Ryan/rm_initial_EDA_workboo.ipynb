{
 "cells": [
  {
   "cell_type": "code",
   "execution_count": 1,
   "id": "ff1a59d3",
   "metadata": {},
   "outputs": [
    {
     "name": "stderr",
     "output_type": "stream",
     "text": [
      "/opt/homebrew/anaconda3/lib/python3.9/site-packages/scipy/__init__.py:146: UserWarning: A NumPy version >=1.16.5 and <1.23.0 is required for this version of SciPy (detected version 1.23.0\n",
      "  warnings.warn(f\"A NumPy version >={np_minversion} and <{np_maxversion}\"\n"
     ]
    }
   ],
   "source": [
    "# Common DS\n",
    "import pandas as pd\n",
    "import numpy as np\n",
    "import scipy.stats as stats\n",
    "\n",
    "# Plotting\n",
    "import matplotlib.pyplot as plt\n",
    "import seaborn as sns\n",
    "\n",
    "# Helpful Stuff\n",
    "import warnings\n",
    "warnings.filterwarnings('ignore')\n",
    "pd.set_option('display.max_columns', None)\n",
    "%load_ext autoreload\n",
    "%autoreload 2\n",
    "\n",
    "from splitter import splitter"
   ]
  },
  {
   "cell_type": "markdown",
   "id": "eaa22ef8",
   "metadata": {},
   "source": [
    "## Check to see if win_pct should be removed as a column, or if null rows should be removed instead."
   ]
  },
  {
   "cell_type": "markdown",
   "id": "87c6eb43",
   "metadata": {},
   "source": [
    "##### Acquire 'tome_prep' modified to return win_prob in the dataframe"
   ]
  },
  {
   "cell_type": "code",
   "execution_count": null,
   "id": "5ed089ef",
   "metadata": {},
   "outputs": [],
   "source": [
    "from acquire import tome_prep"
   ]
  },
  {
   "cell_type": "code",
   "execution_count": null,
   "id": "37b5b8b6",
   "metadata": {},
   "outputs": [],
   "source": [
    "df = tome_prep()"
   ]
  },
  {
   "cell_type": "code",
   "execution_count": null,
   "id": "e01dbb80",
   "metadata": {},
   "outputs": [],
   "source": [
    "df.info()\n",
    "df.head()"
   ]
  },
  {
   "cell_type": "code",
   "execution_count": null,
   "id": "b807970d",
   "metadata": {},
   "outputs": [],
   "source": [
    "# Create column with or without win prob - then analyze differences\n",
    "df['has_win_prob'] = np.where(df.win_prob.isnull() == False, 'has_win_prob','no_win_prob')"
   ]
  },
  {
   "cell_type": "code",
   "execution_count": null,
   "id": "8b4ce701",
   "metadata": {},
   "outputs": [],
   "source": [
    "y = 'abs_time'"
   ]
  },
  {
   "cell_type": "code",
   "execution_count": null,
   "id": "5a6c2694",
   "metadata": {},
   "outputs": [],
   "source": [
    "wp = df[df.has_win_prob == 'has_win_prob']\n",
    "nwp = df[df.has_win_prob == 'no_win_prob']"
   ]
  },
  {
   "cell_type": "code",
   "execution_count": null,
   "id": "95ddc915",
   "metadata": {},
   "outputs": [],
   "source": [
    "wp[y].max()"
   ]
  },
  {
   "cell_type": "code",
   "execution_count": null,
   "id": "6774d5e5",
   "metadata": {},
   "outputs": [],
   "source": [
    "plt.figure(figsize = (12,12))\n",
    "sns.boxplot(data = df, x='has_win_prob',y=y)"
   ]
  },
  {
   "cell_type": "markdown",
   "id": "7fa19b7a",
   "metadata": {},
   "source": [
    "##### This indicates that the time is cut off at a certain point, so I would rather lose this as a feature (when it afect is likely captures in point_margin) than lose those shots."
   ]
  },
  {
   "cell_type": "markdown",
   "id": "c4f13331",
   "metadata": {},
   "source": [
    "## Split off a training dataframe for EDA"
   ]
  },
  {
   "cell_type": "markdown",
   "id": "146d017c",
   "metadata": {},
   "source": [
    "##### Acquire original 'tome_prep' , which does not return win_prob in the dataframe"
   ]
  },
  {
   "cell_type": "code",
   "execution_count": 2,
   "id": "543ebcfd",
   "metadata": {},
   "outputs": [],
   "source": [
    "from acquire import tome_prep"
   ]
  },
  {
   "cell_type": "code",
   "execution_count": 3,
   "id": "7c46f55a",
   "metadata": {},
   "outputs": [],
   "source": [
    "df = tome_prep()"
   ]
  },
  {
   "cell_type": "markdown",
   "id": "d84550ef",
   "metadata": {},
   "source": [
    "##### Split around the target 'shot_result'"
   ]
  },
  {
   "cell_type": "code",
   "execution_count": 4,
   "id": "47888401",
   "metadata": {},
   "outputs": [
    {
     "name": "stdout",
     "output_type": "stream",
     "text": [
      "Train = 47131 rows (56.0%) | Validate = 20200 rows (24.0%) | Test = 16833 rows (20.0%)\n"
     ]
    }
   ],
   "source": [
    "train, validate, test = splitter(df, target = 'shot_result')"
   ]
  },
  {
   "cell_type": "code",
   "execution_count": 5,
   "id": "632dcc82",
   "metadata": {},
   "outputs": [
    {
     "data": {
      "text/html": [
       "<div>\n",
       "<style scoped>\n",
       "    .dataframe tbody tr th:only-of-type {\n",
       "        vertical-align: middle;\n",
       "    }\n",
       "\n",
       "    .dataframe tbody tr th {\n",
       "        vertical-align: top;\n",
       "    }\n",
       "\n",
       "    .dataframe thead th {\n",
       "        text-align: right;\n",
       "    }\n",
       "</style>\n",
       "<table border=\"1\" class=\"dataframe\">\n",
       "  <thead>\n",
       "    <tr style=\"text-align: right;\">\n",
       "      <th></th>\n",
       "      <th>player</th>\n",
       "      <th>player_id</th>\n",
       "      <th>team</th>\n",
       "      <th>team_id</th>\n",
       "      <th>game_id</th>\n",
       "      <th>home</th>\n",
       "      <th>period</th>\n",
       "      <th>abs_time</th>\n",
       "      <th>play_time</th>\n",
       "      <th>since_rest</th>\n",
       "      <th>loc_x</th>\n",
       "      <th>loc_y</th>\n",
       "      <th>zone</th>\n",
       "      <th>shot_type</th>\n",
       "      <th>score_margin</th>\n",
       "      <th>points</th>\n",
       "      <th>fg_pct</th>\n",
       "      <th>shot_result</th>\n",
       "    </tr>\n",
       "  </thead>\n",
       "  <tbody>\n",
       "    <tr>\n",
       "      <th>22101</th>\n",
       "      <td>Jeff Green</td>\n",
       "      <td>201145</td>\n",
       "      <td>Denver Nuggets</td>\n",
       "      <td>1610612743</td>\n",
       "      <td>22100794</td>\n",
       "      <td>True</td>\n",
       "      <td>1</td>\n",
       "      <td>166</td>\n",
       "      <td>166.0</td>\n",
       "      <td>166.0</td>\n",
       "      <td>-230</td>\n",
       "      <td>-6</td>\n",
       "      <td>R Center</td>\n",
       "      <td>Jump Shot</td>\n",
       "      <td>2</td>\n",
       "      <td>0</td>\n",
       "      <td>0.00</td>\n",
       "      <td>Missed Shot</td>\n",
       "    </tr>\n",
       "    <tr>\n",
       "      <th>54605</th>\n",
       "      <td>RJ Barrett</td>\n",
       "      <td>1629628</td>\n",
       "      <td>New York Knicks</td>\n",
       "      <td>1610612752</td>\n",
       "      <td>22101140</td>\n",
       "      <td>True</td>\n",
       "      <td>2</td>\n",
       "      <td>1077</td>\n",
       "      <td>742.0</td>\n",
       "      <td>22.0</td>\n",
       "      <td>200</td>\n",
       "      <td>138</td>\n",
       "      <td>L Below Break/Corner</td>\n",
       "      <td>Jump Shot</td>\n",
       "      <td>0</td>\n",
       "      <td>10</td>\n",
       "      <td>0.83</td>\n",
       "      <td>Missed Shot</td>\n",
       "    </tr>\n",
       "    <tr>\n",
       "      <th>12186</th>\n",
       "      <td>Jonas Valanciunas</td>\n",
       "      <td>202685</td>\n",
       "      <td>New Orleans Pelicans</td>\n",
       "      <td>1610612740</td>\n",
       "      <td>22100179</td>\n",
       "      <td>True</td>\n",
       "      <td>1</td>\n",
       "      <td>74</td>\n",
       "      <td>74.0</td>\n",
       "      <td>74.0</td>\n",
       "      <td>-83</td>\n",
       "      <td>257</td>\n",
       "      <td>Center</td>\n",
       "      <td>Jump Shot</td>\n",
       "      <td>-3</td>\n",
       "      <td>0</td>\n",
       "      <td>0.00</td>\n",
       "      <td>Missed Shot</td>\n",
       "    </tr>\n",
       "    <tr>\n",
       "      <th>19168</th>\n",
       "      <td>Reggie Bullock</td>\n",
       "      <td>203493</td>\n",
       "      <td>Dallas Mavericks</td>\n",
       "      <td>1610612742</td>\n",
       "      <td>22100954</td>\n",
       "      <td>True</td>\n",
       "      <td>1</td>\n",
       "      <td>369</td>\n",
       "      <td>369.0</td>\n",
       "      <td>369.0</td>\n",
       "      <td>11</td>\n",
       "      <td>267</td>\n",
       "      <td>L Center</td>\n",
       "      <td>Pullup Jump shot</td>\n",
       "      <td>-6</td>\n",
       "      <td>0</td>\n",
       "      <td>0.00</td>\n",
       "      <td>Missed Shot</td>\n",
       "    </tr>\n",
       "    <tr>\n",
       "      <th>80553</th>\n",
       "      <td>Bojan Bogdanovic</td>\n",
       "      <td>202711</td>\n",
       "      <td>Utah Jazz</td>\n",
       "      <td>1610612762</td>\n",
       "      <td>22101150</td>\n",
       "      <td>True</td>\n",
       "      <td>3</td>\n",
       "      <td>1697</td>\n",
       "      <td>818.0</td>\n",
       "      <td>257.0</td>\n",
       "      <td>-223</td>\n",
       "      <td>5</td>\n",
       "      <td>R Center</td>\n",
       "      <td>Jump Shot</td>\n",
       "      <td>6</td>\n",
       "      <td>6</td>\n",
       "      <td>0.27</td>\n",
       "      <td>Missed Shot</td>\n",
       "    </tr>\n",
       "  </tbody>\n",
       "</table>\n",
       "</div>"
      ],
      "text/plain": [
       "                  player  player_id                  team     team_id  \\\n",
       "22101         Jeff Green     201145        Denver Nuggets  1610612743   \n",
       "54605         RJ Barrett    1629628       New York Knicks  1610612752   \n",
       "12186  Jonas Valanciunas     202685  New Orleans Pelicans  1610612740   \n",
       "19168     Reggie Bullock     203493      Dallas Mavericks  1610612742   \n",
       "80553   Bojan Bogdanovic     202711             Utah Jazz  1610612762   \n",
       "\n",
       "        game_id  home  period  abs_time  play_time  since_rest  loc_x  loc_y  \\\n",
       "22101  22100794  True       1       166      166.0       166.0   -230     -6   \n",
       "54605  22101140  True       2      1077      742.0        22.0    200    138   \n",
       "12186  22100179  True       1        74       74.0        74.0    -83    257   \n",
       "19168  22100954  True       1       369      369.0       369.0     11    267   \n",
       "80553  22101150  True       3      1697      818.0       257.0   -223      5   \n",
       "\n",
       "                       zone         shot_type  score_margin  points  fg_pct  \\\n",
       "22101              R Center         Jump Shot             2       0    0.00   \n",
       "54605  L Below Break/Corner         Jump Shot             0      10    0.83   \n",
       "12186                Center         Jump Shot            -3       0    0.00   \n",
       "19168              L Center  Pullup Jump shot            -6       0    0.00   \n",
       "80553              R Center         Jump Shot             6       6    0.27   \n",
       "\n",
       "       shot_result  \n",
       "22101  Missed Shot  \n",
       "54605  Missed Shot  \n",
       "12186  Missed Shot  \n",
       "19168  Missed Shot  \n",
       "80553  Missed Shot  "
      ]
     },
     "execution_count": 5,
     "metadata": {},
     "output_type": "execute_result"
    }
   ],
   "source": [
    "train.head()"
   ]
  },
  {
   "cell_type": "markdown",
   "id": "bf1ba33f",
   "metadata": {},
   "source": [
    "Create lists of continuous and categorical Columns:"
   ]
  },
  {
   "cell_type": "code",
   "execution_count": null,
   "id": "2efd8c85",
   "metadata": {},
   "outputs": [],
   "source": [
    "train_cont = ['abs_time', 'play_time', 'since_rest', 'loc_x', 'loc_y','score_margin', 'points', 'fg_pct']\n",
    "train_cat = ['home', 'period','zone','shot_type']\n",
    "train_tar = ['shot_result_encoded']"
   ]
  },
  {
   "cell_type": "code",
   "execution_count": null,
   "id": "f7df228c",
   "metadata": {},
   "outputs": [],
   "source": [
    "train_cont"
   ]
  },
  {
   "cell_type": "markdown",
   "id": "19c1f688",
   "metadata": {},
   "source": [
    "Create Encoded 'shot_result' (convenient to show percentages of shots)"
   ]
  },
  {
   "cell_type": "code",
   "execution_count": null,
   "id": "b3005c37",
   "metadata": {},
   "outputs": [],
   "source": [
    "train['shot_result_encoded'] = np.where(train['shot_result'] == 'Made Shot', 1,0)"
   ]
  },
  {
   "cell_type": "markdown",
   "id": "a67acaea",
   "metadata": {},
   "source": [
    "#### Variable Exploration"
   ]
  },
  {
   "cell_type": "code",
   "execution_count": null,
   "id": "dbf3bccf",
   "metadata": {},
   "outputs": [],
   "source": [
    "# Create a correlation matrix from the continuous numerical columns\n",
    "df_num_cols = train[train_cont]\n",
    "corr = df_num_cols.corr()\n",
    "\n",
    "# Pass correlation matrix on to sns heatmap\n",
    "plt.figure(figsize=(8,8))\n",
    "sns.heatmap(corr, annot=True, cmap=\"flare\", mask=np.triu(corr))\n",
    "plt.show()"
   ]
  },
  {
   "cell_type": "code",
   "execution_count": null,
   "id": "674f05f7",
   "metadata": {},
   "outputs": [],
   "source": [
    "# Create a left column that shows distributions for each cat next to it's barplot"
   ]
  },
  {
   "cell_type": "code",
   "execution_count": null,
   "id": "a0dc47f0",
   "metadata": {},
   "outputs": [],
   "source": [
    "plt.figure(figsize=(32,32))\n",
    "i=1\n",
    "for col in train_cat:\n",
    "#     plt.subplot(2, 4, i)\n",
    "#     Create a plot showing distribution of cat variable\n",
    "#     i+=1\n",
    "    plt.subplot(4, 1, i)\n",
    "    sns.barplot(x = col, y = 'shot_result_encoded', data=train, alpha=.8, color='lightblue')\n",
    "    plt.axhline(train['shot_result_encoded'].mean(), ls='--', color='gray')\n",
    "    i+=1\n",
    "plt.show()"
   ]
  },
  {
   "cell_type": "code",
   "execution_count": null,
   "id": "426d290e",
   "metadata": {},
   "outputs": [],
   "source": [
    "plt.figure(figsize = (12,12))\n",
    "sns.lmplot(data = train, x=col, y='shot_result_encoded')\n",
    "plt.show()"
   ]
  },
  {
   "cell_type": "code",
   "execution_count": null,
   "id": "8ad7a698",
   "metadata": {},
   "outputs": [],
   "source": [
    "plt.figure(figsize=(16,16))\n",
    "i=1\n",
    "for col in train_cont:\n",
    "#     plt.subplot(2, 4, i)\n",
    "#     Create a plot showing distribution of cat variable\n",
    "#     i+=1\n",
    "    plt.subplot(2, 4, i)\n",
    "    sns.boxenplot(y = col, x = 'shot_result', data=train)\n",
    "    plt.axhline(train[col].mean(), ls='--', color='gray')\n",
    "    i+=1\n",
    "plt.show()"
   ]
  },
  {
   "cell_type": "code",
   "execution_count": null,
   "id": "251b3634",
   "metadata": {},
   "outputs": [],
   "source": [
    "train['points'] = np.where(train.shot_result == 'Made Shot', train.points - 3, train.points)"
   ]
  },
  {
   "cell_type": "code",
   "execution_count": null,
   "id": "46213074",
   "metadata": {},
   "outputs": [],
   "source": [
    "train"
   ]
  },
  {
   "cell_type": "code",
   "execution_count": null,
   "id": "1e5fd58a",
   "metadata": {},
   "outputs": [],
   "source": []
  },
  {
   "cell_type": "code",
   "execution_count": null,
   "id": "3e89d45d",
   "metadata": {},
   "outputs": [],
   "source": [
    "plt.figure(figsize = (44,8))\n",
    "sns.lmplot(data=train, y='points', x='since_rest', hue='shot_result')\n",
    "plt.show()"
   ]
  },
  {
   "cell_type": "markdown",
   "id": "90c5193d",
   "metadata": {},
   "source": [
    "##### Might show freshness is key to making shots!"
   ]
  },
  {
   "cell_type": "code",
   "execution_count": 51,
   "id": "97ff7ef3",
   "metadata": {},
   "outputs": [],
   "source": [
    "df_working = df.copy()"
   ]
  },
  {
   "cell_type": "code",
   "execution_count": 52,
   "id": "45046ff3",
   "metadata": {},
   "outputs": [],
   "source": [
    "df_working['shot_result'] = np.where(df_working.shot_result == 'Made Shot',1,0)"
   ]
  },
  {
   "cell_type": "code",
   "execution_count": 53,
   "id": "a7f5e4b6",
   "metadata": {},
   "outputs": [],
   "source": [
    "boost = pd.DataFrame(df_working.groupby(['player','game_id']).shot_result.sum())"
   ]
  },
  {
   "cell_type": "code",
   "execution_count": 54,
   "id": "3008a485",
   "metadata": {},
   "outputs": [],
   "source": [
    "boost = boost.reset_index()"
   ]
  },
  {
   "cell_type": "code",
   "execution_count": 55,
   "id": "f9feaedc",
   "metadata": {},
   "outputs": [],
   "source": [
    "boost = boost.rename(columns = {'shot_result':\"made_threes\"})"
   ]
  },
  {
   "cell_type": "code",
   "execution_count": 56,
   "id": "9b505f8d",
   "metadata": {},
   "outputs": [],
   "source": [
    "glist = pd.Series(list(pd.DataFrame(df_working.groupby(['player','game_id']).shot_result.mean()).shot_result.values))"
   ]
  },
  {
   "cell_type": "code",
   "execution_count": 57,
   "id": "d62537dc",
   "metadata": {},
   "outputs": [],
   "source": [
    "game_threes = pd.concat([boost,glist], axis =1)\n",
    "game_threes = game_threes.rename(columns = {0:'game_three_pct'})"
   ]
  },
  {
   "cell_type": "code",
   "execution_count": 58,
   "id": "a482851d",
   "metadata": {},
   "outputs": [],
   "source": [
    "game_threes['per_game_3p_misses'] = (game_threes.made_threes/game_threes.game_three_pct) - game_threes.made_threes"
   ]
  },
  {
   "cell_type": "code",
   "execution_count": 59,
   "id": "1cf4a3b8",
   "metadata": {},
   "outputs": [],
   "source": [
    "game_threes['per_game_3pa'] = (game_threes.made_threes/game_threes.game_three_pct)"
   ]
  },
  {
   "cell_type": "markdown",
   "id": "3f7f6081",
   "metadata": {},
   "source": [
    "##### Game Score V1\n",
    "3PM multiplied by 3P%"
   ]
  },
  {
   "cell_type": "code",
   "execution_count": 60,
   "id": "04a2181d",
   "metadata": {},
   "outputs": [],
   "source": [
    "game_threes['three_score_v1'] = game_threes.made_threes * game_threes.game_three_pct"
   ]
  },
  {
   "cell_type": "code",
   "execution_count": 61,
   "id": "52bf1933",
   "metadata": {},
   "outputs": [
    {
     "data": {
      "text/html": [
       "<div>\n",
       "<style scoped>\n",
       "    .dataframe tbody tr th:only-of-type {\n",
       "        vertical-align: middle;\n",
       "    }\n",
       "\n",
       "    .dataframe tbody tr th {\n",
       "        vertical-align: top;\n",
       "    }\n",
       "\n",
       "    .dataframe thead th {\n",
       "        text-align: right;\n",
       "    }\n",
       "</style>\n",
       "<table border=\"1\" class=\"dataframe\">\n",
       "  <thead>\n",
       "    <tr style=\"text-align: right;\">\n",
       "      <th></th>\n",
       "      <th>player</th>\n",
       "      <th>game_id</th>\n",
       "      <th>made_threes</th>\n",
       "      <th>game_three_pct</th>\n",
       "      <th>per_game_3p_misses</th>\n",
       "      <th>per_game_3pa</th>\n",
       "      <th>three_score_v1</th>\n",
       "    </tr>\n",
       "  </thead>\n",
       "  <tbody>\n",
       "    <tr>\n",
       "      <th>17461</th>\n",
       "      <td>Saddiq Bey</td>\n",
       "      <td>22101045</td>\n",
       "      <td>10</td>\n",
       "      <td>0.769231</td>\n",
       "      <td>3.0</td>\n",
       "      <td>13.0</td>\n",
       "      <td>7.692308</td>\n",
       "    </tr>\n",
       "    <tr>\n",
       "      <th>6280</th>\n",
       "      <td>Evan Fournier</td>\n",
       "      <td>22100578</td>\n",
       "      <td>10</td>\n",
       "      <td>0.769231</td>\n",
       "      <td>3.0</td>\n",
       "      <td>13.0</td>\n",
       "      <td>7.692308</td>\n",
       "    </tr>\n",
       "    <tr>\n",
       "      <th>13816</th>\n",
       "      <td>Malik Beasley</td>\n",
       "      <td>22100986</td>\n",
       "      <td>11</td>\n",
       "      <td>0.647059</td>\n",
       "      <td>6.0</td>\n",
       "      <td>17.0</td>\n",
       "      <td>7.117647</td>\n",
       "    </tr>\n",
       "    <tr>\n",
       "      <th>16892</th>\n",
       "      <td>Ricky Rubio</td>\n",
       "      <td>22100140</td>\n",
       "      <td>8</td>\n",
       "      <td>0.888889</td>\n",
       "      <td>1.0</td>\n",
       "      <td>9.0</td>\n",
       "      <td>7.111111</td>\n",
       "    </tr>\n",
       "    <tr>\n",
       "      <th>16172</th>\n",
       "      <td>Patty Mills</td>\n",
       "      <td>22100001</td>\n",
       "      <td>7</td>\n",
       "      <td>1.000000</td>\n",
       "      <td>0.0</td>\n",
       "      <td>7.0</td>\n",
       "      <td>7.000000</td>\n",
       "    </tr>\n",
       "    <tr>\n",
       "      <th>...</th>\n",
       "      <td>...</td>\n",
       "      <td>...</td>\n",
       "      <td>...</td>\n",
       "      <td>...</td>\n",
       "      <td>...</td>\n",
       "      <td>...</td>\n",
       "      <td>...</td>\n",
       "    </tr>\n",
       "    <tr>\n",
       "      <th>4521</th>\n",
       "      <td>DeAndre' Bembry</td>\n",
       "      <td>22100706</td>\n",
       "      <td>0</td>\n",
       "      <td>0.000000</td>\n",
       "      <td>NaN</td>\n",
       "      <td>NaN</td>\n",
       "      <td>0.000000</td>\n",
       "    </tr>\n",
       "    <tr>\n",
       "      <th>13410</th>\n",
       "      <td>Lou Williams</td>\n",
       "      <td>22100242</td>\n",
       "      <td>0</td>\n",
       "      <td>0.000000</td>\n",
       "      <td>NaN</td>\n",
       "      <td>NaN</td>\n",
       "      <td>0.000000</td>\n",
       "    </tr>\n",
       "    <tr>\n",
       "      <th>13406</th>\n",
       "      <td>Lou Williams</td>\n",
       "      <td>22100120</td>\n",
       "      <td>0</td>\n",
       "      <td>0.000000</td>\n",
       "      <td>NaN</td>\n",
       "      <td>NaN</td>\n",
       "      <td>0.000000</td>\n",
       "    </tr>\n",
       "    <tr>\n",
       "      <th>13405</th>\n",
       "      <td>Lou Williams</td>\n",
       "      <td>22100113</td>\n",
       "      <td>0</td>\n",
       "      <td>0.000000</td>\n",
       "      <td>NaN</td>\n",
       "      <td>NaN</td>\n",
       "      <td>0.000000</td>\n",
       "    </tr>\n",
       "    <tr>\n",
       "      <th>20334</th>\n",
       "      <td>Zylan Cheatham</td>\n",
       "      <td>22100624</td>\n",
       "      <td>0</td>\n",
       "      <td>0.000000</td>\n",
       "      <td>NaN</td>\n",
       "      <td>NaN</td>\n",
       "      <td>0.000000</td>\n",
       "    </tr>\n",
       "  </tbody>\n",
       "</table>\n",
       "<p>20335 rows × 7 columns</p>\n",
       "</div>"
      ],
      "text/plain": [
       "                player   game_id  made_threes  game_three_pct  \\\n",
       "17461       Saddiq Bey  22101045           10        0.769231   \n",
       "6280     Evan Fournier  22100578           10        0.769231   \n",
       "13816    Malik Beasley  22100986           11        0.647059   \n",
       "16892      Ricky Rubio  22100140            8        0.888889   \n",
       "16172      Patty Mills  22100001            7        1.000000   \n",
       "...                ...       ...          ...             ...   \n",
       "4521   DeAndre' Bembry  22100706            0        0.000000   \n",
       "13410     Lou Williams  22100242            0        0.000000   \n",
       "13406     Lou Williams  22100120            0        0.000000   \n",
       "13405     Lou Williams  22100113            0        0.000000   \n",
       "20334   Zylan Cheatham  22100624            0        0.000000   \n",
       "\n",
       "       per_game_3p_misses  per_game_3pa  three_score_v1  \n",
       "17461                 3.0          13.0        7.692308  \n",
       "6280                  3.0          13.0        7.692308  \n",
       "13816                 6.0          17.0        7.117647  \n",
       "16892                 1.0           9.0        7.111111  \n",
       "16172                 0.0           7.0        7.000000  \n",
       "...                   ...           ...             ...  \n",
       "4521                  NaN           NaN        0.000000  \n",
       "13410                 NaN           NaN        0.000000  \n",
       "13406                 NaN           NaN        0.000000  \n",
       "13405                 NaN           NaN        0.000000  \n",
       "20334                 NaN           NaN        0.000000  \n",
       "\n",
       "[20335 rows x 7 columns]"
      ]
     },
     "execution_count": 61,
     "metadata": {},
     "output_type": "execute_result"
    }
   ],
   "source": [
    "game_threes.sort_values(by = 'three_score_v1', ascending = False)"
   ]
  },
  {
   "cell_type": "markdown",
   "id": "1873bd08",
   "metadata": {},
   "source": [
    "##### Game Score V2\n",
    "3PM multiplied by (1 - 3P%)/2 + 3P% -> Reduce the impact of missing shots by 1/2"
   ]
  },
  {
   "cell_type": "code",
   "execution_count": 62,
   "id": "dfb61304",
   "metadata": {},
   "outputs": [],
   "source": [
    "game_threes['three_score_v2'] = game_threes.made_threes * (game_threes.game_three_pct + ((1 - game_threes.game_three_pct)/2))"
   ]
  },
  {
   "cell_type": "code",
   "execution_count": 63,
   "id": "269b0df6",
   "metadata": {},
   "outputs": [
    {
     "data": {
      "text/html": [
       "<div>\n",
       "<style scoped>\n",
       "    .dataframe tbody tr th:only-of-type {\n",
       "        vertical-align: middle;\n",
       "    }\n",
       "\n",
       "    .dataframe tbody tr th {\n",
       "        vertical-align: top;\n",
       "    }\n",
       "\n",
       "    .dataframe thead th {\n",
       "        text-align: right;\n",
       "    }\n",
       "</style>\n",
       "<table border=\"1\" class=\"dataframe\">\n",
       "  <thead>\n",
       "    <tr style=\"text-align: right;\">\n",
       "      <th></th>\n",
       "      <th>player</th>\n",
       "      <th>game_id</th>\n",
       "      <th>made_threes</th>\n",
       "      <th>game_three_pct</th>\n",
       "      <th>per_game_3p_misses</th>\n",
       "      <th>per_game_3pa</th>\n",
       "      <th>three_score_v1</th>\n",
       "      <th>three_score_v2</th>\n",
       "    </tr>\n",
       "  </thead>\n",
       "  <tbody>\n",
       "    <tr>\n",
       "      <th>17461</th>\n",
       "      <td>Saddiq Bey</td>\n",
       "      <td>22101045</td>\n",
       "      <td>10</td>\n",
       "      <td>0.769231</td>\n",
       "      <td>3.0</td>\n",
       "      <td>13.0</td>\n",
       "      <td>7.692308</td>\n",
       "      <td>8.846154</td>\n",
       "    </tr>\n",
       "    <tr>\n",
       "      <th>6280</th>\n",
       "      <td>Evan Fournier</td>\n",
       "      <td>22100578</td>\n",
       "      <td>10</td>\n",
       "      <td>0.769231</td>\n",
       "      <td>3.0</td>\n",
       "      <td>13.0</td>\n",
       "      <td>7.692308</td>\n",
       "      <td>8.846154</td>\n",
       "    </tr>\n",
       "    <tr>\n",
       "      <th>13816</th>\n",
       "      <td>Malik Beasley</td>\n",
       "      <td>22100986</td>\n",
       "      <td>11</td>\n",
       "      <td>0.647059</td>\n",
       "      <td>6.0</td>\n",
       "      <td>17.0</td>\n",
       "      <td>7.117647</td>\n",
       "      <td>9.058824</td>\n",
       "    </tr>\n",
       "    <tr>\n",
       "      <th>16892</th>\n",
       "      <td>Ricky Rubio</td>\n",
       "      <td>22100140</td>\n",
       "      <td>8</td>\n",
       "      <td>0.888889</td>\n",
       "      <td>1.0</td>\n",
       "      <td>9.0</td>\n",
       "      <td>7.111111</td>\n",
       "      <td>7.555556</td>\n",
       "    </tr>\n",
       "    <tr>\n",
       "      <th>16172</th>\n",
       "      <td>Patty Mills</td>\n",
       "      <td>22100001</td>\n",
       "      <td>7</td>\n",
       "      <td>1.000000</td>\n",
       "      <td>0.0</td>\n",
       "      <td>7.0</td>\n",
       "      <td>7.000000</td>\n",
       "      <td>7.000000</td>\n",
       "    </tr>\n",
       "    <tr>\n",
       "      <th>...</th>\n",
       "      <td>...</td>\n",
       "      <td>...</td>\n",
       "      <td>...</td>\n",
       "      <td>...</td>\n",
       "      <td>...</td>\n",
       "      <td>...</td>\n",
       "      <td>...</td>\n",
       "      <td>...</td>\n",
       "    </tr>\n",
       "    <tr>\n",
       "      <th>4521</th>\n",
       "      <td>DeAndre' Bembry</td>\n",
       "      <td>22100706</td>\n",
       "      <td>0</td>\n",
       "      <td>0.000000</td>\n",
       "      <td>NaN</td>\n",
       "      <td>NaN</td>\n",
       "      <td>0.000000</td>\n",
       "      <td>0.000000</td>\n",
       "    </tr>\n",
       "    <tr>\n",
       "      <th>13410</th>\n",
       "      <td>Lou Williams</td>\n",
       "      <td>22100242</td>\n",
       "      <td>0</td>\n",
       "      <td>0.000000</td>\n",
       "      <td>NaN</td>\n",
       "      <td>NaN</td>\n",
       "      <td>0.000000</td>\n",
       "      <td>0.000000</td>\n",
       "    </tr>\n",
       "    <tr>\n",
       "      <th>13406</th>\n",
       "      <td>Lou Williams</td>\n",
       "      <td>22100120</td>\n",
       "      <td>0</td>\n",
       "      <td>0.000000</td>\n",
       "      <td>NaN</td>\n",
       "      <td>NaN</td>\n",
       "      <td>0.000000</td>\n",
       "      <td>0.000000</td>\n",
       "    </tr>\n",
       "    <tr>\n",
       "      <th>13405</th>\n",
       "      <td>Lou Williams</td>\n",
       "      <td>22100113</td>\n",
       "      <td>0</td>\n",
       "      <td>0.000000</td>\n",
       "      <td>NaN</td>\n",
       "      <td>NaN</td>\n",
       "      <td>0.000000</td>\n",
       "      <td>0.000000</td>\n",
       "    </tr>\n",
       "    <tr>\n",
       "      <th>20334</th>\n",
       "      <td>Zylan Cheatham</td>\n",
       "      <td>22100624</td>\n",
       "      <td>0</td>\n",
       "      <td>0.000000</td>\n",
       "      <td>NaN</td>\n",
       "      <td>NaN</td>\n",
       "      <td>0.000000</td>\n",
       "      <td>0.000000</td>\n",
       "    </tr>\n",
       "  </tbody>\n",
       "</table>\n",
       "<p>20335 rows × 8 columns</p>\n",
       "</div>"
      ],
      "text/plain": [
       "                player   game_id  made_threes  game_three_pct  \\\n",
       "17461       Saddiq Bey  22101045           10        0.769231   \n",
       "6280     Evan Fournier  22100578           10        0.769231   \n",
       "13816    Malik Beasley  22100986           11        0.647059   \n",
       "16892      Ricky Rubio  22100140            8        0.888889   \n",
       "16172      Patty Mills  22100001            7        1.000000   \n",
       "...                ...       ...          ...             ...   \n",
       "4521   DeAndre' Bembry  22100706            0        0.000000   \n",
       "13410     Lou Williams  22100242            0        0.000000   \n",
       "13406     Lou Williams  22100120            0        0.000000   \n",
       "13405     Lou Williams  22100113            0        0.000000   \n",
       "20334   Zylan Cheatham  22100624            0        0.000000   \n",
       "\n",
       "       per_game_3p_misses  per_game_3pa  three_score_v1  three_score_v2  \n",
       "17461                 3.0          13.0        7.692308        8.846154  \n",
       "6280                  3.0          13.0        7.692308        8.846154  \n",
       "13816                 6.0          17.0        7.117647        9.058824  \n",
       "16892                 1.0           9.0        7.111111        7.555556  \n",
       "16172                 0.0           7.0        7.000000        7.000000  \n",
       "...                   ...           ...             ...             ...  \n",
       "4521                  NaN           NaN        0.000000        0.000000  \n",
       "13410                 NaN           NaN        0.000000        0.000000  \n",
       "13406                 NaN           NaN        0.000000        0.000000  \n",
       "13405                 NaN           NaN        0.000000        0.000000  \n",
       "20334                 NaN           NaN        0.000000        0.000000  \n",
       "\n",
       "[20335 rows x 8 columns]"
      ]
     },
     "execution_count": 63,
     "metadata": {},
     "output_type": "execute_result"
    }
   ],
   "source": [
    "game_threes.sort_values(by = 'three_score_v1', ascending = False)"
   ]
  },
  {
   "cell_type": "markdown",
   "id": "7fb7d13b",
   "metadata": {},
   "source": [
    "##### Game Score Three\n",
    "made^2/missed"
   ]
  },
  {
   "cell_type": "code",
   "execution_count": 64,
   "id": "7eff121e",
   "metadata": {},
   "outputs": [],
   "source": [
    "game_threes = game_threes.fillna(0)"
   ]
  },
  {
   "cell_type": "code",
   "execution_count": 65,
   "id": "3b0182f8",
   "metadata": {},
   "outputs": [],
   "source": [
    "game_threes['three_score_v3'] = game_threes.made_threes**2/game_threes.per_game_3p_misses"
   ]
  },
  {
   "cell_type": "code",
   "execution_count": 66,
   "id": "8c4a1e3b",
   "metadata": {},
   "outputs": [],
   "source": [
    "game_threes = game_threes.fillna(0)"
   ]
  },
  {
   "cell_type": "code",
   "execution_count": 67,
   "id": "e232f0cc",
   "metadata": {},
   "outputs": [],
   "source": [
    "three_score_v3_list = []\n",
    "for row in game_threes.three_score_v3:\n",
    "    if row == np.inf:\n",
    "        row = 0\n",
    "    else:\n",
    "        row = row\n",
    "    three_score_v3_list.append(row)"
   ]
  },
  {
   "cell_type": "code",
   "execution_count": 68,
   "id": "d4513591",
   "metadata": {},
   "outputs": [],
   "source": [
    "game_threes['three_score_v3'] = three_score_v3_list"
   ]
  },
  {
   "cell_type": "markdown",
   "id": "6f48f5cd",
   "metadata": {},
   "source": [
    "#### Now aggregate all into season"
   ]
  },
  {
   "cell_type": "code",
   "execution_count": 69,
   "id": "031b6f0b",
   "metadata": {},
   "outputs": [],
   "source": [
    "season_threes = game_threes.groupby('player').agg('mean')"
   ]
  },
  {
   "cell_type": "code",
   "execution_count": 70,
   "id": "b9119bfe",
   "metadata": {},
   "outputs": [],
   "source": [
    "ranker = [n+1 for n in range(555)]"
   ]
  },
  {
   "cell_type": "markdown",
   "id": "62cf5f49",
   "metadata": {},
   "source": [
    "Ran this ranker against sorted values of v1 and v2 scores as well as made_threes and game_three_pct"
   ]
  },
  {
   "cell_type": "code",
   "execution_count": 71,
   "id": "abfb8341",
   "metadata": {},
   "outputs": [
    {
     "data": {
      "text/plain": [
       "Index(['game_id', 'made_threes', 'game_three_pct', 'per_game_3p_misses',\n",
       "       'per_game_3pa', 'three_score_v1', 'three_score_v2', 'three_score_v3'],\n",
       "      dtype='object')"
      ]
     },
     "execution_count": 71,
     "metadata": {},
     "output_type": "execute_result"
    }
   ],
   "source": [
    "season_threes.columns"
   ]
  },
  {
   "cell_type": "code",
   "execution_count": 72,
   "id": "81389370",
   "metadata": {},
   "outputs": [],
   "source": [
    "rank_columns = ['made_threes', 'game_three_pct', 'per_game_3p_misses','per_game_3pa', 'three_score_v1', 'three_score_v2', 'three_score_v3']"
   ]
  },
  {
   "cell_type": "code",
   "execution_count": 73,
   "id": "fcca8240",
   "metadata": {},
   "outputs": [],
   "source": [
    "for metric in rank_columns:\n",
    "    rank = f'{metric}_rank'\n",
    "    season_threes = season_threes.sort_values(by = metric, ascending = False)\n",
    "    season_threes[rank] = ranker"
   ]
  },
  {
   "cell_type": "code",
   "execution_count": 74,
   "id": "f20ef554",
   "metadata": {},
   "outputs": [
    {
     "data": {
      "text/html": [
       "<div>\n",
       "<style scoped>\n",
       "    .dataframe tbody tr th:only-of-type {\n",
       "        vertical-align: middle;\n",
       "    }\n",
       "\n",
       "    .dataframe tbody tr th {\n",
       "        vertical-align: top;\n",
       "    }\n",
       "\n",
       "    .dataframe thead th {\n",
       "        text-align: right;\n",
       "    }\n",
       "</style>\n",
       "<table border=\"1\" class=\"dataframe\">\n",
       "  <thead>\n",
       "    <tr style=\"text-align: right;\">\n",
       "      <th></th>\n",
       "      <th>game_id</th>\n",
       "      <th>made_threes</th>\n",
       "      <th>game_three_pct</th>\n",
       "      <th>per_game_3p_misses</th>\n",
       "      <th>per_game_3pa</th>\n",
       "      <th>three_score_v1</th>\n",
       "      <th>three_score_v2</th>\n",
       "      <th>three_score_v3</th>\n",
       "      <th>made_threes_rank</th>\n",
       "      <th>game_three_pct_rank</th>\n",
       "      <th>per_game_3p_misses_rank</th>\n",
       "      <th>per_game_3pa_rank</th>\n",
       "      <th>three_score_v1_rank</th>\n",
       "      <th>three_score_v2_rank</th>\n",
       "      <th>three_score_v3_rank</th>\n",
       "    </tr>\n",
       "    <tr>\n",
       "      <th>player</th>\n",
       "      <th></th>\n",
       "      <th></th>\n",
       "      <th></th>\n",
       "      <th></th>\n",
       "      <th></th>\n",
       "      <th></th>\n",
       "      <th></th>\n",
       "      <th></th>\n",
       "      <th></th>\n",
       "      <th></th>\n",
       "      <th></th>\n",
       "      <th></th>\n",
       "      <th></th>\n",
       "      <th></th>\n",
       "      <th></th>\n",
       "    </tr>\n",
       "  </thead>\n",
       "  <tbody>\n",
       "    <tr>\n",
       "      <th>Joe Harris</th>\n",
       "      <td>2.210010e+07</td>\n",
       "      <td>2.928571</td>\n",
       "      <td>0.475417</td>\n",
       "      <td>3.357143</td>\n",
       "      <td>6.285714</td>\n",
       "      <td>1.598330</td>\n",
       "      <td>2.263451</td>\n",
       "      <td>4.775765</td>\n",
       "      <td>18</td>\n",
       "      <td>23</td>\n",
       "      <td>51</td>\n",
       "      <td>40</td>\n",
       "      <td>4</td>\n",
       "      <td>9</td>\n",
       "      <td>1</td>\n",
       "    </tr>\n",
       "    <tr>\n",
       "      <th>Lonzo Ball</th>\n",
       "      <td>2.210028e+07</td>\n",
       "      <td>3.142857</td>\n",
       "      <td>0.424023</td>\n",
       "      <td>4.085714</td>\n",
       "      <td>7.228571</td>\n",
       "      <td>1.598913</td>\n",
       "      <td>2.370885</td>\n",
       "      <td>4.399286</td>\n",
       "      <td>7</td>\n",
       "      <td>40</td>\n",
       "      <td>28</td>\n",
       "      <td>21</td>\n",
       "      <td>3</td>\n",
       "      <td>5</td>\n",
       "      <td>2</td>\n",
       "    </tr>\n",
       "    <tr>\n",
       "      <th>Stephen Curry</th>\n",
       "      <td>2.210053e+07</td>\n",
       "      <td>4.125000</td>\n",
       "      <td>0.397276</td>\n",
       "      <td>6.203125</td>\n",
       "      <td>10.328125</td>\n",
       "      <td>1.890991</td>\n",
       "      <td>3.007995</td>\n",
       "      <td>4.107970</td>\n",
       "      <td>1</td>\n",
       "      <td>71</td>\n",
       "      <td>1</td>\n",
       "      <td>1</td>\n",
       "      <td>1</td>\n",
       "      <td>1</td>\n",
       "      <td>3</td>\n",
       "    </tr>\n",
       "    <tr>\n",
       "      <th>Luke Kennard</th>\n",
       "      <td>2.210059e+07</td>\n",
       "      <td>2.710145</td>\n",
       "      <td>0.466221</td>\n",
       "      <td>3.231884</td>\n",
       "      <td>5.942029</td>\n",
       "      <td>1.443182</td>\n",
       "      <td>2.076663</td>\n",
       "      <td>4.088475</td>\n",
       "      <td>26</td>\n",
       "      <td>26</td>\n",
       "      <td>58</td>\n",
       "      <td>49</td>\n",
       "      <td>10</td>\n",
       "      <td>23</td>\n",
       "      <td>4</td>\n",
       "    </tr>\n",
       "    <tr>\n",
       "      <th>Klay Thompson</th>\n",
       "      <td>2.210090e+07</td>\n",
       "      <td>3.562500</td>\n",
       "      <td>0.374824</td>\n",
       "      <td>5.312500</td>\n",
       "      <td>8.875000</td>\n",
       "      <td>1.670665</td>\n",
       "      <td>2.616582</td>\n",
       "      <td>3.822966</td>\n",
       "      <td>3</td>\n",
       "      <td>121</td>\n",
       "      <td>4</td>\n",
       "      <td>4</td>\n",
       "      <td>2</td>\n",
       "      <td>2</td>\n",
       "      <td>5</td>\n",
       "    </tr>\n",
       "    <tr>\n",
       "      <th>...</th>\n",
       "      <td>...</td>\n",
       "      <td>...</td>\n",
       "      <td>...</td>\n",
       "      <td>...</td>\n",
       "      <td>...</td>\n",
       "      <td>...</td>\n",
       "      <td>...</td>\n",
       "      <td>...</td>\n",
       "      <td>...</td>\n",
       "      <td>...</td>\n",
       "      <td>...</td>\n",
       "      <td>...</td>\n",
       "      <td>...</td>\n",
       "      <td>...</td>\n",
       "      <td>...</td>\n",
       "    </tr>\n",
       "    <tr>\n",
       "      <th>Xavier Sneed</th>\n",
       "      <td>2.210092e+07</td>\n",
       "      <td>0.166667</td>\n",
       "      <td>0.166667</td>\n",
       "      <td>0.000000</td>\n",
       "      <td>0.166667</td>\n",
       "      <td>0.166667</td>\n",
       "      <td>0.166667</td>\n",
       "      <td>0.000000</td>\n",
       "      <td>504</td>\n",
       "      <td>486</td>\n",
       "      <td>550</td>\n",
       "      <td>504</td>\n",
       "      <td>492</td>\n",
       "      <td>502</td>\n",
       "      <td>551</td>\n",
       "    </tr>\n",
       "    <tr>\n",
       "      <th>Myles Powell</th>\n",
       "      <td>2.210062e+07</td>\n",
       "      <td>0.200000</td>\n",
       "      <td>0.200000</td>\n",
       "      <td>0.000000</td>\n",
       "      <td>0.200000</td>\n",
       "      <td>0.200000</td>\n",
       "      <td>0.200000</td>\n",
       "      <td>0.000000</td>\n",
       "      <td>500</td>\n",
       "      <td>464</td>\n",
       "      <td>553</td>\n",
       "      <td>502</td>\n",
       "      <td>484</td>\n",
       "      <td>497</td>\n",
       "      <td>552</td>\n",
       "    </tr>\n",
       "    <tr>\n",
       "      <th>Quinndary Weatherspoon</th>\n",
       "      <td>2.210090e+07</td>\n",
       "      <td>0.200000</td>\n",
       "      <td>0.200000</td>\n",
       "      <td>0.000000</td>\n",
       "      <td>0.200000</td>\n",
       "      <td>0.200000</td>\n",
       "      <td>0.200000</td>\n",
       "      <td>0.000000</td>\n",
       "      <td>501</td>\n",
       "      <td>465</td>\n",
       "      <td>552</td>\n",
       "      <td>503</td>\n",
       "      <td>483</td>\n",
       "      <td>496</td>\n",
       "      <td>553</td>\n",
       "    </tr>\n",
       "    <tr>\n",
       "      <th>Isaac Bonga</th>\n",
       "      <td>2.210038e+07</td>\n",
       "      <td>0.250000</td>\n",
       "      <td>0.250000</td>\n",
       "      <td>0.000000</td>\n",
       "      <td>0.250000</td>\n",
       "      <td>0.250000</td>\n",
       "      <td>0.250000</td>\n",
       "      <td>0.000000</td>\n",
       "      <td>494</td>\n",
       "      <td>421</td>\n",
       "      <td>554</td>\n",
       "      <td>501</td>\n",
       "      <td>470</td>\n",
       "      <td>492</td>\n",
       "      <td>554</td>\n",
       "    </tr>\n",
       "    <tr>\n",
       "      <th>Zylan Cheatham</th>\n",
       "      <td>2.210062e+07</td>\n",
       "      <td>0.000000</td>\n",
       "      <td>0.000000</td>\n",
       "      <td>0.000000</td>\n",
       "      <td>0.000000</td>\n",
       "      <td>0.000000</td>\n",
       "      <td>0.000000</td>\n",
       "      <td>0.000000</td>\n",
       "      <td>555</td>\n",
       "      <td>555</td>\n",
       "      <td>555</td>\n",
       "      <td>555</td>\n",
       "      <td>555</td>\n",
       "      <td>555</td>\n",
       "      <td>555</td>\n",
       "    </tr>\n",
       "  </tbody>\n",
       "</table>\n",
       "<p>555 rows × 15 columns</p>\n",
       "</div>"
      ],
      "text/plain": [
       "                             game_id  made_threes  game_three_pct  \\\n",
       "player                                                              \n",
       "Joe Harris              2.210010e+07     2.928571        0.475417   \n",
       "Lonzo Ball              2.210028e+07     3.142857        0.424023   \n",
       "Stephen Curry           2.210053e+07     4.125000        0.397276   \n",
       "Luke Kennard            2.210059e+07     2.710145        0.466221   \n",
       "Klay Thompson           2.210090e+07     3.562500        0.374824   \n",
       "...                              ...          ...             ...   \n",
       "Xavier Sneed            2.210092e+07     0.166667        0.166667   \n",
       "Myles Powell            2.210062e+07     0.200000        0.200000   \n",
       "Quinndary Weatherspoon  2.210090e+07     0.200000        0.200000   \n",
       "Isaac Bonga             2.210038e+07     0.250000        0.250000   \n",
       "Zylan Cheatham          2.210062e+07     0.000000        0.000000   \n",
       "\n",
       "                        per_game_3p_misses  per_game_3pa  three_score_v1  \\\n",
       "player                                                                     \n",
       "Joe Harris                        3.357143      6.285714        1.598330   \n",
       "Lonzo Ball                        4.085714      7.228571        1.598913   \n",
       "Stephen Curry                     6.203125     10.328125        1.890991   \n",
       "Luke Kennard                      3.231884      5.942029        1.443182   \n",
       "Klay Thompson                     5.312500      8.875000        1.670665   \n",
       "...                                    ...           ...             ...   \n",
       "Xavier Sneed                      0.000000      0.166667        0.166667   \n",
       "Myles Powell                      0.000000      0.200000        0.200000   \n",
       "Quinndary Weatherspoon            0.000000      0.200000        0.200000   \n",
       "Isaac Bonga                       0.000000      0.250000        0.250000   \n",
       "Zylan Cheatham                    0.000000      0.000000        0.000000   \n",
       "\n",
       "                        three_score_v2  three_score_v3  made_threes_rank  \\\n",
       "player                                                                     \n",
       "Joe Harris                    2.263451        4.775765                18   \n",
       "Lonzo Ball                    2.370885        4.399286                 7   \n",
       "Stephen Curry                 3.007995        4.107970                 1   \n",
       "Luke Kennard                  2.076663        4.088475                26   \n",
       "Klay Thompson                 2.616582        3.822966                 3   \n",
       "...                                ...             ...               ...   \n",
       "Xavier Sneed                  0.166667        0.000000               504   \n",
       "Myles Powell                  0.200000        0.000000               500   \n",
       "Quinndary Weatherspoon        0.200000        0.000000               501   \n",
       "Isaac Bonga                   0.250000        0.000000               494   \n",
       "Zylan Cheatham                0.000000        0.000000               555   \n",
       "\n",
       "                        game_three_pct_rank  per_game_3p_misses_rank  \\\n",
       "player                                                                 \n",
       "Joe Harris                               23                       51   \n",
       "Lonzo Ball                               40                       28   \n",
       "Stephen Curry                            71                        1   \n",
       "Luke Kennard                             26                       58   \n",
       "Klay Thompson                           121                        4   \n",
       "...                                     ...                      ...   \n",
       "Xavier Sneed                            486                      550   \n",
       "Myles Powell                            464                      553   \n",
       "Quinndary Weatherspoon                  465                      552   \n",
       "Isaac Bonga                             421                      554   \n",
       "Zylan Cheatham                          555                      555   \n",
       "\n",
       "                        per_game_3pa_rank  three_score_v1_rank  \\\n",
       "player                                                           \n",
       "Joe Harris                             40                    4   \n",
       "Lonzo Ball                             21                    3   \n",
       "Stephen Curry                           1                    1   \n",
       "Luke Kennard                           49                   10   \n",
       "Klay Thompson                           4                    2   \n",
       "...                                   ...                  ...   \n",
       "Xavier Sneed                          504                  492   \n",
       "Myles Powell                          502                  484   \n",
       "Quinndary Weatherspoon                503                  483   \n",
       "Isaac Bonga                           501                  470   \n",
       "Zylan Cheatham                        555                  555   \n",
       "\n",
       "                        three_score_v2_rank  three_score_v3_rank  \n",
       "player                                                            \n",
       "Joe Harris                                9                    1  \n",
       "Lonzo Ball                                5                    2  \n",
       "Stephen Curry                             1                    3  \n",
       "Luke Kennard                             23                    4  \n",
       "Klay Thompson                             2                    5  \n",
       "...                                     ...                  ...  \n",
       "Xavier Sneed                            502                  551  \n",
       "Myles Powell                            497                  552  \n",
       "Quinndary Weatherspoon                  496                  553  \n",
       "Isaac Bonga                             492                  554  \n",
       "Zylan Cheatham                          555                  555  \n",
       "\n",
       "[555 rows x 15 columns]"
      ]
     },
     "execution_count": 74,
     "metadata": {},
     "output_type": "execute_result"
    }
   ],
   "source": [
    "season_threes"
   ]
  },
  {
   "cell_type": "code",
   "execution_count": 79,
   "id": "c04a44b5",
   "metadata": {},
   "outputs": [
    {
     "data": {
      "text/html": [
       "<div>\n",
       "<style scoped>\n",
       "    .dataframe tbody tr th:only-of-type {\n",
       "        vertical-align: middle;\n",
       "    }\n",
       "\n",
       "    .dataframe tbody tr th {\n",
       "        vertical-align: top;\n",
       "    }\n",
       "\n",
       "    .dataframe thead th {\n",
       "        text-align: right;\n",
       "    }\n",
       "</style>\n",
       "<table border=\"1\" class=\"dataframe\">\n",
       "  <thead>\n",
       "    <tr style=\"text-align: right;\">\n",
       "      <th></th>\n",
       "      <th>player</th>\n",
       "      <th>player_id</th>\n",
       "      <th>team</th>\n",
       "      <th>team_id</th>\n",
       "      <th>game_id</th>\n",
       "      <th>home</th>\n",
       "      <th>period</th>\n",
       "      <th>abs_time</th>\n",
       "      <th>play_time</th>\n",
       "      <th>since_rest</th>\n",
       "      <th>loc_x</th>\n",
       "      <th>loc_y</th>\n",
       "      <th>zone</th>\n",
       "      <th>shot_type</th>\n",
       "      <th>score_margin</th>\n",
       "      <th>points</th>\n",
       "      <th>fg_pct</th>\n",
       "      <th>shot_result</th>\n",
       "    </tr>\n",
       "  </thead>\n",
       "  <tbody>\n",
       "    <tr>\n",
       "      <th>83413</th>\n",
       "      <td>Zylan Cheatham</td>\n",
       "      <td>1629597</td>\n",
       "      <td>Utah Jazz</td>\n",
       "      <td>1610612762</td>\n",
       "      <td>22100624</td>\n",
       "      <td>True</td>\n",
       "      <td>3</td>\n",
       "      <td>1900</td>\n",
       "      <td>1900.0</td>\n",
       "      <td>127.0</td>\n",
       "      <td>199</td>\n",
       "      <td>164</td>\n",
       "      <td>L Below Break/Corner</td>\n",
       "      <td>Jump Shot</td>\n",
       "      <td>-23</td>\n",
       "      <td>0</td>\n",
       "      <td>1.0</td>\n",
       "      <td>Missed Shot</td>\n",
       "    </tr>\n",
       "    <tr>\n",
       "      <th>83414</th>\n",
       "      <td>Zylan Cheatham</td>\n",
       "      <td>1629597</td>\n",
       "      <td>Utah Jazz</td>\n",
       "      <td>1610612762</td>\n",
       "      <td>22100624</td>\n",
       "      <td>True</td>\n",
       "      <td>3</td>\n",
       "      <td>1953</td>\n",
       "      <td>1953.0</td>\n",
       "      <td>180.0</td>\n",
       "      <td>-229</td>\n",
       "      <td>1</td>\n",
       "      <td>R Center</td>\n",
       "      <td>Jump Shot</td>\n",
       "      <td>-25</td>\n",
       "      <td>0</td>\n",
       "      <td>0.0</td>\n",
       "      <td>Missed Shot</td>\n",
       "    </tr>\n",
       "  </tbody>\n",
       "</table>\n",
       "</div>"
      ],
      "text/plain": [
       "               player  player_id       team     team_id   game_id  home  \\\n",
       "83413  Zylan Cheatham    1629597  Utah Jazz  1610612762  22100624  True   \n",
       "83414  Zylan Cheatham    1629597  Utah Jazz  1610612762  22100624  True   \n",
       "\n",
       "       period  abs_time  play_time  since_rest  loc_x  loc_y  \\\n",
       "83413       3      1900     1900.0       127.0    199    164   \n",
       "83414       3      1953     1953.0       180.0   -229      1   \n",
       "\n",
       "                       zone  shot_type  score_margin  points  fg_pct  \\\n",
       "83413  L Below Break/Corner  Jump Shot           -23       0     1.0   \n",
       "83414              R Center  Jump Shot           -25       0     0.0   \n",
       "\n",
       "       shot_result  \n",
       "83413  Missed Shot  \n",
       "83414  Missed Shot  "
      ]
     },
     "execution_count": 79,
     "metadata": {},
     "output_type": "execute_result"
    }
   ],
   "source": [
    "df[df.player == 'Zylan Cheatham']"
   ]
  },
  {
   "cell_type": "code",
   "execution_count": 78,
   "id": "553b93b3",
   "metadata": {
    "scrolled": false
   },
   "outputs": [
    {
     "data": {
      "image/png": "[encoded data removed]",
      "text/plain": [
       "<Figure size 1728x6912 with 7 Axes>"
      ]
     },
     "metadata": {
      "needs_background": "light"
     },
     "output_type": "display_data"
    }
   ],
   "source": [
    "plt.figure(figsize = (24,96))\n",
    "plt.subplot(711)\n",
    "sns.histplot(data = season_threes, x='made_threes', bins = 55)\n",
    "plt.subplot(712)\n",
    "sns.histplot(data = season_threes, x='game_three_pct', bins = 55)\n",
    "plt.subplot(713)\n",
    "sns.histplot(data = season_threes, x='per_game_3p_misses', bins = 55)\n",
    "plt.subplot(714)\n",
    "sns.histplot(data = season_threes, x='per_game_3pa', bins = 55)\n",
    "plt.subplot(715)\n",
    "sns.histplot(data = season_threes, x='three_score_v1', bins = 55)\n",
    "plt.subplot(716)\n",
    "sns.histplot(data = season_threes, x='three_score_v2', bins = 55)\n",
    "plt.subplot(717)\n",
    "sns.histplot(data = season_threes, x='three_score_v3', bins = 55)\n",
    "plt.show()"
   ]
  },
  {
   "cell_type": "markdown",
   "id": "0427b0d2",
   "metadata": {},
   "source": [
    "## ADD IN GAME RESULTS back to game_threes"
   ]
  },
  {
   "cell_type": "code",
   "execution_count": 80,
   "id": "90dff5e5",
   "metadata": {},
   "outputs": [],
   "source": [
    "season_threes.to_csv('season_3pt_scores.csv')"
   ]
  },
  {
   "cell_type": "code",
   "execution_count": null,
   "id": "7f47646d",
   "metadata": {},
   "outputs": [],
   "source": [
    "season_tots = game_threes.groupby('player').agg('sum')"
   ]
  },
  {
   "cell_type": "code",
   "execution_count": null,
   "id": "a2352c27",
   "metadata": {},
   "outputs": [],
   "source": [
    "season_tots.sort_values('made_threes', ascending = False)"
   ]
  },
  {
   "cell_type": "code",
   "execution_count": null,
   "id": "f8d05f62",
   "metadata": {},
   "outputs": [],
   "source": [
    "pd.crosstab(train.zone,train.shot_type)"
   ]
  }
 ],
 "metadata": {
  "kernelspec": {
   "display_name": "Python 3 (ipykernel)",
   "language": "python",
   "name": "python3"
  },
  "language_info": {
   "codemirror_mode": {
    "name": "ipython",
    "version": 3
   },
   "file_extension": ".py",
   "mimetype": "text/x-python",
   "name": "python",
   "nbconvert_exporter": "python",
   "pygments_lexer": "ipython3",
   "version": "3.9.7"
  }
 },
 "nbformat": 4,
 "nbformat_minor": 5
}
