{
 "cells": [
  {
   "cell_type": "markdown",
   "id": "47da39c4",
   "metadata": {},
   "source": [
    "# $\\mathbf{TAKE}$ $\\mathbf{THE}$ $\\mathbf{SHOT}$ $\\mathbf{OR}$ $\\mathbf{NOT?}$\n",
    "## *Shot Caller for Ballers: 3-point shooting analysis and success modeling*  \n",
    "### Prepared for The NBA Advanced Statistics Forum\n",
    "\n",
    "$\\rightarrow$ Report by Jen Eyring, Ryan Miller and Lincoln Muriithi | Analytics & Data Science Team | 8/19/2022"
   ]
  },
  {
   "cell_type": "markdown",
   "id": "802cac41",
   "metadata": {},
   "source": [
    "----"
   ]
  },
  {
   "cell_type": "markdown",
   "id": "c0f1acd3",
   "metadata": {},
   "source": [
    "<a id=\"execsummary\"></a>"
   ]
  },
  {
   "cell_type": "markdown",
   "id": "25eb8df6",
   "metadata": {},
   "source": [
    "# 🏀 Executive Summary"
   ]
  },
  {
   "cell_type": "markdown",
   "id": "e8eeda1c",
   "metadata": {},
   "source": [
    "### Question: [Exoplanets](https://en.wikipedia.org/wiki/Exoplanet) are planets outside of our solar system and we're entering a new era of exoplanet discovery with the [James Webb Space Telescope (JWST)](https://www.jwst.nasa.gov/) coming online.  Expanding on the Kepler telescope and a number of other telescopes/missions geared towards exoplanet discovery, the JWST will allow humanity to glimpse further into the unverse than ever before; but, it can also get amazing detail of things much closer.  In fact, under certain conditions, it can 'see' an extrasolar planet's atmosphere, possibly detecting telltale signs of life.  As such, with so many stars in our galaxy alone (~100 Billion) and assets limited to one telescope, can we identify stellar candidates that have 'Earthlike' planets to focus our attention on?  INCLUDE HERE THE 'WHY'!  EXPECIALLY IF YOU CAN INCLUDE A SMALL LITTLE GRAPH SHOWING THE DIFFERENCE BETWEEN WINNERS AND LOSERS IN 3 POINT SHOOTING\n",
    "##### Note: For this study, I defined 'Earthlike' as planets that have a gravity level that could support earth-like life, as this will present the most familiar signs of organic activity for identification .  Details of how this was determined can be found in this notebook. \n",
    "### Actions: Using [exoplanet telescope data consolidated by CalTech](https://exoplanetarchive.ipac.caltech.edu/), I attempted to filter and identify key characteristics of stars with earthlike planets - with the goal of identifying planets which would most likely harbor detectable life.  As such, I did a detailed analysis of the best data I could put together on every planet so far discovered to see if there were any clear drivers of having earthlike planets.  Modeling was attempted to see if an ML Classification Model could be used to classify new and existing stellar candidates.\n",
    "### Conclusions:  Even with extensive analysis, there was not much success in identifying clear characteristics of stars which harbor Earthlike planets.  Modeling also failed to improve on baseline.  Overall this is not surprising as this is a very new field stretching cutting edge instruments to their furtherst capabilities.\n",
    "### Recommendations: Continue to cluster stellar characteristics in an attempt to find one statistically signifigant as an indicator of Earthlike planets.  Also, an imputing algorithm can be used to capture a number of planets that had nulls that could not be filled simply by combing and finding the mean of all available data for that planet.  Lastly, focus early JWST studies on building a dataset which allows for modeling the likelihood of a star having an earthlike planet, as this will make it a better tool in the long run by continually improving its targeting."
   ]
  },
  {
   "cell_type": "markdown",
   "id": "8696f42a",
   "metadata": {},
   "source": [
    "#### Do a hypthesis test on the last 10 years"
   ]
  },
  {
   "cell_type": "markdown",
   "id": "99282f67",
   "metadata": {},
   "source": [
    "## Report Contents:\n",
    "- ### [Executive Summary](#execsummary)\n",
    "- ### [Libraries](#libraries)\n",
    "- ### [Data Acquisition and Summary Analysis](#dasa)\n",
    "- ### [EDA and Feature Engineering](#EDA)\n",
    "- ### [Modeling](#modeling)\n",
    "- ### [Conclusions](#conclusions)"
   ]
  },
  {
   "cell_type": "markdown",
   "id": "443af0f7",
   "metadata": {},
   "source": [
    "***"
   ]
  },
  {
   "cell_type": "markdown",
   "id": "262c2539",
   "metadata": {},
   "source": [
    " <a id=\"libraries\"></a>"
   ]
  },
  {
   "cell_type": "markdown",
   "id": "19b79257",
   "metadata": {},
   "source": [
    "# 🏀 Libraries Required for Analysis"
   ]
  },
  {
   "cell_type": "markdown",
   "id": "50cc47b6",
   "metadata": {},
   "source": [
    "Common DS Libraries"
   ]
  },
  {
   "cell_type": "code",
   "execution_count": null,
   "id": "2bfb99a0",
   "metadata": {},
   "outputs": [],
   "source": [
    "# For data analysis:\n",
    "import numpy as np\n",
    "import pandas as pd\n",
    "\n",
    "# Graphs/Visualizations:\n",
    "import seaborn as sns\n",
    "import matplotlib.pyplot as plt\n",
    "%matplotlib inline\n",
    "\n",
    "# For Statistics and Hypothesis Testing:\n",
    "import scipy.stats as stats\n",
    "\n",
    "# For Modeling:\n",
    "from itertools import combinations\n",
    "from itertools import product\n",
    "from sklearn.metrics import confusion_matrix\n",
    "from sklearn.tree import DecisionTreeClassifier, plot_tree\n",
    "from sklearn.ensemble import RandomForestClassifier, ExtraTreesClassifier, BaggingClassifier\n",
    "from sklearn.neighbors import KNeighborsClassifier\n",
    "from sklearn.linear_model import LogisticRegression\n",
    "from sklearn.cluster import KMeans\n",
    "from sklearn.model_selection import train_test_split\n",
    "\n",
    "# Necessary Modules\n",
    "import os\n",
    "import time"
   ]
  },
  {
   "cell_type": "markdown",
   "id": "f513085f",
   "metadata": {},
   "source": [
    "NBA API Endpoint Grabbers"
   ]
  },
  {
   "cell_type": "code",
   "execution_count": null,
   "id": "badca0cd",
   "metadata": {},
   "outputs": [],
   "source": [
    "from nba_api.stats.static import teams\n",
    "from nba_api.stats.static import players\n",
    "from nba_api.stats.endpoints import gamerotation\n",
    "from nba_api.stats.endpoints import shotchartdetail\n",
    "from nba_api.stats.endpoints import teamplayerdashboard\n",
    "from nba_api.stats.endpoints import winprobabilitypbp\n",
    "from nba_api.stats.endpoints import leaguegamefinder"
   ]
  },
  {
   "cell_type": "markdown",
   "id": "13768bf9",
   "metadata": {},
   "source": [
    "Helper Functions"
   ]
  },
  {
   "cell_type": "code",
   "execution_count": null,
   "id": "8c2ad26e",
   "metadata": {},
   "outputs": [],
   "source": [
    "#from acquire import\n",
    "#from wrangle import\n",
    "#from explore import\n",
    "#from model import"
   ]
  },
  {
   "cell_type": "markdown",
   "id": "961788f1",
   "metadata": {},
   "source": [
    "Others"
   ]
  },
  {
   "cell_type": "code",
   "execution_count": null,
   "id": "2c013224",
   "metadata": {},
   "outputs": [],
   "source": [
    "#Ignore Warnings:\n",
    "import warnings\n",
    "warnings.filterwarnings('ignore')\n",
    "\n",
    "# reloads import files each time a cell is ran (makes your life easier)\n",
    "%load_ext autoreload\n",
    "%autoreload 2\n",
    "\n",
    "# Shows all columns of a dataframe\n",
    "pd.set_option('display.max_columns', None)"
   ]
  },
  {
   "cell_type": "markdown",
   "id": "c5e5aae0",
   "metadata": {},
   "source": [
    "<a id=\"dasa\"></a>"
   ]
  },
  {
   "cell_type": "markdown",
   "id": "7eede039",
   "metadata": {},
   "source": [
    "# 🏀 Data Acquisition and Summary Analysis"
   ]
  },
  {
   "cell_type": "markdown",
   "id": "b3ff2cd1",
   "metadata": {},
   "source": [
    "#### Source description (NBA stats via API)"
   ]
  },
  {
   "cell_type": "markdown",
   "id": "936e17c4",
   "metadata": {},
   "source": [
    "#### Raw Data Description - and which endpoint it was pulled from and why"
   ]
  },
  {
   "cell_type": "markdown",
   "id": "8161cf95",
   "metadata": {},
   "source": [
    "#### Describe Acquisition Steps\n",
    "- Mention workbook with step by step"
   ]
  },
  {
   "cell_type": "markdown",
   "id": "7921cfd6",
   "metadata": {},
   "source": [
    "#### Describe dropped and calculated columns"
   ]
  },
  {
   "cell_type": "markdown",
   "id": "4de740ae",
   "metadata": {},
   "source": [
    "- 3 point clustering: ok with all data since it was a simple kmeans\n",
    "    - maybe a side-by-side of clusters and a shot example\n",
    "- dropping win_prob\n",
    "- outlier analysis (distance) - how many rows lost\n",
    "    - Distance\n",
    "- b"
   ]
  },
  {
   "cell_type": "markdown",
   "id": "f4359f6d",
   "metadata": {},
   "source": [
    "acquire functions and info and head"
   ]
  },
  {
   "cell_type": "markdown",
   "id": "158a40c4",
   "metadata": {},
   "source": [
    "#### Note on univariate distributions - Key Takeaways"
   ]
  },
  {
   "cell_type": "markdown",
   "id": "4b91eb9b",
   "metadata": {},
   "source": [
    "<a id=\"EDA\"></a>"
   ]
  },
  {
   "cell_type": "markdown",
   "id": "448e853e",
   "metadata": {},
   "source": [
    "# 🏀 Exploratory Data Analysis and Feature Engineering"
   ]
  },
  {
   "cell_type": "markdown",
   "id": "a70343aa",
   "metadata": {},
   "source": [
    "#### Pre-Processing - Wrangle (acquire)"
   ]
  },
  {
   "cell_type": "markdown",
   "id": "21a04dc4",
   "metadata": {},
   "source": [
    "#### Building features around three point scoring, cumulative stats, etc."
   ]
  },
  {
   "cell_type": "markdown",
   "id": "bc21e217",
   "metadata": {},
   "source": [
    "#### Ran the following\n",
    "- heatmap correlation between all numericals, unscaled\n",
    "- plot all numericals against target (barplots, t-test and ANOVA)\n",
    "- plot all categorical against target (chi-squared and \n",
    "- do some interesting multivariable analysis"
   ]
  },
  {
   "cell_type": "markdown",
   "id": "b89e5591",
   "metadata": {},
   "source": [
    "<a id=\"modeling\"></a>"
   ]
  },
  {
   "cell_type": "markdown",
   "id": "d637cc97",
   "metadata": {},
   "source": [
    "# 🏀 Modeling"
   ]
  },
  {
   "cell_type": "markdown",
   "id": "94f5548a",
   "metadata": {},
   "source": [
    "- Process\n",
    "- Dropping features\n",
    "- ensemble\n",
    "- results - for general leaguewide model, x% better than baseline on unseen data\n",
    "    - doesnt do much better, talk about accuracy vs precision vs. recall.  thus we tried it on individual players, starting with our elites\n",
    "- Discovered even with the metric we built which we hoped would help predict the next shot, indivdiaul player idiosyncrazcites made it hard to model the league as a group.  Thus we decided to analyze this on individual players.\n",
    "- Show dataframe with individual players\n",
    "- Interestngly enough some players lend thmselves better to modeling than others.  Good next step for investigation."
   ]
  },
  {
   "cell_type": "markdown",
   "id": "e422b25c",
   "metadata": {},
   "source": [
    "<a id=\"conclusions\"></a>"
   ]
  },
  {
   "cell_type": "markdown",
   "id": "df200074",
   "metadata": {},
   "source": [
    "# 🏀 Conclusions"
   ]
  },
  {
   "cell_type": "markdown",
   "id": "03349396",
   "metadata": {},
   "source": [
    "Summary of biggest key takeaways"
   ]
  },
  {
   "cell_type": "markdown",
   "id": "1864451a",
   "metadata": {},
   "source": [
    "Recap of model Performance"
   ]
  },
  {
   "cell_type": "markdown",
   "id": "bc5a3d5c",
   "metadata": {},
   "source": [
    "Recommendations and Next Steps\n",
    "- Dip deeper into NBA API to find additional features that were filter based.  Requires more computing power due to the complexity of the API calls needed\n",
    "- Also run the ensemble modeling on every player to get a invidual view\n",
    "- Add in additional years of data for veterans"
   ]
  }
 ],
 "metadata": {
  "kernelspec": {
   "display_name": "Python 3 (ipykernel)",
   "language": "python",
   "name": "python3"
  },
  "language_info": {
   "codemirror_mode": {
    "name": "ipython",
    "version": 3
   },
   "file_extension": ".py",
   "mimetype": "text/x-python",
   "name": "python",
   "nbconvert_exporter": "python",
   "pygments_lexer": "ipython3",
   "version": "3.9.7"
  }
 },
 "nbformat": 4,
 "nbformat_minor": 5
}
